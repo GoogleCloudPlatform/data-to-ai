{
 "cells": [
  {
   "cell_type": "code",
   "execution_count": null,
   "metadata": {
    "id": "jx601XnXvnfk"
   },
   "outputs": [],
   "source": [
    "# Copyright 2025 Google LLC\n",
    "#\n",
    "# Licensed under the Apache License, Version 2.0 (the \"License\");\n",
    "# you may not use this file except in compliance with the License.\n",
    "# You may obtain a copy of the License at\n",
    "#\n",
    "#     https://www.apache.org/licenses/LICENSE-2.0\n",
    "#\n",
    "# Unless required by applicable law or agreed to in writing, software\n",
    "# distributed under the License is distributed on an \"AS IS\" BASIS,\n",
    "# WITHOUT WARRANTIES OR CONDITIONS OF ANY KIND, either express or implied.\n",
    "# See the License for the specific language governing permissions and\n",
    "# limitations under the License."
   ]
  },
  {
   "cell_type": "markdown",
   "metadata": {
    "id": "S_rMH3sya6-G"
   },
   "source": [
    "# GenAI functionality in BigQuery\n",
    "*powered by BigQuery and Gemini*"
   ]
  },
  {
   "metadata": {
    "id": "y3_naPWjUtMa"
   },
   "cell_type": "markdown",
   "source": [
    "<table align=\"left\">\n",
    "<td style=\"text-align: center\">\n",
    "  <a href=\"https://colab.research.google.com/github/GoogleCloudPlatform/data-to-ai/blob/main/labs/genai_in_bigquery.ipynb\">\n",
    "    <img width=\"32px\" src=\"https://www.gstatic.com/pantheon/images/bigquery/welcome_page/colab-logo.svg\" alt=\"Google Colaboratory logo\"><br> Open in Colab\n",
    "  </a>\n",
    "</td>\n",
    "<td style=\"text-align: center\">\n",
    "  <a href=\"https://console.cloud.google.com/vertex-ai/colab/import/https:%2F%2Fraw.githubusercontent.com%2FGoogleCloudPlatform%2Fdata-to-ai%2Fmain%2Flabs%2Fgenai_in_bigquery.ipynb\">\n",
    "    <img width=\"32px\" src=\"https://lh3.googleusercontent.com/JmcxdQi-qOpctIvWKgPtrzZdJJK-J3sWE1RsfjZNwshCFgE_9fULcNpuXYTilIR2hjwN\" alt=\"Google Cloud Colab Enterprise logo\"><br> Open in Colab Enterprise\n",
    "  </a>\n",
    "</td>\n",
    "<td style=\"text-align: center\">\n",
    "  <a href=\"https://console.cloud.google.com/vertex-ai/workbench/deploy-notebook?download_url=https://raw.githubusercontent.com/GoogleCloudPlatform/data-to-ai/main/labs/genai_in_bigquery.ipynb\">\n",
    "    <img src=\"https://www.gstatic.com/images/branding/gcpiconscolors/vertexai/v1/32px.svg\" alt=\"Vertex AI logo\"><br> Open in Vertex AI Workbench\n",
    "  </a>\n",
    "</td>\n",
    "<td style=\"text-align: center\">\n",
    "  <a href=\"https://console.cloud.google.com/bigquery/import?url=https://github.com/GoogleCloudPlatform/data-to-ai/blob/main/labs/genai_in_bigquery.ipynb\">\n",
    "    <img src=\"https://www.gstatic.com/images/branding/gcpiconscolors/bigquery/v1/32px.svg\" alt=\"BigQuery Studio logo\"><br> Open in BigQuery Studio\n",
    "  </a>\n",
    "</td>\n",
    "<td style=\"text-align: center\">\n",
    "  <a href=\"https://github.com/GoogleCloudPlatform/data-to-ai/blob/main/labs/genai_in_bigquery.ipynb\">\n",
    "    <img width=\"32px\" src=\"https://upload.wikimedia.org/wikipedia/commons/9/91/Octicons-mark-github.svg\" alt=\"GitHub logo\"><br> View on GitHub\n",
    "  </a>\n",
    "</table>"
   ]
  },
  {
   "cell_type": "markdown",
   "metadata": {
    "editable": true,
    "id": "Ih_0xYMjxDzs",
    "jp-MarkdownHeadingCollapsed": true,
    "tags": []
   },
   "source": [
    "## Overview\n",
    "\n",
    "This notebook showcases the power of multimodal Gemini models and BigQuery vector search for an image analysis use case. We'll explore how these integrated capabilities can be used to enable searching and monitoring of physical assets.\n",
    "\n",
    "This notebook will highlight:\n",
    "\n",
    "* Using Gemini for multimodal analysis. Gemini will extract relevant details from images, and identify issues ranging from litter to broken benches, damaged shelters, or other potential safety hazards.\n",
    "* Using BigQuery SQL for orchestrating image processing. BigQuery will have access to images in Cloud Storage via an object table. It will store Gemini output which comprises both image attributes (structured data) and description (unstructured data) in a native BigQuery table.\n",
    "* Using a text embedding model to generate vector embeddings from the textual descriptions to semantically represent the images and enable powerful semantic search using natural language.\n",
    "* Using BigQuery vector search capabilities for efficient retrieval of images, to help identify semantically similar images.\n",
    "* An approach to creating hybrid searches which combine the results of full text and vector search.\n",
    "\n",
    "We will use a set of bus stop images to do the analysis. For more details on the use case please refer to [this page](https://github.com/GoogleCloudPlatform/data-to-ai/blob/main/README.md#use-cases)."
   ]
  },
  {
   "cell_type": "markdown",
   "source": [
    "## Typical architecture"
   ],
   "metadata": {
    "id": "Ctzn78H7Fsix"
   }
  },
  {
   "cell_type": "markdown",
   "source": [
    "![Multimodal Processing Supporting Slides (1).jpg](data:image/jpeg;base64,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)\n"
   ],
   "metadata": {
    "id": "O9WAl4tJE_o5"
   }
  },
  {
   "cell_type": "markdown",
   "metadata": {
    "id": "K2xzHzicZS0U"
   },
   "source": [
    "## Getting started"
   ]
  },
  {
   "cell_type": "markdown",
   "metadata": {
    "id": "f0gvrkYSy8lp"
   },
   "source": "Let's first set some environment variables, including your Google Cloud project ID and the region to deploy resources into:"
  },
  {
   "cell_type": "code",
   "execution_count": null,
   "metadata": {
    "ExecuteTime": {
     "end_time": "2024-12-04T07:19:47.987991Z",
     "start_time": "2024-12-04T07:19:47.980576Z"
    },
    "id": "b_UnRN3H0mne"
   },
   "outputs": [],
   "source": [
    "import os\n",
    "\n",
    "PROJECT_ID = os.environ[\"GOOGLE_CLOUD_PROJECT\"]\n",
    "REGION = \"us-central1\"\n",
    "\n",
    "BUCKET_NAME = f\"{PROJECT_ID}-multimodal\"  # Bucket created in subsequent step"
   ]
  },
  {
   "cell_type": "markdown",
   "metadata": {
    "id": "kW2xu4bjcryM"
   },
   "source": [
    "### Enable necessary APIs"
   ]
  },
  {
   "cell_type": "code",
   "execution_count": null,
   "metadata": {
    "id": "6TbhvAsmcryM"
   },
   "outputs": [],
   "source": [
    "!gcloud services enable --project {PROJECT_ID} \\\n",
    "  bigqueryconnection.googleapis.com \\\n",
    "  bigquerystorage.googleapis.com \\\n",
    "  aiplatform.googleapis.com"
   ]
  },
  {
   "cell_type": "markdown",
   "metadata": {
    "id": "V-dWtX02amkF"
   },
   "source": [
    "### Install packages"
   ]
  },
  {
   "cell_type": "code",
   "execution_count": null,
   "metadata": {
    "id": "LLykEjyKZpS6"
   },
   "outputs": [],
   "source": [
    "%pip install --upgrade --user --quiet \\\n",
    "    google-cloud-aiplatform \\\n",
    "    google-cloud-bigquery"
   ]
  },
  {
   "cell_type": "markdown",
   "metadata": {
    "id": "ts9j-TgQaMM8"
   },
   "source": [
    "### Import libraries"
   ]
  },
  {
   "cell_type": "code",
   "execution_count": null,
   "metadata": {
    "id": "uj6OAruUmS45"
   },
   "outputs": [],
   "source": [
    "from google.cloud import bigquery\n",
    "import pandas as pd\n",
    "import seaborn as sns\n",
    "from IPython.display import HTML"
   ]
  },
  {
   "cell_type": "code",
   "execution_count": null,
   "metadata": {
    "id": "wtkyjl75afM-"
   },
   "outputs": [],
   "source": [
    "# initialize bigquery client\n",
    "\n",
    "from google.api_core.client_info import ClientInfo\n",
    "\n",
    "client = bigquery.Client()\n",
    "\n",
    "# set pandas styling options\n",
    "# Don't truncate strings in BigQuery query results\n",
    "pd.set_option('display.max_colwidth', None)"
   ]
  },
  {
   "cell_type": "markdown",
   "metadata": {
    "id": "OyKmmS6ZcryK"
   },
   "source": [
    "### Define utility functions"
   ]
  },
  {
   "cell_type": "markdown",
   "metadata": {
    "id": "4tnPVlJj4omA"
   },
   "source": [
    "We will use the following utility functions, in particular `upload_batch`, to copy images into a given Cloud Storage bucket with specific metadata such as bus stop id and the batch number. This is to simulate the real-world scenario of a transit monitoring solution uploading newly captured bus stop images (tagged with the bus stop ID) and in batches over time e.g. daily."
   ]
  },
  {
   "cell_type": "code",
   "execution_count": null,
   "metadata": {
    "ExecuteTime": {
     "end_time": "2024-12-04T21:40:33.093246Z",
     "start_time": "2024-12-04T21:40:33.081317Z"
    },
    "id": "cpezuRaaGSm9"
   },
   "outputs": [],
   "source": [
    "import re\n",
    "from typing import List, Dict, Union\n",
    "from google.cloud import storage\n",
    "\n",
    "def parse_gcs_uri(uri: str) -> tuple[str, str]:\n",
    "    \"\"\"\n",
    "    Parse Cloud Storage URI of the form gs://bucket or gs://bucket/path/to/file\n",
    "    \"\"\"\n",
    "    uri = uri.rstrip('/')\n",
    "    match = re.match(r'gs://([^/]+)(?:/(.*))?', uri)\n",
    "    if not match:\n",
    "        raise ValueError(f\"Invalid GCS URI format: {uri}\")\n",
    "    bucket_name, path = match.groups()\n",
    "    return bucket_name, path or ''\n",
    "\n",
    "\n",
    "def upload_batch(\n",
    "    batch: List[Dict[str, str]],\n",
    "    source: str,\n",
    "    target: str,\n",
    "    batch_number: Union[int, str]\n",
    "):\n",
    "    \"\"\"\n",
    "    Copy images from source Cloud Storage location to target with metadata.\n",
    "    \"\"\"\n",
    "    from google.api_core.client_info import ClientInfo\n",
    "    client = storage.Client()\n",
    "\n",
    "    source_bucket_name, source_prefix = parse_gcs_uri(source)\n",
    "    target_bucket_name, target_prefix = parse_gcs_uri(target)\n",
    "\n",
    "    source_bucket = client.bucket(source_bucket_name)\n",
    "    target_bucket = client.bucket(target_bucket_name)\n",
    "\n",
    "    count = 0\n",
    "    for item in batch:\n",
    "        try:\n",
    "            source_path = (\n",
    "                f\"{source_prefix}/{item['path']}\" if source_prefix\n",
    "                else item['path']\n",
    "            )\n",
    "            target_path = (\n",
    "                f\"{target_prefix}/{item['path']}\" if target_prefix\n",
    "                else item['path']\n",
    "            )\n",
    "\n",
    "            # Get source blob\n",
    "            source_blob = source_bucket.blob(source_path)\n",
    "            if not source_blob.exists():\n",
    "                raise FileNotFoundError(f\"Source file {source_path} not found\")\n",
    "\n",
    "            # Download the image bytes\n",
    "            image_bytes = source_blob.download_as_bytes()\n",
    "\n",
    "            # Prepare target blob with metadata\n",
    "            target_blob = target_bucket.blob(target_path)\n",
    "            target_blob.metadata = {\n",
    "                \"batch_number\": f\"batch-{batch_number}\",\n",
    "                **{k: str(v) for k, v in item.items() if k != \"path\"}\n",
    "            }\n",
    "\n",
    "            # Upload bytes\n",
    "            target_blob.upload_from_string(\n",
    "                image_bytes,\n",
    "                content_type=source_blob.content_type\n",
    "            )\n",
    "            count += 1\n",
    "            print(f\"({count}/{len(batch)}) Uploaded: {item['path']}\")\n",
    "\n",
    "        except Exception as e:\n",
    "            print(\"Error processing {item['path']}: {str(e)}\")\n"
   ]
  },
  {
   "cell_type": "markdown",
   "metadata": {
    "id": "OOj5ghywwo-E"
   },
   "source": [
    "Let's also define some styling functions to help display dataframes with embedded images."
   ]
  },
  {
   "cell_type": "code",
   "execution_count": null,
   "metadata": {
    "id": "SaTLntchiv2a"
   },
   "outputs": [],
   "source": [
    "# Generate HTML img tag from signed url\n",
    "def preview_image(uri):\n",
    "  if pd.notna(uri):\n",
    "    return f'<img src=\"{uri}\" style=\"width:300px; height:auto; transition: transform 0.25s ease; border: 1px solid black;\" onmouseover=\"this.style.transform=\\'scale(2.5)\\';\" onmouseout=\"this.style.transform=\\'scale(1.0)\\';\">'\n",
    "  else:\n",
    "    return None\n",
    "\n",
    "# Highlight rows where resolved is False in red\n",
    "def highlight_unresolved(row):\n",
    "    if not row['resolved']:\n",
    "        return ['background-color: #FFCCCC'] * len(row)\n",
    "    else:\n",
    "        return ['background-color: #90EE90'] * len(row)"
   ]
  },
  {
   "cell_type": "markdown",
   "metadata": {
    "id": "dMF3b8qecryM"
   },
   "source": [
    "## Create images dataset\n",
    "\n",
    "Let's create a Cloud Storage bucket to hold the images:"
   ]
  },
  {
   "cell_type": "code",
   "execution_count": null,
   "metadata": {
    "id": "n0C3BsFpcryM"
   },
   "outputs": [],
   "source": [
    "from google.cloud import storage\n",
    "from google.api_core import exceptions\n",
    "\n",
    "storage_client = storage.Client(project=PROJECT_ID)\n",
    "try:\n",
    "    bucket = storage_client.create_bucket(BUCKET_NAME, location=REGION)\n",
    "    print(f\"Bucket {BUCKET_NAME} created\")\n",
    "except exceptions.Conflict:\n",
    "    # Bucket already exists - return the existing bucket\n",
    "    bucket = storage_client.bucket(BUCKET_NAME)\n",
    "    print(f\"Bucket {BUCKET_NAME} already exists\")\n",
    "except Exception as e:\n",
    "    print(f\"Error creating bucket {BUCKET_NAME}: {e}\")"
   ]
  },
  {
   "cell_type": "markdown",
   "metadata": {
    "id": "UKBIdstiPCVJ"
   },
   "source": [
    "We'll copy the images from a public bucket with a large set of images to the `sources` folder in the newly created bucket."
   ]
  },
  {
   "cell_type": "code",
   "execution_count": null,
   "metadata": {
    "id": "fACW2dl2PAEI"
   },
   "outputs": [],
   "source": [
    "SOURCE_PATH = f\"gs://data-to-ai-01-multimodal/sources\"\n",
    "TARGET_PATH = f\"gs://{BUCKET_NAME}/sources\""
   ]
  },
  {
   "cell_type": "markdown",
   "metadata": {
    "id": "SK-wcSu3O_QE"
   },
   "source": [
    "## Set up BigQuery resources"
   ]
  },
  {
   "cell_type": "markdown",
   "metadata": {
    "id": "PXN_6CMHx1hZ"
   },
   "source": [
    "### Create Cloud Resource Connection"
   ]
  },
  {
   "cell_type": "markdown",
   "metadata": {
    "id": "sPEV7K5ocryM"
   },
   "source": [
    "Create a Cloud Resource connection:"
   ]
  },
  {
   "cell_type": "code",
   "execution_count": null,
   "metadata": {
    "id": "ScB5qNcxcryM"
   },
   "outputs": [],
   "source": [
    "!bq mk \\\n",
    "--connection \\\n",
    "--location={REGION} \\\n",
    "--project_id={PROJECT_ID} \\\n",
    "--connection_type=CLOUD_RESOURCE \\\n",
    "multimodal"
   ]
  },
  {
   "cell_type": "markdown",
   "metadata": {
    "id": "6Zi-zSPs4UDY"
   },
   "source": [
    "### Grant necessary IAM permissions"
   ]
  },
  {
   "cell_type": "markdown",
   "metadata": {
    "id": "rRfkvorr2YF7"
   },
   "source": [
    "Retrieve the connection service account email address. This connection service account's credentials will be used when making calls to Vertex AI and Cloud Storage."
   ]
  },
  {
   "metadata": {
    "id": "G0SBVaC0UtMh"
   },
   "cell_type": "code",
   "outputs": [],
   "execution_count": null,
   "source": [
    "import json\n",
    "import time\n",
    "\n",
    "i = 0\n",
    "while i < 3:\n",
    "  connection_details_json_str = !bq show --format json --connection {PROJECT_ID}.{REGION}.multimodal\n",
    "  connection_details_dict = json.loads(connection_details_json_str[0])\n",
    "  CONNECTION_SA_ID = connection_details_dict[\"cloudResource\"][\"serviceAccountId\"]\n",
    "  if CONNECTION_SA_ID:\n",
    "    break\n",
    "\n",
    "  # it's possible that this command failed, when ran immediately after the previous command\n",
    "  # this is due to the time it takes the API to be consistent due to async actions on Google Cloud\n",
    "  time.sleep(10)\n",
    "\n",
    "  i += 1\n",
    "\n",
    "if not CONNECTION_SA_ID:\n",
    "    raise ValueError(\"No Service Account detected for BQ Connection\")"
   ]
  },
  {
   "metadata": {
    "id": "LD_3cZQMUtMh"
   },
   "cell_type": "markdown",
   "source": [
    "Grant the connection service account Vertex AI User role:"
   ]
  },
  {
   "metadata": {
    "id": "c2seMlNMUtMh"
   },
   "cell_type": "code",
   "outputs": [],
   "execution_count": null,
   "source": [
    "!gcloud projects add-iam-policy-binding {PROJECT_ID} \\\n",
    "  --member='serviceAccount:{CONNECTION_SA_ID}' \\\n",
    "  --role='roles/aiplatform.user' --condition=None \\\n",
    "  --no-user-output-enabled"
   ]
  },
  {
   "cell_type": "markdown",
   "metadata": {
    "id": "7W666UoT2zGJ"
   },
   "source": [
    "Grant the connection service account Cloud Storage Object viewer role on the bucket"
   ]
  },
  {
   "cell_type": "code",
   "execution_count": null,
   "metadata": {
    "id": "1kOuJM-T2y2l"
   },
   "outputs": [],
   "source": [
    "!gcloud storage buckets add-iam-policy-binding 'gs://{BUCKET_NAME}' \\\n",
    "    --member='serviceAccount:{CONNECTION_SA_ID}' \\\n",
    "    --role=roles/storage.objectViewer\n"
   ]
  },
  {
   "cell_type": "markdown",
   "metadata": {
    "id": "l8Xc-oiSx-OP"
   },
   "source": [
    "### Create BigQuery dataset and tables"
   ]
  },
  {
   "cell_type": "markdown",
   "metadata": {
    "id": "CBRrrKA8j-i5"
   },
   "source": [
    "Create your BigQuery dataset"
   ]
  },
  {
   "cell_type": "code",
   "execution_count": null,
   "metadata": {
    "id": "sIyCa5XykApO"
   },
   "outputs": [],
   "source": [
    "!bq mk --location={REGION} --dataset {PROJECT_ID}:multimodal"
   ]
  },
  {
   "cell_type": "markdown",
   "metadata": {
    "id": "cj2VzliscryM"
   },
   "source": [
    "Create the objects table connected to the Cloud Storage bucket:"
   ]
  },
  {
   "cell_type": "code",
   "execution_count": null,
   "metadata": {
    "id": "BYuIWPC39ykZ",
    "scrolled": true
   },
   "outputs": [],
   "source": [
    "%%bigquery --pyformat\n",
    "CREATE OR REPLACE EXTERNAL TABLE `multimodal.objects`\n",
    "WITH CONNECTION `{REGION}.multimodal`\n",
    "OPTIONS(\n",
    "  object_metadata = 'SIMPLE',\n",
    "  uris = ['{TARGET_PATH}/*']\n",
    ")"
   ]
  },
  {
   "cell_type": "markdown",
   "metadata": {
    "id": "29e2WUR7h6sl"
   },
   "source": [
    "Create the BigQuery tables that we'll use in the demo:"
   ]
  },
  {
   "cell_type": "code",
   "execution_count": null,
   "metadata": {
    "id": "otc0QR9lf4-K"
   },
   "outputs": [],
   "source": [
    "%%bigquery\n",
    "CREATE OR REPLACE TABLE `multimodal.image_reports` (\n",
    "  report_id STRING,\n",
    "  uri STRING,\n",
    "  updated TIMESTAMP,\n",
    "  bus_stop_id STRING,\n",
    "  number_of_people INT64,\n",
    "  cleanliness_level INT64,\n",
    "  safety_level INT64,\n",
    "  description STRING\n",
    ");"
   ]
  },
  {
   "cell_type": "markdown",
   "metadata": {
    "id": "2pt8-guKHs-u"
   },
   "source": "### Create BigQuery remote models"
  },
  {
   "cell_type": "markdown",
   "metadata": {
    "id": "jc4kxq7bllMT"
   },
   "source": [
    "Now create a remote model which you'll use to analyze the pictures using a Gemini model in Vertex AI. No actual AI model is created in this step; this is\n",
    "just a \"link\" to the actual model in Vertex AI.\n",
    "\n",
    "*NOTE:* this model is only needed when using ML.GENERATE_TEXT function. Newer AI.GENERATE function directly refers to a Vertex AI model."
   ]
  },
  {
   "cell_type": "code",
   "execution_count": null,
   "metadata": {
    "id": "yEjRC9Nq0eYF"
   },
   "outputs": [],
   "source": [
    "%%bigquery --pyformat\n",
    "CREATE OR REPLACE MODEL `multimodal.gemini_flash_model`\n",
    "REMOTE WITH CONNECTION `{REGION}.multimodal`\n",
    "OPTIONS ( endpoint = 'gemini-2.5-flash' )"
   ]
  },
  {
   "cell_type": "markdown",
   "metadata": {
    "id": "iFqugRD9NWm4"
   },
   "source": [
    "Let's create a remote model to use Embedding Vertex AI endpoint to later generate vector embeddings over the textual description."
   ]
  },
  {
   "cell_type": "code",
   "execution_count": null,
   "metadata": {
    "id": "g2esGGhZNhIU"
   },
   "outputs": [],
   "source": [
    "%%bigquery --pyformat\n",
    "CREATE OR REPLACE MODEL `multimodal.text_embedding_model`\n",
    "REMOTE WITH CONNECTION `{REGION}.multimodal`\n",
    "OPTIONS ( ENDPOINT = 'gemini-embedding-001' )"
   ]
  },
  {
   "cell_type": "markdown",
   "metadata": {
    "id": "GDpNouHHyPTU"
   },
   "source": [
    "# Multimodal analysis with Gemini"
   ]
  },
  {
   "cell_type": "markdown",
   "metadata": {
    "id": "w9U4oNy0kfWR"
   },
   "source": [
    "Bus Stop Image Processing"
   ]
  },
  {
   "cell_type": "markdown",
   "metadata": {
    "id": "rNyIW5XWjEpH"
   },
   "source": [
    "Let's now look at a batch of pictures. We specify the pictures' filenames as well as the corresponding bus stop IDs:"
   ]
  },
  {
   "cell_type": "code",
   "execution_count": null,
   "metadata": {
    "ExecuteTime": {
     "end_time": "2024-12-04T07:18:17.758528Z",
     "start_time": "2024-12-04T07:18:17.755836Z"
    },
    "id": "5aVn-BPTmOyZ"
   },
   "outputs": [],
   "source": [
    "batch_1 = [\n",
    "    {\"path\": \"QD-01.jpg\", \"stop_id\": \"1\"},\n",
    "    {\"path\": \"NA-01.jpg\", \"stop_id\": \"3\"},\n",
    "    {\"path\": \"QB-01.jpg\", \"stop_id\": \"4\"},\n",
    "    {\"path\": \"PA-02.jpg\", \"stop_id\": \"5\"},\n",
    "    {\"path\": \"RD-02-dead-leaves.jpg\", \"stop_id\": \"6\"},\n",
    "    {\"path\": \"PC-01.jpg\", \"stop_id\": \"7\"},\n",
    "    {\"path\": \"NC-02.jpg\", \"stop_id\": \"8\"},\n",
    "    {\"path\": \"MD-02.jpg\", \"stop_id\": \"9\"},\n",
    "    {\"path\": \"PB-01.jpg\", \"stop_id\": \"13\"},\n",
    "    {\"path\": \"ND-02-damaged.jpg\", \"stop_id\": \"14\"},\n",
    "    {\"path\": \"QA-02-dirty.jpg\", \"stop_id\": \"15\"},\n",
    "    {\"path\": \"SD-03-dirty-damaged.jpg\", \"stop_id\": \"16\"},\n",
    "    {\"path\": \"MC-02-dirty-damaged.jpg\", \"stop_id\": \"17\"},\n",
    "    {\"path\": \"MA-01.jpg\", \"stop_id\": \"18\"},\n",
    "    {\"path\": \"SC-02-broken-glass.jpg\", \"stop_id\": \"21\"},\n",
    "    {\"path\": \"UB-01.jpg\", \"stop_id\": \"22\"},\n",
    "]"
   ]
  },
  {
   "cell_type": "markdown",
   "metadata": {
    "id": "ea5XnMQ8cryN"
   },
   "source": [
    "Upload the pictures to the bucket - the bus stop IDs are also attached to the files that land in the bucket:"
   ]
  },
  {
   "cell_type": "code",
   "execution_count": null,
   "metadata": {
    "id": "VSMj3VxpAhbH"
   },
   "outputs": [],
   "source": [
    "upload_batch(\n",
    "    batch=batch_1,\n",
    "    source=SOURCE_PATH,\n",
    "    target=TARGET_PATH,\n",
    "    batch_number=1\n",
    ")"
   ]
  },
  {
   "cell_type": "markdown",
   "metadata": {
    "id": "8_RlmILijQ3m"
   },
   "source": [
    "Let's see the contents of the object table that is linked to the bucket. You see the list of pictures as well as the bus stop IDs, which are stored as object metadata:"
   ]
  },
  {
   "cell_type": "code",
   "execution_count": null,
   "metadata": {
    "id": "iK6a6aZA6IqV"
   },
   "outputs": [],
   "source": [
    "%%bigquery objects_df\n",
    "SELECT * FROM `multimodal.objects`\n",
    "ORDER BY updated;"
   ]
  },
  {
   "cell_type": "code",
   "execution_count": null,
   "metadata": {
    "id": "lu9Nc4T06Nie"
   },
   "outputs": [],
   "source": [
    "objects_df[['uri', 'metadata']]"
   ]
  },
  {
   "cell_type": "markdown",
   "metadata": {
    "id": "_x-dLUUsXsjK"
   },
   "source": [
    "### Preview images"
   ]
  },
  {
   "cell_type": "markdown",
   "metadata": {
    "id": "PHL8yuEV6vOF"
   },
   "source": [
    "Let's preview the images. We'll use the corresponding Cloud Storage authenticated urls, then render them in the dataframe table. Note only users who are granted access to view the bucket objects, can access these images."
   ]
  },
  {
   "cell_type": "code",
   "execution_count": null,
   "metadata": {
    "id": "aXwWXXGa8M8R"
   },
   "outputs": [],
   "source": [
    "%%bigquery batch_df\n",
    "SELECT\n",
    "  uri, updated,\n",
    "  CONCAT(\"https://storage.mtls.cloud.google.com/\", SPLIT(uri, \"gs://\")[OFFSET(1)]) AS url,\n",
    "  metadata,\n",
    "FROM `multimodal.objects`, UNNEST(metadata) AS item\n",
    "WHERE item.name = \"batch_number\" AND item.value = \"batch-1\""
   ]
  },
  {
   "cell_type": "code",
   "execution_count": null,
   "metadata": {
    "id": "WKGJhNOP6upK"
   },
   "outputs": [],
   "source": [
    "batch_df['image'] = batch_df['url'].apply(preview_image)\n",
    "\n",
    "# Display the DataFrame with embedded images\n",
    "HTML(batch_df[['uri', 'image', 'metadata']].to_html(escape=False))"
   ]
  },
  {
   "cell_type": "markdown",
   "metadata": {
    "id": "k7qBLgXS8HFK"
   },
   "source": [
    "### Analyze images"
   ]
  },
  {
   "cell_type": "markdown",
   "metadata": {
    "id": "6AlyewNcjRBj"
   },
   "source": [
    "Now let's extract insights from the pictures. In particular, the query prompts a Gemini image model to assess the state of all bus stops. The provided prompt asks Gemini to rate the cleanliness and safety and to provide a detailed description of the scenes."
   ]
  },
  {
   "cell_type": "markdown",
   "source": [
    "There are three BigQuery functions which can call VertexAI models to process binary data - [ML.GENERATE_TEXT](https://cloud.google.com/bigquery/docs/reference/standard-sql/bigqueryml-syntax-generate-text), [AI.GENERATE_TABLE](https://cloud.google.com/bigquery/docs/reference/standard-sql/bigqueryml-syntax-generate-table) and [AI.GENERATE](https://cloud.google.com/bigquery/docs/reference/standard-sql/bigqueryml-syntax-ai-generate). The last one provides most of the functionality and we are going to use it in this lab."
   ],
   "metadata": {
    "id": "fWq2xQ8VEo9c"
   }
  },
  {
   "cell_type": "code",
   "source": [
    "%%bigquery --pyformat\n",
    "\n",
    "INSERT INTO multimodal.image_reports(report_id, uri, updated, bus_stop_id,\n",
    "  number_of_people, cleanliness_level, safety_level,description)\n",
    "WITH image_report AS (\n",
    "  SELECT\n",
    "    uri,\n",
    "    updated,\n",
    "    -- metadata is the special column of an object table; it contains all custom metadata of a Google Storage object\n",
    "    (SELECT value FROM UNNEST(metadata) WHERE name = 'stop_id') AS bus_stop_id,\n",
    "    AI.GENERATE(\n",
    "      ('''\n",
    "You are a transit supervisor responsible for monitoring bus stops in order to ensure they are safe and clean for everyone.\n",
    "Analyze these pictures of bus stop images and provide accurate details around safety and cleanliness in and around the bus stop. A bus stop consists of any combination of the following physical assets: a bench, a sign, a shelter, and/or a trash can.\n",
    "\n",
    "Identify these properties of the image:\n",
    "* \"number_of_people\" (Integer): Identify number of people in or around the bus stop.\n",
    "* \"cleanliness_level\" (Integer): Rate the general cleanliness of this bus stop. Possible values: 1=\"dirty and warrants cleaning\", 2=\"clean or mildly clean\". The following are examples of cleanliness issues: littering, broken glass, spillage of liquids or oil, ground covered in dead leaves, excessive dirt on benches that would prevent or detract from sitting, unsightly graffiti on the bus stop or surrounding area, disfigured amenities, and anything that would be very unsightly or unreasonably dirty.\n",
    "* \"safety_level\" (Integer): Rate the general safety of this bus stop. Possible values: 1=\"unsafe and warrants attention\", 2=\"safe and doesn't warrant attention\". The following are examples of safety issues: broken glass, fallen tree/branches, fire, flooding, electrical hazard, ground covered in dead leaves, dangerous objects, damaged benches/shelters/amenities, slippery ground (e.g. presence of potentially slippery ice on the ground), icicles, low lighting at night, and anything else that could potentially represent a safety hazard for people.\n",
    "* \"description\" (String): Provide a detailed textual description of what is in the picture, focusing on cleanliness and safety. This description should explain the cleanliness_level and safety_level scores you provided. This description has a maximum of 200 words. Include any sign of potential vandalism. Do not make things up. Do not make assumptions about the area or the neighborhood where the bus stop is located.\n",
    "    ''',\n",
    "      -- \"ref\" is a special column present in object tables\n",
    "      OBJ.GET_ACCESS_URL(ref, 'r')),\n",
    "      -- BigQuery will use the service account created for this connection\n",
    "      -- The user running the query needs to have permissions to use this connection.\n",
    "      connection_id => \"{PROJECT_ID}.{REGION}.multimodal\",\n",
    "      -- The model end point can be defined in SQL, no need to create a separate BigQuery MODEL.\n",
    "      -- The endpoint can point to models in the \"global\" location or to custom models deployed in Vertex AI\n",
    "      endpoint => 'gemini-2.5-flash',\n",
    "      -- Any Gemini parameters (except \"contents\") can be provided here, allowing advanced model execution tuning\n",
    "      -- NOTE: double curly braces are used here to escape Python formatting. Single braces should be used in SQL\n",
    "      model_params => JSON '{{\"generation_config\":{{\"thinking_config\": {{\"thinking_budget\": -1}} }} }}',\n",
    "      -- Structured output can be defined in the SQL. When using ML.GENERATE_TEXT it's necessary to parse JSON to extract values.\n",
    "      output_schema => 'number_of_people INT64, cleanliness_level INT64, safety_level INT64, description STRING') as llm_response\n",
    "        FROM `multimodal.objects` WHERE content_type = \"image/jpeg\")\n",
    "SELECT\n",
    "  GENERATE_UUID() as report_id,\n",
    "  uri,\n",
    "  updated,\n",
    "  bus_stop_id,\n",
    "  -- Here we access the fields provided in the \"output_schema\" parameter of AI.GENERATE\n",
    "  llm_response.number_of_people AS number_of_people,\n",
    "  llm_response.cleanliness_level AS cleanliness_level,\n",
    "  llm_response.safety_level AS safety_level,\n",
    "  llm_response.description AS description\n",
    "FROM image_report;"
   ],
   "metadata": {
    "id": "4EV1Qix7Xcay"
   },
   "execution_count": null,
   "outputs": []
  },
  {
   "metadata": {},
   "cell_type": "markdown",
   "source": "*Note:* If you run this cell and get an error related to lack of Cloud Storage permissions of the service account associated with the connection - wait a minute or two and retry. It's a race condition related to permission propagation."
  },
  {
   "cell_type": "markdown",
   "metadata": {
    "id": "FaAZ1E7CmHgU"
   },
   "source": [
    "\n",
    "Now let's look at the results in the reports table:\n",
    "* The list of pictures that were just uploaded and the corresponding stop IDs.\n",
    "* The cleanliness and safety ratings that Gemini provided.\n",
    "* Number of people detected in the picture\n",
    "* Textual descriptions of what Gemini could see in the pictures."
   ]
  },
  {
   "cell_type": "code",
   "execution_count": null,
   "metadata": {
    "id": "nEHklYMvcryR"
   },
   "outputs": [],
   "source": [
    "%%bigquery\n",
    "SELECT * FROM `multimodal.image_reports`;"
   ]
  },
  {
   "cell_type": "markdown",
   "metadata": {
    "id": "4qdX5KL9X7py"
   },
   "source": [
    "### Detect and prioritize incidents"
   ]
  },
  {
   "cell_type": "markdown",
   "metadata": {
    "id": "UkFpgEj6cryR"
   },
   "source": [
    "Now we can work with extracted image attributes and the free text image description.\n",
    "\n",
    "This query uses the extracted image attributes to identify bus stops which most likely require maintenance."
   ]
  },
  {
   "cell_type": "code",
   "execution_count": null,
   "metadata": {
    "id": "T3fiWFgqy9D7"
   },
   "outputs": [],
   "source": [
    "%%bigquery\n",
    "\n",
    "SELECT\n",
    "    bus_stop_id, cleanliness_level, safety_level, description,uri\n",
    "  FROM multimodal.image_reports\n",
    "  WHERE cleanliness_level <= 1 OR safety_level <= 1"
   ]
  },
  {
   "cell_type": "markdown",
   "metadata": {
    "id": "hq0Ft-g5jRLK"
   },
   "source": "There are quite a few stops that need attention. Here's how we can use a new BigQuery AI function to prioritize which one is urgent. (Note: AI.SCORE function may not be yet available in your project and this query might fail)."
  },
  {
   "cell_type": "code",
   "source": [
    "%%bigquery --pyformat\n",
    "\n",
   "SELECT\n",
   "  # Prompt example - not well tuned, but it gives an idea\n",
   "  AI.SCORE(CONCAT(\"\"\"On the scale 1 to 10, rate the maintenance need of a bus stop based on the description below.\n",
   "                    Most important is to address safety hazards: broken glass, broken benches, ice.\n",
   "                    Then rate by the need to remove graffiti, excessive garbage and peeling paint. Description: \"\"\", description),\n",
   "    # The function can be further customized by providing \"model_params\" which can control Gemini's processing\n",
   "    connection_id => \"{PROJECT_ID}.{REGION}.multimodal\") AS score,\n",
   "    bus_stop_id, cleanliness_level, safety_level, description,uri\n",
   "  FROM multimodal.image_reports\n",
   "  -- Prefilter the records to exclude the records which don't have obvious problems\n",
   "  WHERE cleanliness_level <= 1 OR safety_level <= 1\n",
   "  ORDER BY score DESC\n"
   ],
   "metadata": {
    "id": "KAXm_nPuAVLL"
   },
   "execution_count": null,
   "outputs": []
  },
  {
   "metadata": {},
   "cell_type": "markdown",
   "source": "*Note:* In the next lab you will be able to use an agent to help you prioritize maintenance of bus stops."
  },
  {
   "cell_type": "markdown",
   "metadata": {
    "id": "mkjuBIJE22Ld"
   },
   "source": [
    "# Semantic similarity search"
   ]
  },
  {
   "cell_type": "markdown",
   "metadata": {
    "id": "mRoSJhIEpvg9"
   },
   "source": [
    "### Generate vector embeddings of the image descriptions"
   ]
  },
  {
   "cell_type": "markdown",
   "metadata": {
    "id": "AxoqNVN1P7DT"
   },
   "source": [
    "Let's generate embeddings for image reports, specifically using the textual description field, so we can do semantic search"
   ]
  },
  {
   "cell_type": "code",
   "execution_count": null,
   "metadata": {
    "id": "miI0cjMX26Xk"
   },
   "outputs": [],
   "source": [
    "%%bigquery\n",
    "CREATE OR REPLACE TABLE `multimodal.image_reports_vector_db` AS (\n",
    "SELECT\n",
    "  report_id, uri, bus_stop_id, content as description,\n",
    "  cleanliness_level, safety_level,\n",
    "  ml_generate_embedding_result AS embedding,\n",
    "  ml_generate_embedding_status AS status\n",
    "FROM\n",
    "  ML.GENERATE_EMBEDDING(\n",
    "    MODEL `multimodal.text_embedding_model`,\n",
    "    (SELECT * EXCEPT(description), description as content FROM `multimodal.image_reports` WHERE description IS NOT NULL),\n",
    "    STRUCT('SEMANTIC_SIMILARITY' as task_type)\n",
    "  )\n",
    ");"
   ]
  },
  {
   "cell_type": "markdown",
   "metadata": {
    "id": "s-yUg85ep3kk"
   },
   "source": [
    "### Build vector index"
   ]
  },
  {
   "cell_type": "markdown",
   "metadata": {
    "id": "RGr8Tlo779Nh"
   },
   "source": [
    "The next query will most likely fail because the vector index needs a certain number of rows to be created. But the following queries will function correctly even if the index is not created, and you can always create the index later to improve the performance of the vector searches."
   ]
  },
  {
   "cell_type": "code",
   "execution_count": null,
   "metadata": {
    "id": "3hEKoTOCp8bI"
   },
   "outputs": [],
   "source": [
    "%%bigquery\n",
    "CREATE VECTOR INDEX index_ivf ON `multimodal.image_reports_vector_db`(embedding)\n",
    "STORING (report_id, uri, bus_stop_id, description, cleanliness_level, safety_level)\n",
    "OPTIONS (index_type = 'IVF', distance_type = 'COSINE')"
   ]
  },
  {
   "cell_type": "markdown",
   "metadata": {
    "id": "WV_sH-wSFyd-"
   },
   "source": [
    "### Define search helper function"
   ]
  },
  {
   "cell_type": "markdown",
   "metadata": {
    "id": "zP4TMXJaoq8_"
   },
   "source": [
    "Let's define this utility function for semantic search. This function generates the text embedding for the test query using the same `text_embedding_model` (and same task type), then runs the `VECTOR_SEARCH` query against the base table of embeddings for the vectors, that is `image_reports_vector_db` table. It then appends the authenticated url link to preview the results including the image."
   ]
  },
  {
   "cell_type": "code",
   "execution_count": null,
   "metadata": {
    "id": "bz-RnhB921xi"
   },
   "outputs": [],
   "source": [
    "def run_semantic_search(query:str):\n",
    "  escaped_query = query.replace(\"'\", \"''\").replace(\"\\\\\", \"\\\\\\\\\")\n",
    "\n",
    "  search_terms_embeddings_query = f\"\"\"\n",
    "    SELECT\n",
    "      query.content AS search, distance,\n",
    "      base.report_id, base.bus_stop_id, base.uri, base.description,\n",
    "      CONCAT(\"https://storage.mtls.cloud.google.com/\", SPLIT(base.uri, \"gs://\")[OFFSET(1)]) AS url,\n",
    "      base.cleanliness_level, base.safety_level\n",
    "    FROM\n",
    "      VECTOR_SEARCH(\n",
    "        TABLE `multimodal.image_reports_vector_db`,\n",
    "        'embedding',\n",
    "        (\n",
    "          SELECT * FROM ML.GENERATE_EMBEDDING(\n",
    "          MODEL `multimodal.text_embedding_model`,\n",
    "          (\n",
    "            SELECT '{escaped_query}' AS content\n",
    "          ),\n",
    "          STRUCT('SEMANTIC_SIMILARITY' as task_type))\n",
    "        ),\n",
    "        top_k => 5,\n",
    "        distance_type => 'COSINE'\n",
    "      )\n",
    "  \"\"\"\n",
    "\n",
    "  return client.query(search_terms_embeddings_query).to_dataframe()"
   ]
  },
  {
   "cell_type": "markdown",
   "metadata": {
    "id": "l9Xn1GwypPtS"
   },
   "source": "### Search for bus stops which have broken glass"
  },
  {
   "cell_type": "code",
   "execution_count": null,
   "metadata": {
    "id": "_FGs5fTsoo8h"
   },
   "outputs": [],
   "source": [
    "search_results_df = run_semantic_search('broken glass')\n",
    "search_results_df\n",
    "\n",
    "search_results_df['image'] = search_results_df['url'].apply(preview_image)\n",
    "\n",
    "# Display the DataFrame with embedded images\n",
    "HTML(search_results_df[['report_id', 'uri', 'distance', 'image', 'description']].to_html(escape=False))"
   ]
  },
  {
   "cell_type": "markdown",
   "metadata": {
    "id": "bWqVxgzar-D3"
   },
   "source": [
    "### Search for litter around bus stops\n",
    "\n",
    "If you read the image descriptions, you will notice that not all of the image descriptions contain the word \"litter\" even when it is present. But the query below will return those bus stops anyway. This is the power of semantic search compared to using the SEARCH() function which finds the actual word occurrences in the description."
   ]
  },
  {
   "cell_type": "code",
   "execution_count": null,
   "metadata": {
    "id": "-NUwUWZRr_0k"
   },
   "outputs": [],
   "source": [
    "search_results_df = run_semantic_search('litter')\n",
    "search_results_df\n",
    "\n",
    "search_results_df['image'] = search_results_df['url'].apply(preview_image)\n",
    "\n",
    "# Display the DataFrame with embedded images\n",
    "HTML(search_results_df[['bus_stop_id', 'uri', 'distance', 'image', 'description']].to_html(escape=False))"
   ]
  },
  {
   "cell_type": "markdown",
   "source": [
    "**Notes:** Be aware that unlike the SEARCH() function, vector searches will always return results, even if there is no real match. When building applications based on vector searches additional testing  needs to be done to determine the threshold of the \"distance\" value which indicates that the result is too far away in the vector space and should not be returned. A typical way to do that is to add a WHERE or HAVING clause to filter out the results which are greater than the threshold."
   ],
   "metadata": {
    "id": "hFOVoUHS38ZI"
   }
  },
  {
   "cell_type": "markdown",
   "metadata": {
    "id": "bwkyX_m_tPxi"
   },
   "source": [
    "## Hybrid search"
   ]
  },
  {
   "cell_type": "markdown",
   "metadata": {
    "id": "Lc6Dqz9ltbt8"
   },
   "source": [
    "Let's do keyword search alongside semantic search to get even more targeted results. The following helper function `run_hybrid_search` accepts a query string (for semantic search) and a keyword string (for full-text search). The keyword search is applied as a pre-filter in the vector search."
   ]
  },
  {
   "cell_type": "code",
   "execution_count": null,
   "metadata": {
    "id": "x0d3wxxPtbQD"
   },
   "outputs": [],
   "source": [
    "def run_hybrid_search(query:str, keyword:str):\n",
    "  escaped_query = query.replace(\"'\", \"''\").replace(\"\\\\\", \"\\\\\\\\\")\n",
    "  escaped_keyword = keyword.replace(\"'\", \"''\").replace(\"\\\\\", \"\\\\\\\\\")\n",
    "\n",
    "  search_terms_embeddings_query = f\"\"\"\n",
    "    SELECT\n",
    "      query.content AS search,\n",
    "      base.report_id, base.bus_stop_id, base.uri,\n",
    "      CONCAT(\"https://storage.mtls.cloud.google.com/\", SPLIT(base.uri, \"gs://\")[OFFSET(1)]) AS url,\n",
    "      base.description, distance\n",
    "    FROM\n",
    "      VECTOR_SEARCH(\n",
    "        (SELECT * FROM `multimodal.image_reports_vector_db` WHERE SEARCH(description, '`{escaped_keyword}`')),\n",
    "        'embedding',\n",
    "        (\n",
    "          SELECT * FROM ML.GENERATE_EMBEDDING(\n",
    "          MODEL `multimodal.text_embedding_model`,\n",
    "          (\n",
    "            SELECT '{escaped_query}' AS content\n",
    "          ),\n",
    "          STRUCT('SEMANTIC_SIMILARITY' as task_type))\n",
    "        ),\n",
    "        top_k => 3,\n",
    "        distance_type => 'COSINE'\n",
    "      )\n",
    "    ORDER BY distance ASC\n",
    "  \"\"\"\n",
    "\n",
    "  return client.query(search_terms_embeddings_query).to_dataframe()"
   ]
  },
  {
   "cell_type": "markdown",
   "metadata": {
    "id": "Bc-DOScOEgpB"
   },
   "source": [
    "Let's imagine there were reports of vandalism. In this case, we could search for any unsafe bus stop **and** the keyword `vandalism`."
   ]
  },
  {
   "cell_type": "code",
   "execution_count": null,
   "metadata": {
    "id": "LoXD66N3uHb6"
   },
   "outputs": [],
   "source": [
    "search_results_df = run_hybrid_search('unsafe bus stop', 'vandalism')\n",
    "search_results_df\n",
    "\n",
    "search_results_df['image'] = search_results_df['url'].apply(preview_image)\n",
    "\n",
    "# Display the DataFrame with embedded images\n",
    "HTML(search_results_df[['bus_stop_id', 'uri', 'distance', 'image', 'description']].to_html(escape=False))"
   ]
  },
  {
   "cell_type": "markdown",
   "source": [
    "### Multimodal vector embeddings of images\n",
    "\n",
    "In the previous section we showed how to build vector embeddings of text description. Another way to do semantic searches is to create [multimodal vector embeddings](https://cloud.google.com/bigquery/docs/generate-multimodal-embeddings) of the images themselves."
   ],
   "metadata": {
    "id": "YFohcSmjPjXl"
   }
  },
  {
   "cell_type": "markdown",
   "source": [
    "**Note:** it's hard to show the power of hybrid searches and different ways to design them on this very small sample of data. Please see [this section of the GitHub repo](https://github.com/GoogleCloudPlatform/data-to-ai/blob/main/README.md#hybrid-search) for a more in-depth discussion on how to create a ranked hybrid search system. That repo shows an example of using a hybrid search combining text and multimodal embeddings and full text search."
   ],
   "metadata": {
    "id": "kJiL5AMtAmSh"
   }
  },
  {
   "cell_type": "markdown",
   "metadata": {
    "id": "-VSiIhWynOf9"
   },
   "source": [
    "# Challenge"
   ]
  },
  {
   "cell_type": "markdown",
   "metadata": {
    "id": "DAsoeJFlnOf9"
   },
   "source": [
    "This notebook demonstrated the typical sequence of steps required to use BigQuery SQL to process images and enable searching images using Gemini multimodal models. Find another use case and see how you can adjust the code in this notebook to process binary data. Here are some public datasets which can be useful:\n",
    "* Invoices in PDF format: gs://cloud-samples-data/documentai/Custom/Invoices\n",
    "* Cymbal Pet Store product images: gs://cloud-samples-data/bigquery/tutorials/cymbal-pets/images\n",
    "\n",
    "Note: be mindful of the amount of data you are going to process. For demo purposes, define an object table which only consists of several dozen files rather than the whole folder (you can do that by either listing each file explicitly when defining the object table or by providing a wildcard which will only select the files you need)."
   ]
  },
  {
   "cell_type": "markdown",
   "metadata": {
    "id": "9dOLtpMb6JQ-"
   },
   "source": [
    "# Cleanup"
   ]
  },
  {
   "cell_type": "code",
   "execution_count": null,
   "metadata": {
    "id": "YDqGd7zt7r57"
   },
   "outputs": [],
   "source": [
    "# Delete BigQuery dataset. Uncomment and run the command below if you want to delete the BigQuery set.\n",
    "# from google.cloud import bigquery\n",
    "# Do this only if the dataset is created for this demo.\n",
    "# dataset = f\"{PROJECT_ID}.multimodal\"\n",
    "# dataset_object = bigquery.Dataset(dataset)\n",
    "# client.delete_dataset(dataset_object, delete_contents=True, not_found_ok=True)\n",
    "\n"
   ]
  }
 ],
 "metadata": {
  "colab": {
   "cell_execution_strategy": "setup",
   "name": "GenAI_in_BigQuery.ipynb",
   "private_outputs": true,
   "provenance": []
  },
  "kernelspec": {
   "display_name": "Python 3",
   "name": "python3"
  },
  "language_info": {
   "codemirror_mode": {
    "name": "ipython",
    "version": 3
   },
   "file_extension": ".py",
   "mimetype": "text/x-python",
   "name": "python",
   "nbconvert_exporter": "python",
   "pygments_lexer": "ipython3",
   "version": "3.11.10"
  }
 },
 "nbformat": 4,
 "nbformat_minor": 0
}
