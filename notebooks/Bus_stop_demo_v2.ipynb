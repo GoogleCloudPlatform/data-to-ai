{
 "cells": [
  {
   "cell_type": "markdown",
   "metadata": {
    "id": "Ih_0xYMjxDzs"
   },
   "source": [
    "## Introduction\n",
    "\n",
    "This notebook showcases the power of BigQuery object tables and multimodal Gemini models for image analysis. We'll explore how these technologies can be used to automate the monitoring of physical assets.\n",
    "\n",
    "Our example focuses on a common challenge for municipalities: maintaining bus stops. We'll demonstrate how to analyze pictures of bus stops to determine their state of repair. This could involve identifying issues like broken benches, damaged shelters, or excessive litter.\n",
    "\n",
    "Here's how we envision this working:\n",
    "\n",
    "* Buses are equipped with cameras that capture photos of each bus stop they pass.\n",
    "* At the end of the day, these photos are uploaded to a central repository.\n",
    "* A data pipeline processes the pictures, using Gemini to detect anomalies and flag potential issues.\n",
    "* Maintenance crews can then be dispatched to address the identified problems.\n",
    "\n",
    "While we're using bus stops as our example, the techniques demonstrated here can be readily adapted to other asset monitoring scenarios across various industries.\n",
    "\n",
    "Let's get started with the code!"
   ]
  },
  {
   "cell_type": "markdown",
   "metadata": {
    "id": "6-ucbejDzgaS"
   },
   "source": [
    "## Initializing the environment"
   ]
  },
  {
   "cell_type": "markdown",
   "metadata": {
    "id": "f0gvrkYSy8lp"
   },
   "source": [
    "First, let's create some environment variables:"
   ]
  },
  {
   "cell_type": "code",
   "execution_count": null,
   "metadata": {
    "ExecuteTime": {
     "end_time": "2024-12-04T07:19:47.987991Z",
     "start_time": "2024-12-04T07:19:47.980576Z"
    },
    "id": "b_UnRN3H0mne"
   },
   "outputs": [],
   "source": [
    "import os\n",
    "PROJECT_ID = os.environ['GOOGLE_CLOUD_PROJECT']\n",
    "SOURCE_PATH = f\"gs://bus-stop-images/julien/notebook-sources\"\n",
    "TARGET_PATH = f\"gs://{PROJECT_ID}-multimodal/target\"\n",
    "REGION = \"us-central1\""
   ]
  },
  {
   "cell_type": "markdown",
   "metadata": {},
   "source": [
    "### Utility functions"
   ]
  },
  {
   "cell_type": "markdown",
   "metadata": {
    "id": "4tnPVlJj4omA"
   },
   "source": [
    "Define some utility functions that we'll use throughout this notebook. Refer to the comments in the functions to get more details about what they do."
   ]
  },
  {
   "cell_type": "code",
   "execution_count": null,
   "metadata": {
    "ExecuteTime": {
     "end_time": "2024-12-04T21:40:33.093246Z",
     "start_time": "2024-12-04T21:40:33.081317Z"
    },
    "id": "cpezuRaaGSm9"
   },
   "outputs": [],
   "source": [
    "import re\n",
    "import base64\n",
    "from typing import List, Dict, Union\n",
    "from google.cloud import storage\n",
    "from google.cloud import bigquery\n",
    "import pandas as pd\n",
    "from IPython.display import display, HTML\n",
    "\n",
    "\n",
    "# Don't truncate strings in BigQuery query results\n",
    "pd.set_option('display.max_colwidth', None)\n",
    "\n",
    "\n",
    "def parse_gcs_uri(uri: str) -> tuple[str, str]:\n",
    "    \"\"\"\n",
    "    Parse GCS URI of the form gs://bucket or gs://bucket/path/to/file\n",
    "    \"\"\"\n",
    "    uri = uri.rstrip('/')\n",
    "    match = re.match(r'gs://([^/]+)(?:/(.*))?', uri)\n",
    "    if not match:\n",
    "        raise ValueError(f\"Invalid GCS URI format: {uri}\")\n",
    "    bucket_name, path = match.groups()\n",
    "    return bucket_name, path or ''\n",
    "\n",
    "\n",
    "def list_gcs_contents(uri: str):\n",
    "    \"\"\"\n",
    "    Lists contents of a GCS bucket/path\n",
    "    \"\"\"\n",
    "    bucket_name, prefix = parse_gcs_uri(uri)\n",
    "    client = storage.Client()\n",
    "    bucket = client.bucket(bucket_name)\n",
    "    blobs = bucket.list_blobs(prefix=prefix)\n",
    "\n",
    "    for blob in blobs:\n",
    "        print(blob.name)\n",
    "\n",
    "\n",
    "def show_object_table(table):\n",
    "    \"\"\"\n",
    "    Shows the contents of the given BigQuery object table\n",
    "    \"\"\"\n",
    "    query = f\"\"\"\n",
    "    SELECT * FROM `{table}`\n",
    "    ORDER BY updated;\n",
    "    \"\"\"\n",
    "    df = run_bigquery(query).to_dataframe()\n",
    "    return HTML(df[['metadata', 'uri']].to_html(escape=False))\n",
    "\n",
    "\n",
    "def run_bigquery(query: str):\n",
    "    \"\"\"\n",
    "    Runs the provided BigQuery query and returns the result\n",
    "    \"\"\"\n",
    "    job_config = bigquery.QueryJobConfig()\n",
    "    bq_client = bigquery.Client()\n",
    "    query_job = bq_client.query(query, job_config=job_config)\n",
    "    return query_job.result()\n",
    "\n",
    "\n",
    "def get_image_from_gcs(uri: str) -> str:\n",
    "    \"\"\"Fetches an image from Google Cloud Storage as an HTML img tag.\n",
    "\n",
    "    Args:\n",
    "        uri: Full GCS URI in the format 'gs://bucket-name/path/to/image.jpg'\n",
    "\n",
    "    Returns:\n",
    "        HTML img tag with base64-encoded image data, or None if the image\n",
    "        could not be fetched.\n",
    "    \"\"\"\n",
    "    try:\n",
    "        bucket_name, blob_name = parse_gcs_uri(uri)\n",
    "\n",
    "        # Get image bytes\n",
    "        storage_client = storage.Client()\n",
    "        bucket = storage_client.bucket(bucket_name)\n",
    "        blob = bucket.blob(blob_name)\n",
    "        image_bytes = blob.download_as_bytes()\n",
    "\n",
    "        # Convert to base64\n",
    "        base64_image = base64.b64encode(image_bytes).decode('utf-8')\n",
    "        return f'<img src=\"data:image/jpg;base64,{base64_image}\" width=\"300\">'\n",
    "\n",
    "    except Exception as e:\n",
    "        print(f\"Error fetching image from GCS: {e}\")\n",
    "        return None\n",
    "\n",
    "\n",
    "def preview_batch_images(batch: List[Dict[str, str]], source: str):\n",
    "   container_id = f\"image-container-{hash(str(batch))}\"\n",
    "   display(HTML(f\"\"\"\n",
    "       <div id=\"{container_id}\" style=\"display: flex; flex-wrap: wrap; gap: 10px; justify-content: flex-start;\">\n",
    "       </div>\n",
    "   \"\"\"))\n",
    "   \n",
    "   for i, item in enumerate(batch):\n",
    "       try:\n",
    "           gcs_uri = f\"{source}/{item['path']}\"\n",
    "           img_tag = get_image_from_gcs(gcs_uri)\n",
    "           if img_tag:\n",
    "               wrapper_id = f\"{container_id}-wrapper-{i}\"\n",
    "               display(HTML(f\"\"\"\n",
    "                   <div id=\"{wrapper_id}\" style=\"text-align: center;\">\n",
    "                       {img_tag}\n",
    "                       <div style=\"margin-top: 5px;\">{item['path']}</div>\n",
    "                   </div>\n",
    "                   <script>\n",
    "                       document.getElementById('{container_id}').appendChild(\n",
    "                           document.getElementById('{wrapper_id}')\n",
    "                       );\n",
    "                   </script>\n",
    "               \"\"\"))\n",
    "           else:\n",
    "               print(f\"Failed to load image: {item['path']}\")\n",
    "       except Exception as e:\n",
    "           print(f\"Error: {e}\")\n",
    "\n",
    "\n",
    "def upload_batch(\n",
    "    batch: List[Dict[str, str]],\n",
    "    source: str,\n",
    "    target: str,\n",
    "    batch_number: Union[int, str]\n",
    "):\n",
    "    \"\"\"\n",
    "    Copy images from source GCS location to target with metadata.\n",
    "    \"\"\"\n",
    "    client = storage.Client()\n",
    "\n",
    "    source_bucket_name, source_prefix = parse_gcs_uri(source)\n",
    "    target_bucket_name, target_prefix = parse_gcs_uri(target)\n",
    "\n",
    "    source_bucket = client.bucket(source_bucket_name)\n",
    "    target_bucket = client.bucket(target_bucket_name)\n",
    "\n",
    "    count = 0\n",
    "    for item in batch:\n",
    "        try:\n",
    "            source_path = (\n",
    "                f\"{source_prefix}/{item['path']}\" if source_prefix\n",
    "                else item['path']\n",
    "            )\n",
    "            target_path = (\n",
    "                f\"{target_prefix}/{item['path']}\" if target_prefix\n",
    "                else item['path']\n",
    "            )\n",
    "\n",
    "            # Get source blob\n",
    "            source_blob = source_bucket.blob(source_path)\n",
    "            if not source_blob.exists():\n",
    "                raise FileNotFoundError(f\"Source file {source_path} not found\")\n",
    "\n",
    "            # Download the image bytes\n",
    "            image_bytes = source_blob.download_as_bytes()\n",
    "\n",
    "            # Prepare target blob with metadata\n",
    "            target_blob = target_bucket.blob(target_path)\n",
    "            target_blob.metadata = {\n",
    "                \"batch_number\": f\"batch-{batch_number}\",\n",
    "                **{k: str(v) for k, v in item.items() if k != \"path\"}\n",
    "            }\n",
    "\n",
    "            # Upload bytes\n",
    "            target_blob.upload_from_string(\n",
    "                image_bytes,\n",
    "                content_type=source_blob.content_type\n",
    "            )\n",
    "            count += 1\n",
    "            print(f\"({count}/{len(batch)}) Uploaded: {item['path']}\")\n",
    "\n",
    "        except Exception as e:\n",
    "            print(\"Error processing {item['path']}: {str(e)}\")\n",
    "\n",
    "def style_incident_row(row):\n",
    "    \"\"\"\n",
    "    Custom styling function for bus stops incidents\n",
    "    \"\"\"\n",
    "    if not row['resolved']:  # When resolved is False\n",
    "        return ['background-color: #ffcccc'] * len(row)  # Light red for all columns\n",
    "    return [''] * len(row)  # No styling for other cases\n",
    "\n",
    "\n",
    "def show_incidents():\n",
    "    df = run_bigquery(incidents_list_query).to_dataframe()\n",
    "    df['open_report_image'] = df['open_report_gcs_uri'].apply(lambda uri: get_image_from_gcs(uri) if uri is not None else \"\")\n",
    "    df['resolve_report_image'] = df['resolve_report_gcs_uri'].apply(lambda uri: get_image_from_gcs(uri) if uri is not None else \"\")\n",
    "    \n",
    "    styles = [\n",
    "        {'selector': 'td.col_open_report_image img, td.col_resolve_report_image img', \n",
    "         'props': [('transition', 'transform 0.3s')]}\n",
    "    ]\n",
    "    \n",
    "    styled_df = df[['bus_stop_id', 'resolved', 'open_report_description', 'open_report_image', 'resolve_report_description', 'resolve_report_image']].style\\\n",
    "        .set_table_styles(styles)\\\n",
    "        .set_table_attributes('style=\"transform-style: preserve-3d;\"')\\\n",
    "        .apply(style_incident_row, axis=1)\n",
    "    \n",
    "    return HTML(styled_df.to_html(escape=False))"
   ]
  },
  {
   "cell_type": "code",
   "execution_count": null,
   "metadata": {
    "ExecuteTime": {
     "end_time": "2024-12-04T21:30:26.214009Z",
     "start_time": "2024-12-04T21:30:23.585673Z"
    },
    "scrolled": true
   },
   "outputs": [],
   "source": [
    "# Note: This magic comes preinstalled in BigQuery notebooks\n",
    "%load_ext bigquery_magics"
   ]
  },
  {
   "cell_type": "code",
   "execution_count": null,
   "metadata": {},
   "outputs": [],
   "source": [
    "%%html\n",
    "<style>\n",
    "img:hover {\n",
    "    transform: scale(2.5);\n",
    "    z-index: 1000;\n",
    "}\n",
    "</style>"
   ]
  },
  {
   "cell_type": "markdown",
   "metadata": {},
   "source": [
    "### Cloud Storage bucket and Cloud Resource connection\n",
    "\n",
    "Create a Cloud Storage bucket:"
   ]
  },
  {
   "cell_type": "code",
   "execution_count": null,
   "metadata": {},
   "outputs": [],
   "source": [
    "from google.cloud import storage\n",
    "from google.api_core import exceptions\n",
    "storage_client = storage.Client(project=PROJECT_ID)\n",
    "bucket_name = f\"{PROJECT_ID}-multimodal\"\n",
    "try:\n",
    "    bucket = storage_client.create_bucket(bucket_name)\n",
    "    print(f\"Bucket {bucket_name} created\")\n",
    "except exceptions.Conflict:\n",
    "    # Bucket already exists - return the existing bucket\n",
    "    bucket = storage_client.bucket(bucket_name)\n",
    "    print(f\"Bucket {bucket_name} already exists\")\n",
    "except Exception as e:\n",
    "    print(f\"Error creating bucket {bucket_name}: {e}\")"
   ]
  },
  {
   "cell_type": "markdown",
   "metadata": {},
   "source": [
    "Enable some APIs:"
   ]
  },
  {
   "cell_type": "code",
   "execution_count": null,
   "metadata": {},
   "outputs": [],
   "source": [
    "!gcloud services enable --project {PROJECT_ID} bigqueryconnection.googleapis.com bigquerystorage.googleapis.com"
   ]
  },
  {
   "cell_type": "markdown",
   "metadata": {},
   "source": [
    "Create a Cloud Resource connection:"
   ]
  },
  {
   "cell_type": "code",
   "execution_count": null,
   "metadata": {},
   "outputs": [],
   "source": [
    "!bq mk \\\n",
    "--connection \\\n",
    "--location={REGION} \\\n",
    "--project_id={PROJECT_ID} \\\n",
    "--connection_type=CLOUD_RESOURCE \\\n",
    "multimodal"
   ]
  },
  {
   "cell_type": "markdown",
   "metadata": {},
   "source": [
    "### BigQuery tables"
   ]
  },
  {
   "cell_type": "markdown",
   "metadata": {},
   "source": [
    "Create the objects table connected to the GCS bucket:"
   ]
  },
  {
   "cell_type": "code",
   "execution_count": null,
   "metadata": {
    "colab": {
     "base_uri": "https://localhost:8080/"
    },
    "id": "BYuIWPC39ykZ",
    "outputId": "930ef129-05a5-4978-a57e-730380311ecd",
    "scrolled": true
   },
   "outputs": [],
   "source": [
    "run_bigquery(\n",
    "f\"\"\"\n",
    "CREATE OR REPLACE EXTERNAL TABLE `multimodal.objects`\n",
    "WITH CONNECTION `{REGION}.multimodal`\n",
    "OPTIONS(\n",
    "  object_metadata = 'SIMPLE',\n",
    "  uris = ['{TARGET_PATH}/*']\n",
    ")\n",
    "\"\"\"\n",
    ")"
   ]
  },
  {
   "cell_type": "markdown",
   "metadata": {
    "id": "29e2WUR7h6sl"
   },
   "source": [
    "Create the BigQuery tables that we'll use in the demo:"
   ]
  },
  {
   "cell_type": "code",
   "execution_count": null,
   "metadata": {
    "colab": {
     "base_uri": "https://localhost:8080/",
     "height": 85,
     "referenced_widgets": [
      "01e4c5cfe3764dd38fc8b2a66c5cab0a",
      "7ad992018dc542c8abbe08bd2db79f09",
      "38494cec247a49e1b2d8247963abb183",
      "e9e6cc8db28345aaa90e419eae810667",
      "b0f18f6e3de441769c2ea2e82fdeffa9",
      "75ad044f51d44fa695c11df5afc5cc1c",
      "e808a627d0744c588e4c09f257d12083",
      "3a845f74d90e4b759c5c0800ab54895d",
      "8a9711716f90405289d444000e24a2bd",
      "7e10a460eff74f3891800b335bfa05ee",
      "2a726f823ee9414d94ad39f34278847e"
     ]
    },
    "id": "otc0QR9lf4-K",
    "outputId": "347d46eb-5548-4cbc-f22d-3a33dbc13885"
   },
   "outputs": [],
   "source": [
    "%%bigquery\n",
    "\n",
    "CREATE OR REPLACE TABLE `multimodal.reports` (\n",
    "  report_id STRING,\n",
    "  uri STRING,\n",
    "  updated TIMESTAMP,\n",
    "  bus_stop_id STRING,\n",
    "  cleanliness_level INT64,\n",
    "  safety_level INT64,\n",
    "  description STRING\n",
    ");\n",
    "\n",
    "CREATE OR REPLACE TABLE `multimodal.incidents` (\n",
    "  incident_id STRING NOT NULL,\n",
    "  bus_stop_id STRING NOT NULL,\n",
    "  resolved BOOL NOT NULL,\n",
    "  open_report_id STRING,\n",
    "  resolve_report_id STRING\n",
    ");\n",
    "\n",
    "CREATE OR REPLACE TABLE `multimodal.object_watermark` (\n",
    "  process_time TIMESTAMP\n",
    ");\n",
    "INSERT INTO `multimodal.object_watermark` (SELECT TIMESTAMP('1970-01-01'));\n",
    "\n",
    "CREATE OR REPLACE TABLE `multimodal.report_watermark` (\n",
    "  process_time TIMESTAMP\n",
    ");\n",
    "INSERT INTO `multimodal.report_watermark` (SELECT TIMESTAMP('1970-01-01'));"
   ]
  },
  {
   "cell_type": "markdown",
   "metadata": {
    "id": "w9U4oNy0kfWR"
   },
   "source": [
    "## Uploading the first batch of pictures"
   ]
  },
  {
   "cell_type": "markdown",
   "metadata": {
    "id": "rNyIW5XWjEpH"
   },
   "source": [
    "Let's now look at the first batch of pictures. We specify the pictures' filenames as well as the corresponding bus stop IDs:"
   ]
  },
  {
   "cell_type": "code",
   "execution_count": null,
   "metadata": {
    "ExecuteTime": {
     "end_time": "2024-12-04T07:18:17.758528Z",
     "start_time": "2024-12-04T07:18:17.755836Z"
    },
    "id": "5aVn-BPTmOyZ"
   },
   "outputs": [],
   "source": [
    "batch_1 = [\n",
    "    {\"path\": \"QD-01.jpg\", \"stop_id\": \"QD\"},\n",
    "    {\"path\": \"NA-01.jpg\", \"stop_id\": \"NA\"},\n",
    "    {\"path\": \"QB-01.jpg\", \"stop_id\": \"QB\"},\n",
    "    {\"path\": \"PA-02.jpg\", \"stop_id\": \"PA\"},\n",
    "    {\"path\": \"RD-02-dead-leaves.jpg\", \"stop_id\": \"RD\"},\n",
    "    {\"path\": \"PC-01.jpg\", \"stop_id\": \"PC\"},\n",
    "    {\"path\": \"NC-02.jpg\", \"stop_id\": \"NC\"},\n",
    "    {\"path\": \"MD-02.jpg\", \"stop_id\": \"MD\"},\n",
    "    {\"path\": \"PB-01.jpg\", \"stop_id\": \"PB\"},\n",
    "    {\"path\": \"ND-02-damaged.jpg\", \"stop_id\": \"ND\"},\n",
    "    {\"path\": \"QA-02-dirty.jpg\", \"stop_id\": \"QA\"},\n",
    "    {\"path\": \"SD-03-dirty-damaged.jpg\", \"stop_id\": \"SD\"},\n",
    "    {\"path\": \"MC-02-dirty-damaged.jpg\", \"stop_id\": \"MC\"},\n",
    "    {\"path\": \"MA-01.jpg\", \"stop_id\": \"MA\"},\n",
    "    {\"path\": \"RC-02-crazy1.jpg\", \"stop_id\": \"RC\"},\n",
    "    {\"path\": \"SC-02-broken-glass.jpg\", \"stop_id\": \"SC\"},\n",
    "    {\"path\": \"UB-01.jpg\", \"stop_id\": \"UB\"},\n",
    "]"
   ]
  },
  {
   "cell_type": "markdown",
   "metadata": {},
   "source": [
    "Preview the pictures:"
   ]
  },
  {
   "cell_type": "code",
   "execution_count": null,
   "metadata": {
    "ExecuteTime": {
     "end_time": "2024-12-04T07:22:52.769828Z",
     "start_time": "2024-12-04T07:22:43.120414Z"
    },
    "colab": {
     "base_uri": "https://localhost:8080/",
     "height": 1000
    },
    "id": "uDoGhqDRBa4W",
    "outputId": "6608d51d-bc1d-46ef-fccf-3cd9545951ff"
   },
   "outputs": [],
   "source": [
    "preview_batch_images(batch_1, SOURCE_PATH)"
   ]
  },
  {
   "cell_type": "markdown",
   "metadata": {},
   "source": [
    "Upload the pictures to the bucket - the bus stop IDs are also attached to the files that land in the bucket:"
   ]
  },
  {
   "cell_type": "code",
   "execution_count": null,
   "metadata": {
    "id": "VSMj3VxpAhbH"
   },
   "outputs": [],
   "source": [
    "upload_batch(\n",
    "    batch=batch_1,\n",
    "    source=SOURCE_PATH,\n",
    "    target=TARGET_PATH,\n",
    "    batch_number=1\n",
    ")"
   ]
  },
  {
   "cell_type": "markdown",
   "metadata": {
    "id": "bil2ACtalNws"
   },
   "source": [
    "See the files that have just been uploaded to the bucket:"
   ]
  },
  {
   "cell_type": "code",
   "execution_count": null,
   "metadata": {
    "ExecuteTime": {
     "end_time": "2024-12-04T21:26:53.722192Z",
     "start_time": "2024-12-04T21:26:52.188249Z"
    },
    "colab": {
     "base_uri": "https://localhost:8080/"
    },
    "id": "jKho7SVSq5QZ",
    "outputId": "8f02d39e-e170-40d1-8dc9-60cdf9fa6298"
   },
   "outputs": [],
   "source": [
    "list_gcs_contents(TARGET_PATH)"
   ]
  },
  {
   "cell_type": "markdown",
   "metadata": {
    "id": "8_RlmILijQ3m"
   },
   "source": [
    "Let's see the contents of the object table that is linked to the bucket. You see the list of pictures as well as the bus stop IDs, which are stored as object metadata:"
   ]
  },
  {
   "cell_type": "code",
   "execution_count": null,
   "metadata": {
    "ExecuteTime": {
     "end_time": "2024-12-04T21:43:20.759961Z",
     "start_time": "2024-12-04T21:43:19.050344Z"
    },
    "colab": {
     "base_uri": "https://localhost:8080/",
     "height": 1000
    },
    "id": "DPdxXQd7jWBC",
    "outputId": "c747403c-88ff-4fb1-d7e5-cfde7376d982"
   },
   "outputs": [],
   "source": [
    "show_object_table(\"multimodal.objects\")"
   ]
  },
  {
   "cell_type": "markdown",
   "metadata": {
    "id": "jc4kxq7bllMT"
   },
   "source": [
    "Now create a model to analyze the pictures:"
   ]
  },
  {
   "cell_type": "code",
   "execution_count": null,
   "metadata": {
    "colab": {
     "base_uri": "https://localhost:8080/",
     "height": 85,
     "referenced_widgets": [
      "e9776a0006214afd9d19747320dfa702",
      "3d370423a6e64a8da0530207943223bb",
      "75db7c2b246c43b18f02c554a3135390",
      "362155f9156c40fb80230685720e7221",
      "318ac60dfa2447d4bb3b88ff1e7ac96a",
      "4dd83fe02c534d46987d543ec472225f",
      "58239670e685478fa37a4a35d8012fb1",
      "37e2e9acf4c0430285b68082810264af",
      "01d257c0aeb24bf8972d4bc32adb32f1",
      "dfa5f901fc33413ea9f9331a76ec93b6",
      "b618d021c035428c97e81fa0b85b5d15"
     ]
    },
    "id": "yEjRC9Nq0eYF",
    "outputId": "825017c9-f9f8-4c6e-df7b-b6d777c07885"
   },
   "outputs": [],
   "source": [
    "run_bigquery(\n",
    "f\"\"\"\n",
    "CREATE OR REPLACE MODEL\n",
    "`multimodal.gemini_model`\n",
    "REMOTE WITH CONNECTION `{REGION}.multimodal`\n",
    "OPTIONS ( endpoint = 'gemini-1.5-flash-001' );\n",
    "\"\"\"\n",
    ")"
   ]
  },
  {
   "cell_type": "markdown",
   "metadata": {
    "id": "6AlyewNcjRBj"
   },
   "source": [
    "Now let's look at the first main query of our data pipeline. This purpose of this query is to extract insights from the uploaded pictures. In particular, it prompts a Gemini image model to assess the state of all bus stops. The provided prompt asks Gemeni to rate the cleanliness and safety and to provide a detailed description of the scenes:"
   ]
  },
  {
   "cell_type": "code",
   "execution_count": null,
   "metadata": {
    "id": "CX-gN9gBjkFI"
   },
   "outputs": [],
   "source": [
    "reports_creation_query = \"\"\"\n",
    "DECLARE last_process_time TIMESTAMP;\n",
    "DECLARE new_process_time TIMESTAMP;\n",
    "\n",
    "BEGIN TRANSACTION;\n",
    "SET last_process_time = (SELECT process_time FROM `multimodal.object_watermark`);\n",
    "SET new_process_time = CURRENT_TIMESTAMP();\n",
    "\n",
    "INSERT INTO `multimodal.reports`\n",
    "SELECT\n",
    "  GENERATE_UUID() as report_id,\n",
    "  uri,\n",
    "  updated,\n",
    "  (SELECT value FROM UNNEST(metadata) WHERE name = 'stop_id') AS bus_stop_id,\n",
    "  CAST (JSON_EXTRACT(ml_generate_text_llm_result, '$.cleanliness_level') AS INT64) AS cleanliness_level,\n",
    "  CAST (JSON_EXTRACT(ml_generate_text_llm_result, '$.safety_level') AS INT64) AS safety_level,\n",
    "  JSON_EXTRACT(ml_generate_text_llm_result, '$.description') AS description,\n",
    "FROM\n",
    "  ML.GENERATE_TEXT(\n",
    "   MODEL `multimodal.gemini_model`,\n",
    "   TABLE `multimodal.objects`,\n",
    "   STRUCT (\n",
    "   '''\n",
    "Analyze this picture of a bus stop and provide details that might affect a person's decision to use the bus stop.\n",
    "Return your answer in valid JSON format (without JSON decorators) with these fields:\n",
    "* \"cleanliness_level\" (Integer): Rate the cleanliness of this bus stop. Possible values: 1=\"very dirty and warrants urgent cleaning\", 2=\"clean or mildly clean\". These are considered cleanliness issues: littering, broken glass, spillage of liquids/oil, ground covered in dead leaves, excessive dirt on benches that would prevent or detract from sitting, unsightly graffitis on the bus stop or surrounding structures, disfigured amenities, and anything that would be very unsightly or unreasonably dirty.\n",
    "* \"safety_level\" (Integer): Rate the safety of this bus stop. Possible values: 1=\"unsafe and warrants attention\", 2=\"safe and doesn't warrant attention\". These are considered safety issues: broken glass, fallen tree/branches, fire, flooding, electrical hazard, ground covered in dead leaves, dangerous objects, damaged benches/shelters/amenities, slippery ground (e.g. presence of potentially slippery ice on the ground), icicles, low lighting at night, and anything else that could potentially represent a danger for people.\n",
    "* \"description\" (String): Provide a detailed textual description (maximum of 120 words) of what is in the picture, with an emphasis on cleanliness and safety.\n",
    "All fields are required.\n",
    "   ''' AS prompt,\n",
    "   0.2 AS temperature,\n",
    "   TRUE AS flatten_json_output,\n",
    "   8192 AS max_output_tokens)\n",
    "  )\n",
    "WHERE content_type = \"image/jpeg\" AND updated > last_process_time;\n",
    "\n",
    "-- Update the process time watermark\n",
    "UPDATE `multimodal.object_watermark`\n",
    "SET process_time = new_process_time\n",
    "WHERE TRUE;\n",
    "\n",
    "COMMIT TRANSACTION;\n",
    "\"\"\""
   ]
  },
  {
   "cell_type": "markdown",
   "metadata": {
    "id": "0_ocwkWElscK"
   },
   "source": [
    "Let's run the query:"
   ]
  },
  {
   "cell_type": "code",
   "execution_count": null,
   "metadata": {
    "colab": {
     "base_uri": "https://localhost:8080/"
    },
    "id": "2RbCy9BZoxLL",
    "outputId": "108c2ecf-400d-4e1d-d623-0b89e0189c0e"
   },
   "outputs": [],
   "source": [
    "run_bigquery(reports_creation_query)"
   ]
  },
  {
   "cell_type": "markdown",
   "metadata": {
    "id": "FaAZ1E7CmHgU"
   },
   "source": [
    "Now let's look at the results in the reports table:"
   ]
  },
  {
   "cell_type": "code",
   "execution_count": null,
   "metadata": {},
   "outputs": [],
   "source": [
    "%%bigquery\n",
    "SELECT * FROM `multimodal.reports`;"
   ]
  },
  {
   "cell_type": "markdown",
   "metadata": {},
   "source": [
    "In this table you can see:\n",
    "* The list of pictures that were just uploaded and the corresponding stop IDs.\n",
    "* The cleanliness and safety ratings that Gemini provided.\n",
    "* Textual descriptions of what Gememi could see in the pictures."
   ]
  },
  {
   "cell_type": "markdown",
   "metadata": {},
   "source": [
    "Now let's look at the second query of our data pipeline.\n",
    "\n",
    "This query parses the results from the reports and creates incidents as needed. If it sees that a bus stop was given low cleanliness or safety ratings, it will create a new incident in the `incidents` table with all the details relating to that situation. If, however, it finds high ratings for a bus stop that had previously been flagged, it will close the prior incident for that bus stop:"
   ]
  },
  {
   "cell_type": "code",
   "execution_count": null,
   "metadata": {
    "id": "T3fiWFgqy9D7"
   },
   "outputs": [],
   "source": [
    "incidents_update_query = \"\"\"\n",
    "DECLARE last_process_time TIMESTAMP;\n",
    "DECLARE new_process_time TIMESTAMP;\n",
    "\n",
    "BEGIN TRANSACTION;\n",
    "SET last_process_time = (SELECT process_time FROM `multimodal.report_watermark`);\n",
    "SET new_process_time = CURRENT_TIMESTAMP();\n",
    "\n",
    "-- Main MERGE statement to update or insert incidents based on new reports\n",
    "MERGE `multimodal.incidents` AS target\n",
    "USING (\n",
    "  -- CTE to get the latest report for each bus stop\n",
    "  WITH latest_reports AS (\n",
    "    SELECT\n",
    "      *,\n",
    "      -- Assign row numbers to reports for each bus stop, ordered by update time descending\n",
    "      ROW_NUMBER() OVER (PARTITION BY bus_stop_id ORDER BY updated DESC) AS rn\n",
    "    FROM `multimodal.reports`\n",
    "    WHERE updated > last_process_time\n",
    "  )\n",
    "  -- Main subquery to prepare data for MERGE operation\n",
    "  SELECT\n",
    "    lr.bus_stop_id,\n",
    "    -- Determine if an incident should be resolved based on cleanliness/safety threshold\n",
    "    CASE\n",
    "      WHEN lr.cleanliness_level >= 2 AND lr.safety_level >= 2 THEN TRUE\n",
    "      ELSE FALSE\n",
    "    END AS should_resolve,\n",
    "    i.incident_id,\n",
    "    lr.report_id,\n",
    "    i.open_report_id\n",
    "  FROM latest_reports lr\n",
    "  -- Left join to find existing open incidents for each bus stop\n",
    "  LEFT JOIN `multimodal.incidents` i\n",
    "    ON lr.bus_stop_id = i.bus_stop_id\n",
    "    AND i.resolved = FALSE\n",
    "  -- Only consider the most recent report for each bus stop\n",
    "  WHERE lr.rn = 1\n",
    ") AS source\n",
    "ON target.incident_id = source.incident_id\n",
    "\n",
    "-- Update existing incidents: mark as resolved if cleanliness/safety has improved\n",
    "WHEN MATCHED AND source.should_resolve THEN\n",
    "  UPDATE SET\n",
    "    resolved = TRUE,\n",
    "    resolve_report_id = source.report_id\n",
    "\n",
    "-- Insert new incidents: create for stops with low cleanliness/safety and no open incident\n",
    "WHEN NOT MATCHED AND NOT source.should_resolve THEN\n",
    "  INSERT (incident_id, bus_stop_id, resolved, open_report_id)\n",
    "  VALUES (GENERATE_UUID(), source.bus_stop_id, FALSE, source.report_id)\n",
    "\n",
    "-- Update existing incidents: set open_report_id if it's missing\n",
    "WHEN MATCHED AND NOT source.should_resolve AND target.open_report_id IS NULL THEN\n",
    "  UPDATE SET\n",
    "    open_report_id = source.report_id;\n",
    "\n",
    "-- Update the process time watermark\n",
    "UPDATE `multimodal.report_watermark`\n",
    "SET process_time = new_process_time\n",
    "WHERE TRUE;\n",
    "\n",
    "COMMIT TRANSACTION;\n",
    "\"\"\""
   ]
  },
  {
   "cell_type": "markdown",
   "metadata": {
    "id": "sPohQzOGAgbF"
   },
   "source": [
    "Let's run the query:"
   ]
  },
  {
   "cell_type": "code",
   "execution_count": null,
   "metadata": {
    "colab": {
     "base_uri": "https://localhost:8080/"
    },
    "id": "XXc0wx8izNSS",
    "outputId": "0ab66613-6aa6-46d6-c207-0dc5c1c789c4"
   },
   "outputs": [],
   "source": [
    "run_bigquery(incidents_update_query)"
   ]
  },
  {
   "cell_type": "markdown",
   "metadata": {
    "id": "hq0Ft-g5jRLK"
   },
   "source": [
    "Let's now run a query to load and display all the created incidents:"
   ]
  },
  {
   "cell_type": "code",
   "execution_count": null,
   "metadata": {
    "id": "LLGGON_mCqI0"
   },
   "outputs": [],
   "source": [
    "incidents_list_query = f\"\"\"\n",
    "    WITH relevant_reports AS (\n",
    "      SELECT DISTINCT r.uri\n",
    "      FROM `multimodal.incidents` i\n",
    "      LEFT JOIN `multimodal.reports` r ON i.open_report_id = r.report_id OR i.resolve_report_id = r.report_id\n",
    "      WHERE r.uri IS NOT NULL\n",
    "    ),\n",
    "    gcs_uris AS (\n",
    "      SELECT uri\n",
    "      FROM `multimodal.objects`\n",
    "      WHERE uri IN (SELECT uri FROM relevant_reports)\n",
    "    )\n",
    "    SELECT\n",
    "      i.bus_stop_id,\n",
    "      i.resolved,\n",
    "      open_r.description AS open_report_description,\n",
    "      open_su.uri AS open_report_gcs_uri,\n",
    "      resolve_r.description AS resolve_report_description,\n",
    "      resolve_su.uri AS resolve_report_gcs_uri\n",
    "    FROM\n",
    "      `multimodal.incidents` i\n",
    "    LEFT JOIN\n",
    "      `multimodal.reports` open_r ON i.open_report_id = open_r.report_id\n",
    "    LEFT JOIN\n",
    "      gcs_uris open_su ON open_r.uri = open_su.uri\n",
    "    LEFT JOIN\n",
    "      `multimodal.reports` resolve_r ON i.resolve_report_id = resolve_r.report_id\n",
    "    LEFT JOIN\n",
    "      gcs_uris resolve_su ON resolve_r.uri = resolve_su.uri\n",
    "    ORDER BY\n",
    "      i.resolved ASC,\n",
    "      i.incident_id;\n",
    "\"\"\""
   ]
  },
  {
   "cell_type": "code",
   "execution_count": null,
   "metadata": {
    "colab": {
     "base_uri": "https://localhost:8080/",
     "height": 771
    },
    "id": "BAQWPuc60bFW",
    "outputId": "8f56f50c-b722-4c0f-b124-e2676e13e39a"
   },
   "outputs": [],
   "source": [
    "show_incidents()"
   ]
  },
  {
   "cell_type": "markdown",
   "metadata": {},
   "source": [
    "In the above dashboard, you see that a number of incidents were reported for a variety of issues. The incidents show the pictures of the problematic bus stops as well as the corresponding textual description of the situations.\n",
    "\n",
    "**TODO**: Explain what the user would be supposed to do with this dashboard (i.e. monitor issues, dispatch technicians on site to address the situations, etc.)."
   ]
  },
  {
   "cell_type": "markdown",
   "metadata": {
    "id": "N_DTObnrjRRX"
   },
   "source": [
    "## Uploading the second batch\n",
    "\n",
    "Now let's upload another batch of pictures:"
   ]
  },
  {
   "cell_type": "code",
   "execution_count": null,
   "metadata": {
    "colab": {
     "base_uri": "https://localhost:8080/"
    },
    "id": "qSyO91it_oO6",
    "outputId": "ab48f620-c01e-4ee0-fe32-fc079d76deb0"
   },
   "outputs": [],
   "source": [
    "batch_2 = [\n",
    "    {\"path\": \"ND-02.jpg\", \"stop_id\": \"ND\"},\n",
    "    {\"path\": \"MB-01-ice-snow.jpg\", \"stop_id\": \"MB\"},\n",
    "    {\"path\": \"NC-01-dirty.jpg\", \"stop_id\": \"NC\"},\n",
    "    {\"path\": \"MA-02.jpg\", \"stop_id\": \"MA\"},\n",
    "    {\"path\": \"SC-02.jpg\", \"stop_id\": \"SC\"},\n",
    "    {\"path\": \"PB-02.jpg\", \"stop_id\": \"PB\"},\n",
    "    {\"path\": \"TA-01-graffitis.jpg\", \"stop_id\": \"TA\"},\n",
    "    {\"path\": \"UA-01.jpg\", \"stop_id\": \"UA\"},\n",
    "    {\"path\": \"UC-02-dirty.jpg\", \"stop_id\": \"UC\"},\n",
    "    {\"path\": \"MC-02.jpg\", \"stop_id\": \"MC\"},\n",
    "    {\"path\": \"NA-01-ice-snow.jpg\", \"stop_id\": \"NA\"},\n",
    "    {\"path\": \"MA-02-broken-glass.jpg\", \"stop_id\": \"MA\"},\n",
    "    {\"path\": \"UC-02.jpg\", \"stop_id\": \"UC\"},\n",
    "    {\"path\": \"TC-02.jpg\", \"stop_id\": \"TC\"},\n",
    "    {\"path\": \"NB-01.jpg\", \"stop_id\": \"NB\"},\n",
    "]"
   ]
  },
  {
   "cell_type": "code",
   "execution_count": null,
   "metadata": {},
   "outputs": [],
   "source": [
    "preview_batch_images(batch_2, SOURCE_PATH)"
   ]
  },
  {
   "cell_type": "code",
   "execution_count": null,
   "metadata": {},
   "outputs": [],
   "source": [
    "upload_batch(\n",
    "    batch=batch_2,\n",
    "    source=SOURCE_PATH,\n",
    "    target=TARGET_PATH,\n",
    "    batch_number=2\n",
    ")"
   ]
  },
  {
   "cell_type": "markdown",
   "metadata": {
    "id": "Qo0Voc-ZjRWZ"
   },
   "source": [
    "Create the reports for the newly uploaded pictures:"
   ]
  },
  {
   "cell_type": "code",
   "execution_count": null,
   "metadata": {
    "colab": {
     "base_uri": "https://localhost:8080/"
    },
    "id": "ucD3LvwyDhYM",
    "outputId": "1e1a7edf-9f22-4fea-9a10-a75f6a2173b1"
   },
   "outputs": [],
   "source": [
    "run_bigquery(reports_creation_query)"
   ]
  },
  {
   "cell_type": "markdown",
   "metadata": {
    "id": "ySKelBqHDsyB"
   },
   "source": [
    "Now update the incidents based on the new reports:"
   ]
  },
  {
   "cell_type": "code",
   "execution_count": null,
   "metadata": {
    "colab": {
     "base_uri": "https://localhost:8080/"
    },
    "id": "udLRwUwkp4z2",
    "outputId": "bd6ce1bf-a2e0-48eb-8dd0-d6c53668b9bd"
   },
   "outputs": [],
   "source": [
    "run_bigquery(incidents_update_query)"
   ]
  },
  {
   "cell_type": "markdown",
   "metadata": {
    "id": "3tbt6kCXvXX0"
   },
   "source": [
    "See the updated list of incidents:"
   ]
  },
  {
   "cell_type": "code",
   "execution_count": null,
   "metadata": {
    "colab": {
     "base_uri": "https://localhost:8080/",
     "height": 1000
    },
    "id": "NfQmEJ5HEbaO",
    "outputId": "23b33892-c240-4e61-a4c7-05dad264285d"
   },
   "outputs": [],
   "source": [
    "show_incidents()"
   ]
  },
  {
   "cell_type": "markdown",
   "metadata": {},
   "source": [
    "**TODO**: Explain what's in the dashboard. Some incidents have been resolved, some have not. There are also some new incidents. Etc."
   ]
  },
  {
   "cell_type": "markdown",
   "metadata": {
    "id": "dxtMT88Ovgpm"
   },
   "source": [
    "## Uploading the third batch"
   ]
  },
  {
   "cell_type": "markdown",
   "metadata": {
    "id": "WAdjploFHqqg"
   },
   "source": [
    "Upload the third batch."
   ]
  },
  {
   "cell_type": "code",
   "execution_count": null,
   "metadata": {
    "colab": {
     "base_uri": "https://localhost:8080/"
    },
    "id": "cmxbZxzYEcOv",
    "outputId": "38bc2acd-61e2-4e1f-aa27-4a605edfec33"
   },
   "outputs": [],
   "source": [
    "batch_3 = [\n",
    "    {\"path\": \"QA-01.jpg\", \"stop_id\": \"QA\"},\n",
    "    {\"path\": \"TD-02.jpg\", \"stop_id\": \"TD\"},\n",
    "    {\"path\": \"QD-02.jpg\", \"stop_id\": \"QD\"},\n",
    "    {\"path\": \"SB-02.jpg\", \"stop_id\": \"SB\"},\n",
    "    {\"path\": \"QD-02-graffitis.jpg\", \"stop_id\": \"QD\"},\n",
    "    {\"path\": \"TB-01.jpg\", \"stop_id\": \"TB\"},\n",
    "    {\"path\": \"TA-02.jpg\", \"stop_id\": \"TA\"},\n",
    "    {\"path\": \"UB-02-ice-snow.jpg\", \"stop_id\": \"UB\"},\n",
    "    {\"path\": \"QC-02.jpg\", \"stop_id\": \"QC\"},\n",
    "    {\"path\": \"PA-02-dirty.jpg\", \"stop_id\": \"PA\"},\n",
    "    {\"path\": \"TD-02-dirty.jpg\", \"stop_id\": \"TD\"},\n",
    "    {\"path\": \"RD-02.jpg\", \"stop_id\": \"RD\"},\n",
    "    {\"path\": \"NC-01.jpg\", \"stop_id\": \"NC\"},\n",
    "]\n",
    "\n",
    "upload_batch(\n",
    "    batch=batch_3,\n",
    "    source=SOURCE_PATH,\n",
    "    target=TARGET_PATH,\n",
    "    batch_number=3\n",
    ")"
   ]
  },
  {
   "cell_type": "markdown",
   "metadata": {
    "id": "X7eZJs1kIGbI"
   },
   "source": [
    "Create new reports and update the incidents:"
   ]
  },
  {
   "cell_type": "code",
   "execution_count": null,
   "metadata": {
    "colab": {
     "base_uri": "https://localhost:8080/"
    },
    "id": "q82Ab2XqICIO",
    "outputId": "43fe0817-96b6-46ee-e6c9-0950e29cab01"
   },
   "outputs": [],
   "source": [
    "run_bigquery(reports_creation_query)\n",
    "run_bigquery(incidents_update_query)"
   ]
  },
  {
   "cell_type": "code",
   "execution_count": null,
   "metadata": {
    "colab": {
     "base_uri": "https://localhost:8080/",
     "height": 1000
    },
    "id": "KQmsKpb7IN2n",
    "outputId": "e5f4d725-e118-47ec-f605-6a5e64f977c1"
   },
   "outputs": [],
   "source": [
    "show_incidents()"
   ]
  },
  {
   "cell_type": "markdown",
   "metadata": {
    "id": "BQk2wVW9IGi9"
   },
   "source": [
    "## Batch 4"
   ]
  },
  {
   "cell_type": "code",
   "execution_count": null,
   "metadata": {},
   "outputs": [],
   "source": [
    "batch_4 = [\n",
    "    {\"path\": \"SD-03.jpg\", \"stop_id\": \"SD\"},\n",
    "    {\"path\": \"UB-02.jpg\", \"stop_id\": \"UB\"},\n",
    "    {\"path\": \"PD-02.jpg\", \"stop_id\": \"PD\"},\n",
    "    {\"path\": \"QC-01.jpg\", \"stop_id\": \"QC\"},\n",
    "    {\"path\": \"RC-01.jpg\", \"stop_id\": \"RC\"},\n",
    "    {\"path\": \"NA-02.jpg\", \"stop_id\": \"NA\"},\n",
    "    {\"path\": \"PA-01.jpg\", \"stop_id\": \"PA\"},\n",
    "    {\"path\": \"SA-02.jpg\", \"stop_id\": \"SA\"},\n",
    "    {\"path\": \"RC-02.jpg\", \"stop_id\": \"RC\"},\n",
    "    {\"path\": \"RD-01.jpg\", \"stop_id\": \"RD\"},\n",
    "    {\"path\": \"SB-01.jpg\", \"stop_id\": \"SB\"},\n",
    "    {\"path\": \"PD-02-broken-glass.jpg\", \"stop_id\": \"PD\"},\n",
    "    {\"path\": \"NB-02.jpg\", \"stop_id\": \"NB\"},\n",
    "    {\"path\": \"PD-01.jpg\", \"stop_id\": \"PD\"},\n",
    "    {\"path\": \"QB-02.jpg\", \"stop_id\": \"QB\"},\n",
    "    {\"path\": \"TB-02.jpg\", \"stop_id\": \"TB\"},\n",
    "]\n",
    "\n",
    "upload_batch(\n",
    "    batch=batch_4,\n",
    "    source=SOURCE_PATH,\n",
    "    target=TARGET_PATH,\n",
    "    batch_number=4\n",
    ")"
   ]
  },
  {
   "cell_type": "code",
   "execution_count": null,
   "metadata": {
    "scrolled": true
   },
   "outputs": [],
   "source": [
    "run_bigquery(reports_creation_query)\n",
    "run_bigquery(incidents_update_query)\n",
    "show_incidents()"
   ]
  },
  {
   "cell_type": "markdown",
   "metadata": {},
   "source": [
    "## Batch 5"
   ]
  },
  {
   "cell_type": "code",
   "execution_count": null,
   "metadata": {},
   "outputs": [],
   "source": [
    "batch_5 = [\n",
    "    {\"path\": \"PC-02.jpg\", \"stop_id\": \"PC\"},\n",
    "    {\"path\": \"UC-01.jpg\", \"stop_id\": \"UC\"},\n",
    "    {\"path\": \"SD-01.jpg\", \"stop_id\": \"SD\"},\n",
    "    {\"path\": \"SA-01.jpg\", \"stop_id\": \"SA\"},\n",
    "    {\"path\": \"ND-01.jpg\", \"stop_id\": \"ND\"},\n",
    "    {\"path\": \"UD-02.jpg\", \"stop_id\": \"UD\"},\n",
    "    {\"path\": \"SC-01.jpg\", \"stop_id\": \"SC\"},\n",
    "    {\"path\": \"MB-02.jpg\", \"stop_id\": \"MB\"},\n",
    "    {\"path\": \"TD-01.jpg\", \"stop_id\": \"TD\"},\n",
    "    {\"path\": \"MD-01.jpg\", \"stop_id\": \"MD\"},\n",
    "    {\"path\": \"RA-01.jpg\", \"stop_id\": \"RA\"},\n",
    "    {\"path\": \"MC-01.jpg\", \"stop_id\": \"MC\"},\n",
    "    {\"path\": \"RB-01.jpg\", \"stop_id\": \"RB\"},\n",
    "]\n",
    "\n",
    "upload_batch(\n",
    "    batch=batch_5,\n",
    "    source=SOURCE_PATH,\n",
    "    target=TARGET_PATH,\n",
    "    batch_number=5\n",
    ")"
   ]
  },
  {
   "cell_type": "code",
   "execution_count": null,
   "metadata": {},
   "outputs": [],
   "source": [
    "run_bigquery(reports_creation_query)\n",
    "run_bigquery(incidents_update_query)\n",
    "show_incidents()"
   ]
  },
  {
   "cell_type": "code",
   "execution_count": null,
   "metadata": {},
   "outputs": [],
   "source": []
  }
 ],
 "metadata": {
  "colab": {
   "cell_execution_strategy": "setup",
   "name": "Bus stop demo - Improved",
   "provenance": []
  },
  "kernelspec": {
   "display_name": "Python 3 (ipykernel)",
   "language": "python",
   "name": "python3"
  },
  "language_info": {
   "codemirror_mode": {
    "name": "ipython",
    "version": 3
   },
   "file_extension": ".py",
   "mimetype": "text/x-python",
   "name": "python",
   "nbconvert_exporter": "python",
   "pygments_lexer": "ipython3",
   "version": "3.11.10"
  },
  "widgets": {
   "application/vnd.jupyter.widget-state+json": {
    "01d257c0aeb24bf8972d4bc32adb32f1": {
     "model_module": "@jupyter-widgets/controls",
     "model_module_version": "1.5.0",
     "model_name": "ProgressStyleModel",
     "state": {
      "_model_module": "@jupyter-widgets/controls",
      "_model_module_version": "1.5.0",
      "_model_name": "ProgressStyleModel",
      "_view_count": null,
      "_view_module": "@jupyter-widgets/base",
      "_view_module_version": "1.2.0",
      "_view_name": "StyleView",
      "bar_color": null,
      "description_width": ""
     }
    },
    "01e4c5cfe3764dd38fc8b2a66c5cab0a": {
     "model_module": "@jupyter-widgets/controls",
     "model_module_version": "1.5.0",
     "model_name": "HBoxModel",
     "state": {
      "_dom_classes": [],
      "_model_module": "@jupyter-widgets/controls",
      "_model_module_version": "1.5.0",
      "_model_name": "HBoxModel",
      "_view_count": null,
      "_view_module": "@jupyter-widgets/controls",
      "_view_module_version": "1.5.0",
      "_view_name": "HBoxView",
      "box_style": "",
      "children": [
       "IPY_MODEL_7ad992018dc542c8abbe08bd2db79f09",
       "IPY_MODEL_38494cec247a49e1b2d8247963abb183",
       "IPY_MODEL_e9e6cc8db28345aaa90e419eae810667"
      ],
      "layout": "IPY_MODEL_b0f18f6e3de441769c2ea2e82fdeffa9"
     }
    },
    "0691515a7fde47a08d6642aa51c72eaa": {
     "model_module": "@jupyter-widgets/controls",
     "model_module_version": "1.5.0",
     "model_name": "DescriptionStyleModel",
     "state": {
      "_model_module": "@jupyter-widgets/controls",
      "_model_module_version": "1.5.0",
      "_model_name": "DescriptionStyleModel",
      "_view_count": null,
      "_view_module": "@jupyter-widgets/base",
      "_view_module_version": "1.2.0",
      "_view_name": "StyleView",
      "description_width": ""
     }
    },
    "180a978fcc5a4d9db095e998c7a78944": {
     "model_module": "@jupyter-widgets/controls",
     "model_module_version": "1.5.0",
     "model_name": "ProgressStyleModel",
     "state": {
      "_model_module": "@jupyter-widgets/controls",
      "_model_module_version": "1.5.0",
      "_model_name": "ProgressStyleModel",
      "_view_count": null,
      "_view_module": "@jupyter-widgets/base",
      "_view_module_version": "1.2.0",
      "_view_name": "StyleView",
      "bar_color": null,
      "description_width": ""
     }
    },
    "1fc08b0141784f028a5f310f597a26cd": {
     "model_module": "@jupyter-widgets/controls",
     "model_module_version": "1.5.0",
     "model_name": "DescriptionStyleModel",
     "state": {
      "_model_module": "@jupyter-widgets/controls",
      "_model_module_version": "1.5.0",
      "_model_name": "DescriptionStyleModel",
      "_view_count": null,
      "_view_module": "@jupyter-widgets/base",
      "_view_module_version": "1.2.0",
      "_view_name": "StyleView",
      "description_width": ""
     }
    },
    "234b5fd922e14d5fb6b248a7c5ee8885": {
     "model_module": "@jupyter-widgets/controls",
     "model_module_version": "1.5.0",
     "model_name": "FloatProgressModel",
     "state": {
      "_dom_classes": [],
      "_model_module": "@jupyter-widgets/controls",
      "_model_module_version": "1.5.0",
      "_model_name": "FloatProgressModel",
      "_view_count": null,
      "_view_module": "@jupyter-widgets/controls",
      "_view_module_version": "1.5.0",
      "_view_name": "ProgressView",
      "bar_style": "success",
      "description": "",
      "description_tooltip": null,
      "layout": "IPY_MODEL_bd98ed9610fe4fbbb5481e8efb5b3f79",
      "max": 1,
      "min": 0,
      "orientation": "horizontal",
      "style": "IPY_MODEL_feb5270d1b794938929f48c3bc628a93",
      "value": 1
     }
    },
    "2a726f823ee9414d94ad39f34278847e": {
     "model_module": "@jupyter-widgets/controls",
     "model_module_version": "1.5.0",
     "model_name": "DescriptionStyleModel",
     "state": {
      "_model_module": "@jupyter-widgets/controls",
      "_model_module_version": "1.5.0",
      "_model_name": "DescriptionStyleModel",
      "_view_count": null,
      "_view_module": "@jupyter-widgets/base",
      "_view_module_version": "1.2.0",
      "_view_name": "StyleView",
      "description_width": ""
     }
    },
    "318ac60dfa2447d4bb3b88ff1e7ac96a": {
     "model_module": "@jupyter-widgets/base",
     "model_module_version": "1.2.0",
     "model_name": "LayoutModel",
     "state": {
      "_model_module": "@jupyter-widgets/base",
      "_model_module_version": "1.2.0",
      "_model_name": "LayoutModel",
      "_view_count": null,
      "_view_module": "@jupyter-widgets/base",
      "_view_module_version": "1.2.0",
      "_view_name": "LayoutView",
      "align_content": null,
      "align_items": null,
      "align_self": null,
      "border": null,
      "bottom": null,
      "display": null,
      "flex": null,
      "flex_flow": null,
      "grid_area": null,
      "grid_auto_columns": null,
      "grid_auto_flow": null,
      "grid_auto_rows": null,
      "grid_column": null,
      "grid_gap": null,
      "grid_row": null,
      "grid_template_areas": null,
      "grid_template_columns": null,
      "grid_template_rows": null,
      "height": null,
      "justify_content": null,
      "justify_items": null,
      "left": null,
      "margin": null,
      "max_height": null,
      "max_width": null,
      "min_height": null,
      "min_width": null,
      "object_fit": null,
      "object_position": null,
      "order": null,
      "overflow": null,
      "overflow_x": null,
      "overflow_y": null,
      "padding": null,
      "right": null,
      "top": null,
      "visibility": null,
      "width": null
     }
    },
    "3370d9ea064045b085a4d995bbd565ac": {
     "model_module": "@jupyter-widgets/controls",
     "model_module_version": "1.5.0",
     "model_name": "DescriptionStyleModel",
     "state": {
      "_model_module": "@jupyter-widgets/controls",
      "_model_module_version": "1.5.0",
      "_model_name": "DescriptionStyleModel",
      "_view_count": null,
      "_view_module": "@jupyter-widgets/base",
      "_view_module_version": "1.2.0",
      "_view_name": "StyleView",
      "description_width": ""
     }
    },
    "362155f9156c40fb80230685720e7221": {
     "model_module": "@jupyter-widgets/controls",
     "model_module_version": "1.5.0",
     "model_name": "HTMLModel",
     "state": {
      "_dom_classes": [],
      "_model_module": "@jupyter-widgets/controls",
      "_model_module_version": "1.5.0",
      "_model_name": "HTMLModel",
      "_view_count": null,
      "_view_module": "@jupyter-widgets/controls",
      "_view_module_version": "1.5.0",
      "_view_name": "HTMLView",
      "description": "",
      "description_tooltip": null,
      "layout": "IPY_MODEL_dfa5f901fc33413ea9f9331a76ec93b6",
      "placeholder": "​",
      "style": "IPY_MODEL_b618d021c035428c97e81fa0b85b5d15",
      "value": ""
     }
    },
    "37e2e9acf4c0430285b68082810264af": {
     "model_module": "@jupyter-widgets/base",
     "model_module_version": "1.2.0",
     "model_name": "LayoutModel",
     "state": {
      "_model_module": "@jupyter-widgets/base",
      "_model_module_version": "1.2.0",
      "_model_name": "LayoutModel",
      "_view_count": null,
      "_view_module": "@jupyter-widgets/base",
      "_view_module_version": "1.2.0",
      "_view_name": "LayoutView",
      "align_content": null,
      "align_items": null,
      "align_self": null,
      "border": null,
      "bottom": null,
      "display": null,
      "flex": null,
      "flex_flow": null,
      "grid_area": null,
      "grid_auto_columns": null,
      "grid_auto_flow": null,
      "grid_auto_rows": null,
      "grid_column": null,
      "grid_gap": null,
      "grid_row": null,
      "grid_template_areas": null,
      "grid_template_columns": null,
      "grid_template_rows": null,
      "height": null,
      "justify_content": null,
      "justify_items": null,
      "left": null,
      "margin": null,
      "max_height": null,
      "max_width": null,
      "min_height": null,
      "min_width": null,
      "object_fit": null,
      "object_position": null,
      "order": null,
      "overflow": null,
      "overflow_x": null,
      "overflow_y": null,
      "padding": null,
      "right": null,
      "top": null,
      "visibility": null,
      "width": null
     }
    },
    "38494cec247a49e1b2d8247963abb183": {
     "model_module": "@jupyter-widgets/controls",
     "model_module_version": "1.5.0",
     "model_name": "FloatProgressModel",
     "state": {
      "_dom_classes": [],
      "_model_module": "@jupyter-widgets/controls",
      "_model_module_version": "1.5.0",
      "_model_name": "FloatProgressModel",
      "_view_count": null,
      "_view_module": "@jupyter-widgets/controls",
      "_view_module_version": "1.5.0",
      "_view_name": "ProgressView",
      "bar_style": "success",
      "description": "",
      "description_tooltip": null,
      "layout": "IPY_MODEL_3a845f74d90e4b759c5c0800ab54895d",
      "max": 1,
      "min": 0,
      "orientation": "horizontal",
      "style": "IPY_MODEL_8a9711716f90405289d444000e24a2bd",
      "value": 1
     }
    },
    "3a845f74d90e4b759c5c0800ab54895d": {
     "model_module": "@jupyter-widgets/base",
     "model_module_version": "1.2.0",
     "model_name": "LayoutModel",
     "state": {
      "_model_module": "@jupyter-widgets/base",
      "_model_module_version": "1.2.0",
      "_model_name": "LayoutModel",
      "_view_count": null,
      "_view_module": "@jupyter-widgets/base",
      "_view_module_version": "1.2.0",
      "_view_name": "LayoutView",
      "align_content": null,
      "align_items": null,
      "align_self": null,
      "border": null,
      "bottom": null,
      "display": null,
      "flex": null,
      "flex_flow": null,
      "grid_area": null,
      "grid_auto_columns": null,
      "grid_auto_flow": null,
      "grid_auto_rows": null,
      "grid_column": null,
      "grid_gap": null,
      "grid_row": null,
      "grid_template_areas": null,
      "grid_template_columns": null,
      "grid_template_rows": null,
      "height": null,
      "justify_content": null,
      "justify_items": null,
      "left": null,
      "margin": null,
      "max_height": null,
      "max_width": null,
      "min_height": null,
      "min_width": null,
      "object_fit": null,
      "object_position": null,
      "order": null,
      "overflow": null,
      "overflow_x": null,
      "overflow_y": null,
      "padding": null,
      "right": null,
      "top": null,
      "visibility": null,
      "width": null
     }
    },
    "3d370423a6e64a8da0530207943223bb": {
     "model_module": "@jupyter-widgets/controls",
     "model_module_version": "1.5.0",
     "model_name": "HTMLModel",
     "state": {
      "_dom_classes": [],
      "_model_module": "@jupyter-widgets/controls",
      "_model_module_version": "1.5.0",
      "_model_name": "HTMLModel",
      "_view_count": null,
      "_view_module": "@jupyter-widgets/controls",
      "_view_module_version": "1.5.0",
      "_view_name": "HTMLView",
      "description": "",
      "description_tooltip": null,
      "layout": "IPY_MODEL_4dd83fe02c534d46987d543ec472225f",
      "placeholder": "​",
      "style": "IPY_MODEL_58239670e685478fa37a4a35d8012fb1",
      "value": "Job ID 6e53ffcd-9f32-47a5-91b5-4a5d3eaa015c successfully executed: 100%"
     }
    },
    "4680a90f80f84ae887f7c6e7904df6a5": {
     "model_module": "@jupyter-widgets/controls",
     "model_module_version": "1.5.0",
     "model_name": "FloatProgressModel",
     "state": {
      "_dom_classes": [],
      "_model_module": "@jupyter-widgets/controls",
      "_model_module_version": "1.5.0",
      "_model_name": "FloatProgressModel",
      "_view_count": null,
      "_view_module": "@jupyter-widgets/controls",
      "_view_module_version": "1.5.0",
      "_view_name": "ProgressView",
      "bar_style": "success",
      "description": "",
      "description_tooltip": null,
      "layout": "IPY_MODEL_5163cda3f12341c4ad924cd33f81253b",
      "max": 5,
      "min": 0,
      "orientation": "horizontal",
      "style": "IPY_MODEL_180a978fcc5a4d9db095e998c7a78944",
      "value": 5
     }
    },
    "4dd83fe02c534d46987d543ec472225f": {
     "model_module": "@jupyter-widgets/base",
     "model_module_version": "1.2.0",
     "model_name": "LayoutModel",
     "state": {
      "_model_module": "@jupyter-widgets/base",
      "_model_module_version": "1.2.0",
      "_model_name": "LayoutModel",
      "_view_count": null,
      "_view_module": "@jupyter-widgets/base",
      "_view_module_version": "1.2.0",
      "_view_name": "LayoutView",
      "align_content": null,
      "align_items": null,
      "align_self": null,
      "border": null,
      "bottom": null,
      "display": null,
      "flex": null,
      "flex_flow": null,
      "grid_area": null,
      "grid_auto_columns": null,
      "grid_auto_flow": null,
      "grid_auto_rows": null,
      "grid_column": null,
      "grid_gap": null,
      "grid_row": null,
      "grid_template_areas": null,
      "grid_template_columns": null,
      "grid_template_rows": null,
      "height": null,
      "justify_content": null,
      "justify_items": null,
      "left": null,
      "margin": null,
      "max_height": null,
      "max_width": null,
      "min_height": null,
      "min_width": null,
      "object_fit": null,
      "object_position": null,
      "order": null,
      "overflow": null,
      "overflow_x": null,
      "overflow_y": null,
      "padding": null,
      "right": null,
      "top": null,
      "visibility": null,
      "width": null
     }
    },
    "5163cda3f12341c4ad924cd33f81253b": {
     "model_module": "@jupyter-widgets/base",
     "model_module_version": "1.2.0",
     "model_name": "LayoutModel",
     "state": {
      "_model_module": "@jupyter-widgets/base",
      "_model_module_version": "1.2.0",
      "_model_name": "LayoutModel",
      "_view_count": null,
      "_view_module": "@jupyter-widgets/base",
      "_view_module_version": "1.2.0",
      "_view_name": "LayoutView",
      "align_content": null,
      "align_items": null,
      "align_self": null,
      "border": null,
      "bottom": null,
      "display": null,
      "flex": null,
      "flex_flow": null,
      "grid_area": null,
      "grid_auto_columns": null,
      "grid_auto_flow": null,
      "grid_auto_rows": null,
      "grid_column": null,
      "grid_gap": null,
      "grid_row": null,
      "grid_template_areas": null,
      "grid_template_columns": null,
      "grid_template_rows": null,
      "height": null,
      "justify_content": null,
      "justify_items": null,
      "left": null,
      "margin": null,
      "max_height": null,
      "max_width": null,
      "min_height": null,
      "min_width": null,
      "object_fit": null,
      "object_position": null,
      "order": null,
      "overflow": null,
      "overflow_x": null,
      "overflow_y": null,
      "padding": null,
      "right": null,
      "top": null,
      "visibility": null,
      "width": null
     }
    },
    "58239670e685478fa37a4a35d8012fb1": {
     "model_module": "@jupyter-widgets/controls",
     "model_module_version": "1.5.0",
     "model_name": "DescriptionStyleModel",
     "state": {
      "_model_module": "@jupyter-widgets/controls",
      "_model_module_version": "1.5.0",
      "_model_name": "DescriptionStyleModel",
      "_view_count": null,
      "_view_module": "@jupyter-widgets/base",
      "_view_module_version": "1.2.0",
      "_view_name": "StyleView",
      "description_width": ""
     }
    },
    "5a26fe5b0cde49ac922a31bbb2ae8cb1": {
     "model_module": "@jupyter-widgets/controls",
     "model_module_version": "1.5.0",
     "model_name": "HBoxModel",
     "state": {
      "_dom_classes": [],
      "_model_module": "@jupyter-widgets/controls",
      "_model_module_version": "1.5.0",
      "_model_name": "HBoxModel",
      "_view_count": null,
      "_view_module": "@jupyter-widgets/controls",
      "_view_module_version": "1.5.0",
      "_view_name": "HBoxView",
      "box_style": "",
      "children": [
       "IPY_MODEL_fa36a4ba10e5478c94c8793eabdef0f9",
       "IPY_MODEL_4680a90f80f84ae887f7c6e7904df6a5",
       "IPY_MODEL_ae2428856e6b460db25a921cb73db82a"
      ],
      "layout": "IPY_MODEL_c5d1f108e29b41b0b2c11b7884272e39"
     }
    },
    "734182d90fac4dfea209f94eb2af28c5": {
     "model_module": "@jupyter-widgets/base",
     "model_module_version": "1.2.0",
     "model_name": "LayoutModel",
     "state": {
      "_model_module": "@jupyter-widgets/base",
      "_model_module_version": "1.2.0",
      "_model_name": "LayoutModel",
      "_view_count": null,
      "_view_module": "@jupyter-widgets/base",
      "_view_module_version": "1.2.0",
      "_view_name": "LayoutView",
      "align_content": null,
      "align_items": null,
      "align_self": null,
      "border": null,
      "bottom": null,
      "display": null,
      "flex": null,
      "flex_flow": null,
      "grid_area": null,
      "grid_auto_columns": null,
      "grid_auto_flow": null,
      "grid_auto_rows": null,
      "grid_column": null,
      "grid_gap": null,
      "grid_row": null,
      "grid_template_areas": null,
      "grid_template_columns": null,
      "grid_template_rows": null,
      "height": null,
      "justify_content": null,
      "justify_items": null,
      "left": null,
      "margin": null,
      "max_height": null,
      "max_width": null,
      "min_height": null,
      "min_width": null,
      "object_fit": null,
      "object_position": null,
      "order": null,
      "overflow": null,
      "overflow_x": null,
      "overflow_y": null,
      "padding": null,
      "right": null,
      "top": null,
      "visibility": null,
      "width": null
     }
    },
    "75ad044f51d44fa695c11df5afc5cc1c": {
     "model_module": "@jupyter-widgets/base",
     "model_module_version": "1.2.0",
     "model_name": "LayoutModel",
     "state": {
      "_model_module": "@jupyter-widgets/base",
      "_model_module_version": "1.2.0",
      "_model_name": "LayoutModel",
      "_view_count": null,
      "_view_module": "@jupyter-widgets/base",
      "_view_module_version": "1.2.0",
      "_view_name": "LayoutView",
      "align_content": null,
      "align_items": null,
      "align_self": null,
      "border": null,
      "bottom": null,
      "display": null,
      "flex": null,
      "flex_flow": null,
      "grid_area": null,
      "grid_auto_columns": null,
      "grid_auto_flow": null,
      "grid_auto_rows": null,
      "grid_column": null,
      "grid_gap": null,
      "grid_row": null,
      "grid_template_areas": null,
      "grid_template_columns": null,
      "grid_template_rows": null,
      "height": null,
      "justify_content": null,
      "justify_items": null,
      "left": null,
      "margin": null,
      "max_height": null,
      "max_width": null,
      "min_height": null,
      "min_width": null,
      "object_fit": null,
      "object_position": null,
      "order": null,
      "overflow": null,
      "overflow_x": null,
      "overflow_y": null,
      "padding": null,
      "right": null,
      "top": null,
      "visibility": null,
      "width": null
     }
    },
    "75db7c2b246c43b18f02c554a3135390": {
     "model_module": "@jupyter-widgets/controls",
     "model_module_version": "1.5.0",
     "model_name": "FloatProgressModel",
     "state": {
      "_dom_classes": [],
      "_model_module": "@jupyter-widgets/controls",
      "_model_module_version": "1.5.0",
      "_model_name": "FloatProgressModel",
      "_view_count": null,
      "_view_module": "@jupyter-widgets/controls",
      "_view_module_version": "1.5.0",
      "_view_name": "ProgressView",
      "bar_style": "success",
      "description": "",
      "description_tooltip": null,
      "layout": "IPY_MODEL_37e2e9acf4c0430285b68082810264af",
      "max": 1,
      "min": 0,
      "orientation": "horizontal",
      "style": "IPY_MODEL_01d257c0aeb24bf8972d4bc32adb32f1",
      "value": 1
     }
    },
    "7ad992018dc542c8abbe08bd2db79f09": {
     "model_module": "@jupyter-widgets/controls",
     "model_module_version": "1.5.0",
     "model_name": "HTMLModel",
     "state": {
      "_dom_classes": [],
      "_model_module": "@jupyter-widgets/controls",
      "_model_module_version": "1.5.0",
      "_model_name": "HTMLModel",
      "_view_count": null,
      "_view_module": "@jupyter-widgets/controls",
      "_view_module_version": "1.5.0",
      "_view_name": "HTMLView",
      "description": "",
      "description_tooltip": null,
      "layout": "IPY_MODEL_75ad044f51d44fa695c11df5afc5cc1c",
      "placeholder": "​",
      "style": "IPY_MODEL_e808a627d0744c588e4c09f257d12083",
      "value": "Job ID 2caeee30-adf9-4831-9c93-6eb3d8606775 successfully executed: 100%"
     }
    },
    "7e10a460eff74f3891800b335bfa05ee": {
     "model_module": "@jupyter-widgets/base",
     "model_module_version": "1.2.0",
     "model_name": "LayoutModel",
     "state": {
      "_model_module": "@jupyter-widgets/base",
      "_model_module_version": "1.2.0",
      "_model_name": "LayoutModel",
      "_view_count": null,
      "_view_module": "@jupyter-widgets/base",
      "_view_module_version": "1.2.0",
      "_view_name": "LayoutView",
      "align_content": null,
      "align_items": null,
      "align_self": null,
      "border": null,
      "bottom": null,
      "display": null,
      "flex": null,
      "flex_flow": null,
      "grid_area": null,
      "grid_auto_columns": null,
      "grid_auto_flow": null,
      "grid_auto_rows": null,
      "grid_column": null,
      "grid_gap": null,
      "grid_row": null,
      "grid_template_areas": null,
      "grid_template_columns": null,
      "grid_template_rows": null,
      "height": null,
      "justify_content": null,
      "justify_items": null,
      "left": null,
      "margin": null,
      "max_height": null,
      "max_width": null,
      "min_height": null,
      "min_width": null,
      "object_fit": null,
      "object_position": null,
      "order": null,
      "overflow": null,
      "overflow_x": null,
      "overflow_y": null,
      "padding": null,
      "right": null,
      "top": null,
      "visibility": null,
      "width": null
     }
    },
    "8709bcb23217415da81fe18336b09874": {
     "model_module": "@jupyter-widgets/controls",
     "model_module_version": "1.5.0",
     "model_name": "HTMLModel",
     "state": {
      "_dom_classes": [],
      "_model_module": "@jupyter-widgets/controls",
      "_model_module_version": "1.5.0",
      "_model_name": "HTMLModel",
      "_view_count": null,
      "_view_module": "@jupyter-widgets/controls",
      "_view_module_version": "1.5.0",
      "_view_name": "HTMLView",
      "description": "",
      "description_tooltip": null,
      "layout": "IPY_MODEL_734182d90fac4dfea209f94eb2af28c5",
      "placeholder": "​",
      "style": "IPY_MODEL_1fc08b0141784f028a5f310f597a26cd",
      "value": ""
     }
    },
    "8a8be6c46859483fa0e1365ee9ed41cd": {
     "model_module": "@jupyter-widgets/controls",
     "model_module_version": "1.5.0",
     "model_name": "HBoxModel",
     "state": {
      "_dom_classes": [],
      "_model_module": "@jupyter-widgets/controls",
      "_model_module_version": "1.5.0",
      "_model_name": "HBoxModel",
      "_view_count": null,
      "_view_module": "@jupyter-widgets/controls",
      "_view_module_version": "1.5.0",
      "_view_name": "HBoxView",
      "box_style": "",
      "children": [
       "IPY_MODEL_f0440bade36842548a0c9f8f696bd968",
       "IPY_MODEL_234b5fd922e14d5fb6b248a7c5ee8885",
       "IPY_MODEL_8709bcb23217415da81fe18336b09874"
      ],
      "layout": "IPY_MODEL_b38a00bcd38e4af299ca5b0d3a2b11c4"
     }
    },
    "8a9711716f90405289d444000e24a2bd": {
     "model_module": "@jupyter-widgets/controls",
     "model_module_version": "1.5.0",
     "model_name": "ProgressStyleModel",
     "state": {
      "_model_module": "@jupyter-widgets/controls",
      "_model_module_version": "1.5.0",
      "_model_name": "ProgressStyleModel",
      "_view_count": null,
      "_view_module": "@jupyter-widgets/base",
      "_view_module_version": "1.2.0",
      "_view_name": "StyleView",
      "bar_color": null,
      "description_width": ""
     }
    },
    "ae2428856e6b460db25a921cb73db82a": {
     "model_module": "@jupyter-widgets/controls",
     "model_module_version": "1.5.0",
     "model_name": "HTMLModel",
     "state": {
      "_dom_classes": [],
      "_model_module": "@jupyter-widgets/controls",
      "_model_module_version": "1.5.0",
      "_model_name": "HTMLModel",
      "_view_count": null,
      "_view_module": "@jupyter-widgets/controls",
      "_view_module_version": "1.5.0",
      "_view_name": "HTMLView",
      "description": "",
      "description_tooltip": null,
      "layout": "IPY_MODEL_b599edcce5b544f58fd8781a4bb2dd02",
      "placeholder": "​",
      "style": "IPY_MODEL_3370d9ea064045b085a4d995bbd565ac",
      "value": ""
     }
    },
    "b0f18f6e3de441769c2ea2e82fdeffa9": {
     "model_module": "@jupyter-widgets/base",
     "model_module_version": "1.2.0",
     "model_name": "LayoutModel",
     "state": {
      "_model_module": "@jupyter-widgets/base",
      "_model_module_version": "1.2.0",
      "_model_name": "LayoutModel",
      "_view_count": null,
      "_view_module": "@jupyter-widgets/base",
      "_view_module_version": "1.2.0",
      "_view_name": "LayoutView",
      "align_content": null,
      "align_items": null,
      "align_self": null,
      "border": null,
      "bottom": null,
      "display": null,
      "flex": null,
      "flex_flow": null,
      "grid_area": null,
      "grid_auto_columns": null,
      "grid_auto_flow": null,
      "grid_auto_rows": null,
      "grid_column": null,
      "grid_gap": null,
      "grid_row": null,
      "grid_template_areas": null,
      "grid_template_columns": null,
      "grid_template_rows": null,
      "height": null,
      "justify_content": null,
      "justify_items": null,
      "left": null,
      "margin": null,
      "max_height": null,
      "max_width": null,
      "min_height": null,
      "min_width": null,
      "object_fit": null,
      "object_position": null,
      "order": null,
      "overflow": null,
      "overflow_x": null,
      "overflow_y": null,
      "padding": null,
      "right": null,
      "top": null,
      "visibility": null,
      "width": null
     }
    },
    "b38a00bcd38e4af299ca5b0d3a2b11c4": {
     "model_module": "@jupyter-widgets/base",
     "model_module_version": "1.2.0",
     "model_name": "LayoutModel",
     "state": {
      "_model_module": "@jupyter-widgets/base",
      "_model_module_version": "1.2.0",
      "_model_name": "LayoutModel",
      "_view_count": null,
      "_view_module": "@jupyter-widgets/base",
      "_view_module_version": "1.2.0",
      "_view_name": "LayoutView",
      "align_content": null,
      "align_items": null,
      "align_self": null,
      "border": null,
      "bottom": null,
      "display": null,
      "flex": null,
      "flex_flow": null,
      "grid_area": null,
      "grid_auto_columns": null,
      "grid_auto_flow": null,
      "grid_auto_rows": null,
      "grid_column": null,
      "grid_gap": null,
      "grid_row": null,
      "grid_template_areas": null,
      "grid_template_columns": null,
      "grid_template_rows": null,
      "height": null,
      "justify_content": null,
      "justify_items": null,
      "left": null,
      "margin": null,
      "max_height": null,
      "max_width": null,
      "min_height": null,
      "min_width": null,
      "object_fit": null,
      "object_position": null,
      "order": null,
      "overflow": null,
      "overflow_x": null,
      "overflow_y": null,
      "padding": null,
      "right": null,
      "top": null,
      "visibility": null,
      "width": null
     }
    },
    "b599edcce5b544f58fd8781a4bb2dd02": {
     "model_module": "@jupyter-widgets/base",
     "model_module_version": "1.2.0",
     "model_name": "LayoutModel",
     "state": {
      "_model_module": "@jupyter-widgets/base",
      "_model_module_version": "1.2.0",
      "_model_name": "LayoutModel",
      "_view_count": null,
      "_view_module": "@jupyter-widgets/base",
      "_view_module_version": "1.2.0",
      "_view_name": "LayoutView",
      "align_content": null,
      "align_items": null,
      "align_self": null,
      "border": null,
      "bottom": null,
      "display": null,
      "flex": null,
      "flex_flow": null,
      "grid_area": null,
      "grid_auto_columns": null,
      "grid_auto_flow": null,
      "grid_auto_rows": null,
      "grid_column": null,
      "grid_gap": null,
      "grid_row": null,
      "grid_template_areas": null,
      "grid_template_columns": null,
      "grid_template_rows": null,
      "height": null,
      "justify_content": null,
      "justify_items": null,
      "left": null,
      "margin": null,
      "max_height": null,
      "max_width": null,
      "min_height": null,
      "min_width": null,
      "object_fit": null,
      "object_position": null,
      "order": null,
      "overflow": null,
      "overflow_x": null,
      "overflow_y": null,
      "padding": null,
      "right": null,
      "top": null,
      "visibility": null,
      "width": null
     }
    },
    "b618d021c035428c97e81fa0b85b5d15": {
     "model_module": "@jupyter-widgets/controls",
     "model_module_version": "1.5.0",
     "model_name": "DescriptionStyleModel",
     "state": {
      "_model_module": "@jupyter-widgets/controls",
      "_model_module_version": "1.5.0",
      "_model_name": "DescriptionStyleModel",
      "_view_count": null,
      "_view_module": "@jupyter-widgets/base",
      "_view_module_version": "1.2.0",
      "_view_name": "StyleView",
      "description_width": ""
     }
    },
    "bd98ed9610fe4fbbb5481e8efb5b3f79": {
     "model_module": "@jupyter-widgets/base",
     "model_module_version": "1.2.0",
     "model_name": "LayoutModel",
     "state": {
      "_model_module": "@jupyter-widgets/base",
      "_model_module_version": "1.2.0",
      "_model_name": "LayoutModel",
      "_view_count": null,
      "_view_module": "@jupyter-widgets/base",
      "_view_module_version": "1.2.0",
      "_view_name": "LayoutView",
      "align_content": null,
      "align_items": null,
      "align_self": null,
      "border": null,
      "bottom": null,
      "display": null,
      "flex": null,
      "flex_flow": null,
      "grid_area": null,
      "grid_auto_columns": null,
      "grid_auto_flow": null,
      "grid_auto_rows": null,
      "grid_column": null,
      "grid_gap": null,
      "grid_row": null,
      "grid_template_areas": null,
      "grid_template_columns": null,
      "grid_template_rows": null,
      "height": null,
      "justify_content": null,
      "justify_items": null,
      "left": null,
      "margin": null,
      "max_height": null,
      "max_width": null,
      "min_height": null,
      "min_width": null,
      "object_fit": null,
      "object_position": null,
      "order": null,
      "overflow": null,
      "overflow_x": null,
      "overflow_y": null,
      "padding": null,
      "right": null,
      "top": null,
      "visibility": null,
      "width": null
     }
    },
    "c5d1f108e29b41b0b2c11b7884272e39": {
     "model_module": "@jupyter-widgets/base",
     "model_module_version": "1.2.0",
     "model_name": "LayoutModel",
     "state": {
      "_model_module": "@jupyter-widgets/base",
      "_model_module_version": "1.2.0",
      "_model_name": "LayoutModel",
      "_view_count": null,
      "_view_module": "@jupyter-widgets/base",
      "_view_module_version": "1.2.0",
      "_view_name": "LayoutView",
      "align_content": null,
      "align_items": null,
      "align_self": null,
      "border": null,
      "bottom": null,
      "display": null,
      "flex": null,
      "flex_flow": null,
      "grid_area": null,
      "grid_auto_columns": null,
      "grid_auto_flow": null,
      "grid_auto_rows": null,
      "grid_column": null,
      "grid_gap": null,
      "grid_row": null,
      "grid_template_areas": null,
      "grid_template_columns": null,
      "grid_template_rows": null,
      "height": null,
      "justify_content": null,
      "justify_items": null,
      "left": null,
      "margin": null,
      "max_height": null,
      "max_width": null,
      "min_height": null,
      "min_width": null,
      "object_fit": null,
      "object_position": null,
      "order": null,
      "overflow": null,
      "overflow_x": null,
      "overflow_y": null,
      "padding": null,
      "right": null,
      "top": null,
      "visibility": null,
      "width": null
     }
    },
    "d54b07cf077043049efceeba72cbfa4c": {
     "model_module": "@jupyter-widgets/base",
     "model_module_version": "1.2.0",
     "model_name": "LayoutModel",
     "state": {
      "_model_module": "@jupyter-widgets/base",
      "_model_module_version": "1.2.0",
      "_model_name": "LayoutModel",
      "_view_count": null,
      "_view_module": "@jupyter-widgets/base",
      "_view_module_version": "1.2.0",
      "_view_name": "LayoutView",
      "align_content": null,
      "align_items": null,
      "align_self": null,
      "border": null,
      "bottom": null,
      "display": null,
      "flex": null,
      "flex_flow": null,
      "grid_area": null,
      "grid_auto_columns": null,
      "grid_auto_flow": null,
      "grid_auto_rows": null,
      "grid_column": null,
      "grid_gap": null,
      "grid_row": null,
      "grid_template_areas": null,
      "grid_template_columns": null,
      "grid_template_rows": null,
      "height": null,
      "justify_content": null,
      "justify_items": null,
      "left": null,
      "margin": null,
      "max_height": null,
      "max_width": null,
      "min_height": null,
      "min_width": null,
      "object_fit": null,
      "object_position": null,
      "order": null,
      "overflow": null,
      "overflow_x": null,
      "overflow_y": null,
      "padding": null,
      "right": null,
      "top": null,
      "visibility": null,
      "width": null
     }
    },
    "d8bec2880fc24be1b47adb0b0d07eefd": {
     "model_module": "@jupyter-widgets/base",
     "model_module_version": "1.2.0",
     "model_name": "LayoutModel",
     "state": {
      "_model_module": "@jupyter-widgets/base",
      "_model_module_version": "1.2.0",
      "_model_name": "LayoutModel",
      "_view_count": null,
      "_view_module": "@jupyter-widgets/base",
      "_view_module_version": "1.2.0",
      "_view_name": "LayoutView",
      "align_content": null,
      "align_items": null,
      "align_self": null,
      "border": null,
      "bottom": null,
      "display": null,
      "flex": null,
      "flex_flow": null,
      "grid_area": null,
      "grid_auto_columns": null,
      "grid_auto_flow": null,
      "grid_auto_rows": null,
      "grid_column": null,
      "grid_gap": null,
      "grid_row": null,
      "grid_template_areas": null,
      "grid_template_columns": null,
      "grid_template_rows": null,
      "height": null,
      "justify_content": null,
      "justify_items": null,
      "left": null,
      "margin": null,
      "max_height": null,
      "max_width": null,
      "min_height": null,
      "min_width": null,
      "object_fit": null,
      "object_position": null,
      "order": null,
      "overflow": null,
      "overflow_x": null,
      "overflow_y": null,
      "padding": null,
      "right": null,
      "top": null,
      "visibility": null,
      "width": null
     }
    },
    "d9feeab7e7a44774be4339ac4fce66ec": {
     "model_module": "@jupyter-widgets/controls",
     "model_module_version": "1.5.0",
     "model_name": "DescriptionStyleModel",
     "state": {
      "_model_module": "@jupyter-widgets/controls",
      "_model_module_version": "1.5.0",
      "_model_name": "DescriptionStyleModel",
      "_view_count": null,
      "_view_module": "@jupyter-widgets/base",
      "_view_module_version": "1.2.0",
      "_view_name": "StyleView",
      "description_width": ""
     }
    },
    "dfa5f901fc33413ea9f9331a76ec93b6": {
     "model_module": "@jupyter-widgets/base",
     "model_module_version": "1.2.0",
     "model_name": "LayoutModel",
     "state": {
      "_model_module": "@jupyter-widgets/base",
      "_model_module_version": "1.2.0",
      "_model_name": "LayoutModel",
      "_view_count": null,
      "_view_module": "@jupyter-widgets/base",
      "_view_module_version": "1.2.0",
      "_view_name": "LayoutView",
      "align_content": null,
      "align_items": null,
      "align_self": null,
      "border": null,
      "bottom": null,
      "display": null,
      "flex": null,
      "flex_flow": null,
      "grid_area": null,
      "grid_auto_columns": null,
      "grid_auto_flow": null,
      "grid_auto_rows": null,
      "grid_column": null,
      "grid_gap": null,
      "grid_row": null,
      "grid_template_areas": null,
      "grid_template_columns": null,
      "grid_template_rows": null,
      "height": null,
      "justify_content": null,
      "justify_items": null,
      "left": null,
      "margin": null,
      "max_height": null,
      "max_width": null,
      "min_height": null,
      "min_width": null,
      "object_fit": null,
      "object_position": null,
      "order": null,
      "overflow": null,
      "overflow_x": null,
      "overflow_y": null,
      "padding": null,
      "right": null,
      "top": null,
      "visibility": null,
      "width": null
     }
    },
    "e808a627d0744c588e4c09f257d12083": {
     "model_module": "@jupyter-widgets/controls",
     "model_module_version": "1.5.0",
     "model_name": "DescriptionStyleModel",
     "state": {
      "_model_module": "@jupyter-widgets/controls",
      "_model_module_version": "1.5.0",
      "_model_name": "DescriptionStyleModel",
      "_view_count": null,
      "_view_module": "@jupyter-widgets/base",
      "_view_module_version": "1.2.0",
      "_view_name": "StyleView",
      "description_width": ""
     }
    },
    "e9776a0006214afd9d19747320dfa702": {
     "model_module": "@jupyter-widgets/controls",
     "model_module_version": "1.5.0",
     "model_name": "HBoxModel",
     "state": {
      "_dom_classes": [],
      "_model_module": "@jupyter-widgets/controls",
      "_model_module_version": "1.5.0",
      "_model_name": "HBoxModel",
      "_view_count": null,
      "_view_module": "@jupyter-widgets/controls",
      "_view_module_version": "1.5.0",
      "_view_name": "HBoxView",
      "box_style": "",
      "children": [
       "IPY_MODEL_3d370423a6e64a8da0530207943223bb",
       "IPY_MODEL_75db7c2b246c43b18f02c554a3135390",
       "IPY_MODEL_362155f9156c40fb80230685720e7221"
      ],
      "layout": "IPY_MODEL_318ac60dfa2447d4bb3b88ff1e7ac96a"
     }
    },
    "e9e6cc8db28345aaa90e419eae810667": {
     "model_module": "@jupyter-widgets/controls",
     "model_module_version": "1.5.0",
     "model_name": "HTMLModel",
     "state": {
      "_dom_classes": [],
      "_model_module": "@jupyter-widgets/controls",
      "_model_module_version": "1.5.0",
      "_model_name": "HTMLModel",
      "_view_count": null,
      "_view_module": "@jupyter-widgets/controls",
      "_view_module_version": "1.5.0",
      "_view_name": "HTMLView",
      "description": "",
      "description_tooltip": null,
      "layout": "IPY_MODEL_7e10a460eff74f3891800b335bfa05ee",
      "placeholder": "​",
      "style": "IPY_MODEL_2a726f823ee9414d94ad39f34278847e",
      "value": ""
     }
    },
    "f0440bade36842548a0c9f8f696bd968": {
     "model_module": "@jupyter-widgets/controls",
     "model_module_version": "1.5.0",
     "model_name": "HTMLModel",
     "state": {
      "_dom_classes": [],
      "_model_module": "@jupyter-widgets/controls",
      "_model_module_version": "1.5.0",
      "_model_name": "HTMLModel",
      "_view_count": null,
      "_view_module": "@jupyter-widgets/controls",
      "_view_module_version": "1.5.0",
      "_view_name": "HTMLView",
      "description": "",
      "description_tooltip": null,
      "layout": "IPY_MODEL_d54b07cf077043049efceeba72cbfa4c",
      "placeholder": "​",
      "style": "IPY_MODEL_0691515a7fde47a08d6642aa51c72eaa",
      "value": "Job ID db2db9bd-07cc-4533-957d-087ff59b6d55 successfully executed: 100%"
     }
    },
    "fa36a4ba10e5478c94c8793eabdef0f9": {
     "model_module": "@jupyter-widgets/controls",
     "model_module_version": "1.5.0",
     "model_name": "HTMLModel",
     "state": {
      "_dom_classes": [],
      "_model_module": "@jupyter-widgets/controls",
      "_model_module_version": "1.5.0",
      "_model_name": "HTMLModel",
      "_view_count": null,
      "_view_module": "@jupyter-widgets/controls",
      "_view_module_version": "1.5.0",
      "_view_name": "HTMLView",
      "description": "",
      "description_tooltip": null,
      "layout": "IPY_MODEL_d8bec2880fc24be1b47adb0b0d07eefd",
      "placeholder": "​",
      "style": "IPY_MODEL_d9feeab7e7a44774be4339ac4fce66ec",
      "value": "Downloading: 100%"
     }
    },
    "feb5270d1b794938929f48c3bc628a93": {
     "model_module": "@jupyter-widgets/controls",
     "model_module_version": "1.5.0",
     "model_name": "ProgressStyleModel",
     "state": {
      "_model_module": "@jupyter-widgets/controls",
      "_model_module_version": "1.5.0",
      "_model_name": "ProgressStyleModel",
      "_view_count": null,
      "_view_module": "@jupyter-widgets/base",
      "_view_module_version": "1.2.0",
      "_view_name": "StyleView",
      "bar_color": null,
      "description_width": ""
     }
    }
   }
  }
 },
 "nbformat": 4,
 "nbformat_minor": 4
}
