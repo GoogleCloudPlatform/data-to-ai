{
  "cells": [
    {
      "cell_type": "code",
      "execution_count": null,
      "metadata": {
        "id": "ijGzTHJJUCPY"
      },
      "outputs": [],
      "source": [
        "# Copyright 2024 Google LLC\n",
        "#\n",
        "# Licensed under the Apache License, Version 2.0 (the \"License\");\n",
        "# you may not use this file except in compliance with the License.\n",
        "# You may obtain a copy of the License at\n",
        "#\n",
        "#     https://www.apache.org/licenses/LICENSE-2.0\n",
        "#\n",
        "# Unless required by applicable law or agreed to in writing, software\n",
        "# distributed under the License is distributed on an \"AS IS\" BASIS,\n",
        "# WITHOUT WARRANTIES OR CONDITIONS OF ANY KIND, either express or implied.\n",
        "# See the License for the specific language governing permissions and\n",
        "# limitations under the License."
      ]
    },
    {
      "cell_type": "markdown",
      "metadata": {
        "id": "VEqbX8OhE8y9"
      },
      "source": [
        "# Bus stop image generation using Imagen 3"
      ]
    },
    {
      "cell_type": "markdown",
      "source": [],
      "metadata": {
        "id": "JNPWDcdo3Oqt"
      }
    },
    {
      "cell_type": "markdown",
      "metadata": {
        "id": "CkHPv2myT2cx"
      },
      "source": [
        "## Overview\n",
        "\n",
        "### Imagen 3\n",
        "\n",
        "Imagen 3 on Vertex AI brings Google's state of the art generative AI capabilities to application developers. Imagen 3 is Google's highest quality text-to-image model to date. It's capable of creating images with astonishing detail. Thus, developers have more control when building next-generation AI products that transform their imagination into high quality visual assets. Learn more about [Imagen on Vertex AI](https://cloud.google.com/vertex-ai/generative-ai/docs/image/overview).\n"
      ]
    },
    {
      "cell_type": "markdown",
      "metadata": {
        "id": "DrkcqHrrwMAo"
      },
      "source": [
        "In this notebook you will be able to generate test images of the bus stops which you can then process using the multimodal capabilities of Google Cloud implemented in this repo.\n",
        "\n",
        "**NOTE**: this notebook is experimental and not fully integrated with the rest of the solution."
      ]
    },
    {
      "cell_type": "markdown",
      "metadata": {
        "id": "r11Gu7qNgx1p"
      },
      "source": [
        "## Get started\n"
      ]
    },
    {
      "cell_type": "markdown",
      "metadata": {
        "id": "No17Cw5hgx12"
      },
      "source": [
        "### Install Vertex AI SDK for Python\n"
      ]
    },
    {
      "cell_type": "code",
      "execution_count": null,
      "metadata": {
        "id": "tFy3H3aPgx12"
      },
      "outputs": [],
      "source": [
        "%pip install --quiet --upgrade --user google-cloud-aiplatform"
      ]
    },
    {
      "cell_type": "markdown",
      "metadata": {
        "id": "R5Xep4W9lq-Z"
      },
      "source": [
        "### Restart runtime\n",
        "\n",
        "To use the newly installed packages in this Jupyter runtime, you must restart the runtime. You can do this by running the cell below, which restarts the current kernel.\n",
        "\n",
        "The restart might take a minute or longer. After it's restarted, continue to the next step."
      ]
    },
    {
      "cell_type": "code",
      "execution_count": null,
      "metadata": {
        "id": "XRvKdaPDTznN"
      },
      "outputs": [],
      "source": [
        "import IPython\n",
        "\n",
        "app = IPython.Application.instance()\n",
        "app.kernel.do_shutdown(True)"
      ]
    },
    {
      "cell_type": "markdown",
      "metadata": {
        "id": "SbmM4z7FOBpM"
      },
      "source": [
        "<div class=\"alert alert-block alert-warning\">\n",
        "<b>⚠️ The kernel is going to restart. Please wait until it is finished before continuing to the next step. ⚠️</b>\n",
        "</div>\n"
      ]
    },
    {
      "cell_type": "markdown",
      "metadata": {
        "id": "dmWOrTJ3gx13"
      },
      "source": [
        "### Authenticate your notebook environment (Colab only)\n",
        "\n",
        "If you are running this notebook on Google Colab, run the following cell to authenticate your environment.\n"
      ]
    },
    {
      "cell_type": "code",
      "execution_count": null,
      "metadata": {
        "id": "NyKGtVQjgx13"
      },
      "outputs": [],
      "source": [
        "import sys\n",
        "\n",
        "if \"google.colab\" in sys.modules:\n",
        "    from google.colab import auth\n",
        "\n",
        "    auth.authenticate_user()"
      ]
    },
    {
      "cell_type": "markdown",
      "metadata": {
        "id": "DF4l8DTdWgPY"
      },
      "source": [
        "### Set Google Cloud project information, initialize Vertex AI SDK and import libraries\n",
        "\n",
        "To get started using Vertex AI, you must have an existing Google Cloud project and [enable the Vertex AI API](https://console.cloud.google.com/flows/enableapi?apiid=aiplatform.googleapis.com).\n",
        "\n",
        "Learn more about [setting up a project and a development environment](https://cloud.google.com/vertex-ai/docs/start/cloud-environment)."
      ]
    },
    {
      "cell_type": "code",
      "execution_count": null,
      "metadata": {
        "id": "Nqwi-5ufWp_B"
      },
      "outputs": [],
      "source": [
        "import vertexai\n",
        "from vertexai.preview.vision_models import ImageGenerationModel, Image\n",
        "import ipywidgets as widgets\n",
        "\n",
        "PROJECT_ID = \"\"  # @param {type:\"string\"}\n",
        "LOCATION = \"us-central1\"  # @param {type:\"string\"}\n",
        "IMAGE_BUCKET = \"\" # @param {type:\"string\"}\n",
        "BASE_IMAGE_FOLDER = \"gs://\" + IMAGE_BUCKET + \"/base-images\"\n",
        "MASK_IMAGE_FOLDER = \"gs://\" + IMAGE_BUCKET + \"/masks\"\n",
        "PROCESSING_FOLDER = \"gs://\" + IMAGE_BUCKET + \"/images\"\n",
        "\n",
        "vertexai.init(project=PROJECT_ID, location=LOCATION)"
      ]
    },
    {
      "cell_type": "markdown",
      "metadata": {
        "id": "Sr2Y3lFwKW1M"
      },
      "source": [
        "### Define a helper function"
      ]
    },
    {
      "cell_type": "code",
      "execution_count": null,
      "metadata": {
        "id": "r_38e5rRKB6s"
      },
      "outputs": [],
      "source": [
        "import typing\n",
        "\n",
        "import IPython.display\n",
        "from PIL import Image as PIL_Image\n",
        "from PIL import ImageOps as PIL_ImageOps\n",
        "\n",
        "\n",
        "def display_image(\n",
        "    image,\n",
        "    max_width: int = 600,\n",
        "    max_height: int = 350,\n",
        ") -> None:\n",
        "    pil_image = typing.cast(PIL_Image.Image, image._pil_image)\n",
        "    if pil_image.mode != \"RGB\":\n",
        "        # RGB is supported by all Jupyter environments (e.g. RGBA is not yet)\n",
        "        pil_image = pil_image.convert(\"RGB\")\n",
        "    image_width, image_height = pil_image.size\n",
        "    if max_width < image_width or max_height < image_height:\n",
        "        # Resize to display a smaller notebook image\n",
        "        pil_image = PIL_ImageOps.contain(pil_image, (max_width, max_height))\n",
        "    IPython.display.display(pil_image)"
      ]
    },
    {
      "cell_type": "markdown",
      "metadata": {
        "id": "VLmwIj2RD0Fx"
      },
      "source": [
        "## Select the image generation model and generation parameters\n",
        "\n"
      ]
    },
    {
      "cell_type": "markdown",
      "metadata": {
        "id": "mvH2OTrK8IRS"
      },
      "source": [
        "\n",
        "\n",
        "With Imagen 3, you also have the option to use Imagen 3 Fast. These two model options give you the choice to optimize for quality and latency, depending on your use case.\n",
        "\n",
        "**Imagen 3:** Generates high quality images with natural lighting and increased photorealism.\n",
        "\n",
        "**Imagen 3 Fast:** Suitable for creating brighter images with a higher contrast. Overall, you can see a 40% decrease in latency in Imagen 3 Fast compared to Imagen 2.\n",
        "\n",
        "With Imagen 3 and Imagen 3 Fast, you can also configure the `aspect ratio` to any of the following:\n",
        "* 1:1\n",
        "* 9:16\n",
        "* 16:9\n",
        "* 3:4\n",
        "* 4:3"
      ]
    },
    {
      "cell_type": "code",
      "execution_count": null,
      "metadata": {
        "id": "F-gd2ypQhh7K"
      },
      "outputs": [],
      "source": [
        "model_selector = widgets.Dropdown(\n",
        "    options=[(\"Imagen 3\", \"imagen-3.0-generate-001\"), (\"Imagen 3 Fast\",  \"imagen-3.0-fast-generate-001\")],\n",
        "    description='Model type:',\n",
        "    disabled=False,\n",
        ")\n",
        "\n",
        "ratio_selector = widgets.Dropdown(\n",
        "    options=[\"1:1\", \"9:16\", \"16:9\", \"3:4\", \"4:3\"],\n",
        "    description='Aspect ratio:',\n",
        "    value=\"16:9\",\n",
        "    disabled=False,\n",
        ")\n",
        "\n",
        "display(model_selector, ratio_selector)"
      ]
    },
    {
      "cell_type": "markdown",
      "source": [
        "### Generate image"
      ],
      "metadata": {
        "id": "YdsU23BVNOuW"
      }
    },
    {
      "cell_type": "code",
      "execution_count": null,
      "metadata": {
        "id": "KJqHuGqi31rE"
      },
      "outputs": [],
      "source": [
        "import matplotlib.pyplot as plt\n",
        "\n",
        "generation_model = ImageGenerationModel.from_pretrained(model_selector.value)\n",
        "ratio = ratio_selector.value\n",
        "model_name = \"Imagen 3 Fast\" if \"fast\" in model_selector.value else \"Imagen 3\"\n",
        "\n",
        "prompt = \"\"\"\n",
        "A photo of a bus stop with clean glass, city street background.\n",
        "Add \"Main Street\" name to the stop.\n",
        "\"\"\"\n",
        "\n",
        "generate_image_response = generation_model.generate_images(\n",
        "    prompt=prompt,\n",
        "    number_of_images=1,\n",
        "    aspect_ratio=ratio,\n",
        "    safety_filter_level=\"block_some\",\n",
        "    person_generation=\"allow_adult\",\n",
        "\n",
        ")\n",
        "\n",
        "# Display generated images\n",
        "fig, axis = plt.subplots(1, 2, figsize=(12, 6))\n",
        "axis[0].imshow(generate_image_response[0]._pil_image)\n",
        "axis[0].set_title(\"Model: \" + model_name + \", ratio: \" + ratio)\n",
        "# axis[1].imshow(fast_image[0]._pil_image)\n",
        "# axis[1].set_title(\"Imagen 3 Fast\")\n",
        "for ax in axis:\n",
        "    ax.axis(\"off\")\n",
        "plt.show()"
      ]
    },
    {
      "cell_type": "markdown",
      "source": [
        "# Save the image as the base bus stop image"
      ],
      "metadata": {
        "id": "SpAm3LyQ3f2k"
      }
    },
    {
      "cell_type": "markdown",
      "source": [
        "Once you are happy with the image, save it to the image bucket. Later on you will be using these images to simulate taking new pictures."
      ],
      "metadata": {
        "id": "qpQ_c1Dt9Y8k"
      }
    },
    {
      "cell_type": "code",
      "source": [
        "stop_name= \"main-at-4th\" # @param {type:\"string\"}\n",
        "\n",
        "extension_selector = widgets.Dropdown(\n",
        "    options=[(\"PNG\", \"png\"), (\"JPEG\", \"jpeg\")],\n",
        "    description=\"Format:\"\n",
        ")\n",
        "\n",
        "display(extension_selector)"
      ],
      "metadata": {
        "id": "EQEAt5DvBV4V"
      },
      "execution_count": null,
      "outputs": []
    },
    {
      "cell_type": "code",
      "source": [
        "image_extension = extension_selector.value\n",
        "original_image = generate_image_response[0]\n",
        "temp_file = \"/tmp\" + \"/\" + stop_name + \".\" + image_extension\n",
        "original_image.save(\n",
        "    location=temp_file, include_generation_parameters=True)\n",
        "\n",
        "!gcloud storage cp {temp_file} {BASE_IMAGE_FOLDER}/{stop_name}.{image_extension}"
      ],
      "metadata": {
        "id": "Lva8M_eLAtxu"
      },
      "execution_count": null,
      "outputs": []
    },
    {
      "cell_type": "code",
      "source": [
        "\n",
        "temp_file = \"/tmp\" + \"/\" + stop_name + \".\" + image_extension\n",
        "edited_image.save(\n",
        "    location=temp_file, include_generation_parameters=True)\n",
        "\n",
        "import datetime\n",
        "now = datetime.datetime.now()\n",
        "timestamp = now.strftime('%Y-%m-%dT%H:%M:%S')\n",
        "\n",
        "!gcloud storage cp {temp_file} {PROCESSING_FOLDER}/{stop_name}-{timestamp}.jpeg --custom-metadata=stop_id={stop_name}\n"
      ],
      "metadata": {
        "id": "BJNwgG-EoAHh"
      },
      "execution_count": null,
      "outputs": []
    }
  ],
  "metadata": {
    "colab": {
      "name": "image-generation-using-imagen3.ipynb",
      "provenance": [],
      "toc_visible": true
    },
    "kernelspec": {
      "display_name": "Python 3",
      "name": "python3"
    }
  },
  "nbformat": 4,
  "nbformat_minor": 0
}