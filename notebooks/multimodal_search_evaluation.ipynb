{
 "cells": [
  {
   "cell_type": "code",
   "execution_count": null,
   "metadata": {},
   "outputs": [],
   "source": [
    "# Copyright 2025 Google LLC\n",
    "#\n",
    "# Licensed under the Apache License, Version 2.0 (the \"License\");\n",
    "# you may not use this file except in compliance with the License.\n",
    "# You may obtain a copy of the License at\n",
    "#\n",
    "#     https://www.apache.org/licenses/LICENSE-2.0\n",
    "#\n",
    "# Unless required by applicable law or agreed to in writing, software\n",
    "# distributed under the License is distributed on an \"AS IS\" BASIS,\n",
    "# WITHOUT WARRANTIES OR CONDITIONS OF ANY KIND, either express or implied.\n",
    "# See the License for the specific language governing permissions and\n",
    "# limitations under the License."
   ]
  },
  {
   "cell_type": "markdown",
   "metadata": {
    "id": "P63__B6sSy30"
   },
   "source": [
    "# CleanSight (Part 2): Evaluating Multimodal Image Search\n",
    "*powered by BigQuery, Vertex AI and Gemini*"
   ]
  },
  {
   "cell_type": "markdown",
   "metadata": {},
   "source": [
    "## Overview\n",
    "\n",
    "This notebook builds upon the multimodal analysis and search capabilities established in [Part 1 (\"CleanSight: Multimodal Analysis and Search of Bus Stops\")](./multimodal_analysis_search.ipynb). Here, we focus on evaluating the performance of the image search functionality which uses BigQuery and Gemini 1.5 Pro. We will leverage the same tables, models and vector search created in the previous notebook to assess the accuracy of our semantic search. We will use [DeepEval](https://docs.confident-ai.com/), the open-source LLM evaluation framework, to set up and execute our test cases and calculate the different evaluation metrics (detailed below).\n",
    "\n",
    "This notebook will cover:\n",
    "\n",
    "- **Defining evaluation metrics for document retrieval**: We will cover relevant metrics to evaluate the image search, i.e. our vector search-backed document retrieval. Metrics such as contextual recall and precision, will assess how well the system retrieves relevant images given a textual query. We will use a diverse set of natural language queries related to common bus stop issues (e.g., \"damaged bench,\" \"litter near shelter,\" \"graffiti on the wall\") as our test cases.\n",
    "\n",
    "- **Using Gemini as multimodal LLM judge in DeepEval evaluations**: We will leverage Gemini 1.5 Pro to evaluate each retrieved image and determine whether it's a true or false positive. These results will be used to calculate the document retrieval metrics. Using LLM for evaluation of retrieved documents is necessary since there's no labeled dataset, as is often the case.\n",
    "\n",
    "For our image search use case, this evaluation will help answer the following questions:\n",
    "\n",
    "1. Do the vector embeddings meaningfully represent the bus stop images and accurately capture the cleanliness/maintenance/safety nuances?\n",
    "\t- This is influenced by hyperparameters like the choice of **embedding model**, **prompt**, and **temperature**.\n",
    "2. Does the vector search retrieve the relevant results and rerank them in the right order?\n",
    "\t- This is influenced by hyperparameters like search parameters **top-K**, **distance type**, and **reranking** logic.\n",
    "\n",
    "This quantitative assessment provides valuable insights into the strengths of multimodal image search, along with actionable results to tune the aforementioned hyperparameters. The methods described here can be readily applied to other document retrieval systems, be it standalone like a search application or a part of a RAG pipeline for a LLM application."
   ]
  },
  {
   "cell_type": "markdown",
   "metadata": {
    "id": "WzI1RC8NnJT5"
   },
   "source": [
    "### Why does document retrieval evaluation matter?"
   ]
  },
  {
   "cell_type": "markdown",
   "metadata": {
    "id": "mJog9DT5nfJS"
   },
   "source": [
    "Evaluating document retrieval is crucial for both search applications and Retrieval-Augmented-Generation (RAG) pipelines because it directly impacts the quality and relevance of the information retrieved. Effective evaluation helps identify areas for improvement in retrieval systems, leading to more accurate, comprehensive, and satisfactory search results and LLM-generated responses."
   ]
  },
  {
   "cell_type": "markdown",
   "metadata": {
    "id": "pDGx79sanO3Y"
   },
   "source": [
    "In the context of RAG, you typically evaluate the Retriever and Generator separately to help pinpoint issues in your RAG pipeline. The following diagram shows the relevant metrics for each component. In this notebook, we focus on the Retriever metrics."
   ]
  },
  {
   "cell_type": "markdown",
   "metadata": {
    "id": "6u9QIm7vuWPY"
   },
   "source": [
    "<div style=\"text-align: center;\">\n",
    "  <img src=\"https://d2lsxfc3p6r9rv.cloudfront.net/rag-pipeline.svg\" alt=\"RAG pipeline evaluation\" width=\"300px\" style=\"margin: auto;display: block;margin-left: auto;margin-right: auto;\">\n",
    "  <p>RAG pipeline evaluation - Source: https://docs.confident-ai.com/docs/guides-rag-evaluation</p>\n",
    "</div>"
   ]
  },
  {
   "cell_type": "markdown",
   "metadata": {
    "id": "AFqQKMnW9HJt"
   },
   "source": [
    "Using DeepEval and Gemini as LLM judge, we will specifically measure the following metrics for a comprehensive evaluation of our image search:\n",
    "- **Contextual recall** which calculates the percentage of relevant images out of all retrieved images. This metric evaluates the ability of the underlying embedding model to accurately capture and retrieve as many relevant images based on the textual query. For more details on how it is calculated, see [multimodal contextual recall](https://docs.confident-ai.com/docs/multimodal-metrics-contextual-recall#how-is-it-calculated).\n",
    "- **Contextual precision** which evaluates the order of the retrieved images where the relevant images rank higher than the irrelevant ones. For more details on how it is calculated, see [multimodal contextual precision](https://docs.confident-ai.com/docs/multimodal-metrics-contextual-precision#how-is-it-calculated).\n",
    "\n",
    "Note: You might have noticed we are not measuring **contextual relevancy**. While contextual recall compares retrieved documents against expected output, contextual relevancy compares retrieved documents against user input. They're both useful for evaluating a general RAG retriever. However, in the case of a simple search application, user input and expected output are semantically equivalent (e.g. querying for 'broken glass' has the expected output of 'broken glass' images). Therefore, contextual relevancy and recall are 100% the same in the case of a search application like our cross-modality image search use case."
   ]
  },
  {
   "cell_type": "markdown",
   "metadata": {
    "id": "jbmv2fBEUN51"
   },
   "source": [
    "## Prerequisites\n",
    "\n"
   ]
  },
  {
   "cell_type": "markdown",
   "metadata": {
    "id": "IhVqAbHbZPd6"
   },
   "source": [
    "Since this part 2 notebook builds on part 1, it is assumed you have already completed [part 1](./multimodal_analysis_search.ipynb) and have processed the image batches. Specifically, in this notebook, you will use the following pre-deployed BigQuery and Cloud Storage resources:\n",
    "\n",
    "- Image reports table `multimodal.image_reports`\n",
    "- Image vector embeddings table `multimodal.image_reports_vector_db`\n",
    "- Remote text embedding model `multimodal.text_embedding_model`\n",
    "- Cloud resource connection `multimodal.{REGION}.multimodal`\n",
    "- Cloud Storage bucket and pre-processed images under `gs://{PROJECT_ID}-multimodal/target/*`"
   ]
  },
  {
   "cell_type": "markdown",
   "metadata": {},
   "source": [
    "#### Cost considerations"
   ]
  },
  {
   "cell_type": "markdown",
   "metadata": {},
   "source": [
    "While no new cloud resources will be created in this notebook, running this notebook will incur minor costs associated with Gemini API usage and BigQuery processing. The DeepEval framework evaluates the accuracy of BigQuery vector search results, and is configured to use Gemini 1.5 Pro as the LLM judge for the few test cases defined below. Refer to the following pages for pricing details of the Cloud services used in this notebook:\n",
    "\n",
    "- [BigQuery pricing](https://cloud.google.com/bigquery/docs/pricing)\n",
    "- [Vertex AI pricing](https://cloud.google.com/vertex-ai/generative-ai/pricing)"
   ]
  },
  {
   "cell_type": "markdown",
   "metadata": {
    "id": "kq5CVnCXebOb"
   },
   "source": [
    "## Getting Started"
   ]
  },
  {
   "cell_type": "markdown",
   "metadata": {
    "id": "77mCQO2Of15N"
   },
   "source": [
    "Let's first create some environment variables, including your Google Cloud project ID and the region where you previously deployed the prerequisite resources into:"
   ]
  },
  {
   "cell_type": "code",
   "execution_count": null,
   "metadata": {
    "executionInfo": {
     "elapsed": 2,
     "status": "ok",
     "timestamp": 1736952684757,
     "user": {
      "displayName": "",
      "userId": ""
     },
     "user_tz": 360
    },
    "id": "HR__Ef43ZPfQ"
   },
   "outputs": [],
   "source": [
    "PROJECT_ID = \"your-project-id\" # @param {type:\"string\"}\n",
    "REGION = \"us-central1\" # @param {type:\"string\"}\n",
    "\n",
    "BUCKET_NAME = f\"{PROJECT_ID}-multimodal\"  # Bucket pre-created\n",
    "IMAGE_PATH = f\"gs://{BUCKET_NAME}/target\" # Path of pre-processed images"
   ]
  },
  {
   "cell_type": "markdown",
   "metadata": {
    "id": "n8rxPY7tZY5U"
   },
   "source": [
    "### Install packages"
   ]
  },
  {
   "cell_type": "code",
   "execution_count": null,
   "metadata": {
    "executionInfo": {
     "elapsed": 5154,
     "status": "ok",
     "timestamp": 1736952698872,
     "user": {
      "displayName": "",
      "userId": ""
     },
     "user_tz": 360
    },
    "id": "Q1eNnfaqZTNd"
   },
   "outputs": [],
   "source": [
    "%pip install --upgrade --user --quiet \\\n",
    "    google-cloud-aiplatform \\\n",
    "    google-cloud-bigquery \\\n",
    "    deepeval"
   ]
  },
  {
   "cell_type": "markdown",
   "metadata": {
    "id": "eUHDKyrvZbfY"
   },
   "source": [
    "### Import libraries"
   ]
  },
  {
   "cell_type": "code",
   "execution_count": null,
   "metadata": {
    "executionInfo": {
     "elapsed": 4050,
     "status": "ok",
     "timestamp": 1736952705661,
     "user": {
      "displayName": "",
      "userId": ""
     },
     "user_tz": 360
    },
    "id": "uj6OAruUmS45"
   },
   "outputs": [],
   "source": [
    "from google.cloud import bigquery\n",
    "import asyncio\n",
    "import vertexai\n",
    "import pandas as pd\n",
    "from IPython.display import HTML"
   ]
  },
  {
   "cell_type": "code",
   "execution_count": null,
   "metadata": {
    "executionInfo": {
     "elapsed": 2,
     "status": "ok",
     "timestamp": 1736952705661,
     "user": {
      "displayName": "",
      "userId": ""
     },
     "user_tz": 360
    },
    "id": "wtkyjl75afM-"
   },
   "outputs": [],
   "source": [
    "# initialize bigquery client\n",
    "client = bigquery.Client()\n",
    "\n",
    "# set pandas styling options\n",
    "# Don't truncate strings in BigQuery query results\n",
    "pd.set_option('display.max_colwidth', None)"
   ]
  },
  {
   "cell_type": "markdown",
   "metadata": {
    "id": "k4_Ja4irfhVf"
   },
   "source": [
    "### Define utility functions"
   ]
  },
  {
   "cell_type": "markdown",
   "metadata": {
    "id": "60Pkxw0VfmLV"
   },
   "source": [
    "As per prior notebook, let's define some styling functions to help display dataframes with embedded images."
   ]
  },
  {
   "cell_type": "code",
   "execution_count": null,
   "metadata": {
    "executionInfo": {
     "elapsed": 178,
     "status": "ok",
     "timestamp": 1736952707810,
     "user": {
      "displayName": "",
      "userId": ""
     },
     "user_tz": 360
    },
    "id": "INZg3gfPfkyZ"
   },
   "outputs": [],
   "source": [
    "# Generate HTML img tag from signed url\n",
    "def preview_image(uri):\n",
    "  if pd.notna(uri):\n",
    "    return f'<img src=\"{uri}\" style=\"width:300px; height:auto; transition: transform 0.25s ease; border: 1px solid black;\" onmouseover=\"this.style.transform=\\'scale(2.5)\\';\" onmouseout=\"this.style.transform=\\'scale(1.0)\\';\">'\n",
    "  else:\n",
    "    return None"
   ]
  },
  {
   "cell_type": "markdown",
   "metadata": {
    "id": "VI0xLxmm7HBa"
   },
   "source": [
    "## Preview Image Dataset"
   ]
  },
  {
   "cell_type": "markdown",
   "metadata": {
    "id": "rIDOBrKegaN_"
   },
   "source": [
    "Let's first confirm the image reports and embeddings tables are already populated."
   ]
  },
  {
   "cell_type": "markdown",
   "metadata": {
    "id": "puoEjIY8iL4m"
   },
   "source": [
    "If you've completed part 1, there should be 70+ pre-processed images and corresponding vector embeddings in BigQuery. It's a small dataset, but sufficient to run some searches and evaluate initial search quality."
   ]
  },
  {
   "cell_type": "code",
   "execution_count": null,
   "metadata": {
    "colab": {
     "base_uri": "https://localhost:8080/",
     "height": 81,
     "referenced_widgets": [
      "addb5bbdde8445beb7cc78508cd82dad",
      "e1225a3136cb4e948bb68289cdb359a8",
      "4d31b1a2cb3d4f778b37ec3deed3847d",
      "345ac3a29a96452dbf517cd3b572add1",
      "73f7667a9a164d33a6c183e9ba9c397e",
      "7d5fc9b577d245b9af91e7dd7460c5cf",
      "53103ba87f9a48bfb73ffff42f10e9ca",
      "b8fa438f0c5649bba714c050dcf5db0f",
      "7b27e975b2be4a6ca0d446cd2a4bb527",
      "b2a3307a53e3442386b89b0e1919190f",
      "e1308a15b4b34e24be8bad56df974769",
      "8baf4ab8fe3b434e8dca31aad4302922",
      "4226ca5c70cb4abc8eab863481c49a27",
      "6c9a06f0e39044b3819879ead50b8b72",
      "5c12d9a18d564179b0ca292c5dede7c5",
      "7958bba55ba944e79817876ebbd5a014",
      "87c1083d0467444fa2b0f135317333af",
      "05718a065cb348778d80152514886c0f",
      "b6fe89935d2b4208b096370d9be62296",
      "b2932c06ab024487abecd498862b0b44",
      "7c9d4fb1ed1b4420a527e768facbb4af",
      "62f44dc3002c4dd69536818b2bbab4c2"
     ]
    },
    "executionInfo": {
     "elapsed": 2745,
     "status": "ok",
     "timestamp": 1736952710553,
     "user": {
      "displayName": "",
      "userId": ""
     },
     "user_tz": 360
    },
    "id": "bIw82qhuHWy0",
    "outputId": "b8dc2afe-6a76-43a2-fd3b-1e5341f3312e"
   },
   "outputs": [],
   "source": [
    "%%bigquery image_reports_df\n",
    "SELECT * FROM `multimodal.image_reports`"
   ]
  },
  {
   "cell_type": "code",
   "execution_count": null,
   "metadata": {
    "colab": {
     "base_uri": "https://localhost:8080/"
    },
    "executionInfo": {
     "elapsed": 136,
     "status": "ok",
     "timestamp": 1736960787195,
     "user": {
      "displayName": "",
      "userId": ""
     },
     "user_tz": 360
    },
    "id": "cNWTTydb7jkl",
    "outputId": "4eee7352-f08d-405f-e356-02312c3441fe"
   },
   "outputs": [],
   "source": [
    "len(image_reports_df)"
   ]
  },
  {
   "cell_type": "code",
   "execution_count": null,
   "metadata": {
    "colab": {
     "base_uri": "https://localhost:8080/",
     "height": 81,
     "referenced_widgets": [
      "8c05b86e985a403ab6d35800379ff4ef",
      "12892ef63c9b453bbd82e269a68f8d4f",
      "d8c9aeee8cbd48a2ad083200f7f51bd9",
      "7dc724b1ace54445b74f4acd1b59ca37",
      "0630623feb5948c98afccf14f2a588ea",
      "9b8eae1de5ac454d9f8cb78f6263b0e6",
      "85529b4c65f94c0c9b1929543451feca",
      "b990c07479fa4069a73fa174eab454b9",
      "e47cd158fa034ba6940e7a43cf512b20",
      "83c44ba28cc84b68a54cb0c477f43f28",
      "540e3804424b409cb1d35d85b820a9e3",
      "6d32ea25c7d44510b5394672da4d2f69",
      "041e3c4929774726b8ca2c455124c488",
      "8fbf81965e8c4b21a3c2582a093af404",
      "6ca5fa558a8843d2af8729e5a46d91ad",
      "c70717705e024fe5bb190cef04381675",
      "76823973ec0847df9f6afc8f2f703cc9",
      "ba9a83af6a434d979421d9cb14c184f6",
      "1a6efd69313a46fa9bedbe9e518292cc",
      "ac4a1e1c032c4a669e5a942412f23d5f",
      "db090b09249d4e83bf385ef979631935",
      "c52b873345e04e15bbd68b68a58972db"
     ]
    },
    "executionInfo": {
     "elapsed": 3024,
     "status": "ok",
     "timestamp": 1736960701901,
     "user": {
      "displayName": "",
      "userId": ""
     },
     "user_tz": 360
    },
    "id": "DTDpz3Rx7El4",
    "outputId": "cc8340ea-9d81-4479-94e6-7fa390d998f2"
   },
   "outputs": [],
   "source": [
    "%%bigquery image_embeddings_df\n",
    "SELECT * FROM `multimodal.image_reports_vector_db`"
   ]
  },
  {
   "cell_type": "code",
   "execution_count": null,
   "metadata": {
    "colab": {
     "base_uri": "https://localhost:8080/"
    },
    "executionInfo": {
     "elapsed": 133,
     "status": "ok",
     "timestamp": 1736960841665,
     "user": {
      "displayName": "",
      "userId": ""
     },
     "user_tz": 360
    },
    "id": "POm3f4NLidsJ",
    "outputId": "45cd36b7-473b-42e0-f999-a5914fee13ed"
   },
   "outputs": [],
   "source": [
    "len(image_embeddings_df)"
   ]
  },
  {
   "cell_type": "markdown",
   "metadata": {
    "id": "YCrM4k-NkdSy"
   },
   "source": [
    "Let's preview some of these image reports"
   ]
  },
  {
   "cell_type": "code",
   "execution_count": null,
   "metadata": {
    "colab": {
     "base_uri": "https://localhost:8080/",
     "height": 1000
    },
    "executionInfo": {
     "elapsed": 5,
     "status": "ok",
     "timestamp": 1736952710553,
     "user": {
      "displayName": "",
      "userId": ""
     },
     "user_tz": 360
    },
    "id": "itFJzBFNr72l",
    "outputId": "9873c7f2-f936-42ea-9d2b-4a6ea03b01f5"
   },
   "outputs": [],
   "source": [
    "image_reports_df.head()"
   ]
  },
  {
   "cell_type": "markdown",
   "metadata": {
    "id": "HWmaBmF5m7wk"
   },
   "source": [
    "## Set up Document Retriever"
   ]
  },
  {
   "cell_type": "markdown",
   "metadata": {
    "id": "lQZRgFEwkxP3"
   },
   "source": [
    "We're using BigQuery `VECTOR_SEARCH` to power our document (image) retriever.\n",
    "To faciliate the retrieval, we'll wrap the BigQuery SQL logic in a search helper function as we did in prior notebook."
   ]
  },
  {
   "cell_type": "markdown",
   "metadata": {
    "id": "WV_sH-wSFyd-"
   },
   "source": [
    "### Define search helper function"
   ]
  },
  {
   "cell_type": "markdown",
   "metadata": {
    "id": "zP4TMXJaoq8_"
   },
   "source": [
    "Let's define this utility function for semantic search. This function generates the text embedding for the test query using the same `text_embedding_model` (and same task type), then runs the `VECTOR_SEARCH` query against the base table of embeddings for the vectors, that is `reports_vector_db` table. It then appends the authenticated url link to preview the results including the image."
   ]
  },
  {
   "cell_type": "code",
   "execution_count": null,
   "metadata": {
    "executionInfo": {
     "elapsed": 4,
     "status": "ok",
     "timestamp": 1736958155765,
     "user": {
      "displayName": "",
      "userId": ""
     },
     "user_tz": 360
    },
    "id": "bz-RnhB921xi"
   },
   "outputs": [],
   "source": [
    "def run_semantic_search(query:str, top_k:int):\n",
    "  escaped_query = query.replace(\"'\", \"''\").replace(\"\\\\\", \"\\\\\\\\\")\n",
    "\n",
    "  search_terms_embeddings_query = f\"\"\"\n",
    "    SELECT\n",
    "      query.content AS search, distance,\n",
    "      RANK() OVER (ORDER BY distance ASC) as rank,  -- Calculate rank based on distance\n",
    "      base.report_id, base.bus_stop_id, base.uri, base.description,\n",
    "      CONCAT(\"https://storage.mtls.cloud.google.com/\", SPLIT(base.uri, \"gs://\")[OFFSET(1)]) AS url,\n",
    "      base.cleanliness_level, base.safety_level\n",
    "    FROM\n",
    "      VECTOR_SEARCH(\n",
    "        TABLE `multimodal.image_reports_vector_db`,\n",
    "        'embedding',\n",
    "        (\n",
    "          SELECT * FROM ML.GENERATE_EMBEDDING(\n",
    "          MODEL `multimodal.text_embedding_model`,\n",
    "          (\n",
    "            SELECT '{escaped_query}' AS content\n",
    "          ),\n",
    "          STRUCT('SEMANTIC_SIMILARITY' as task_type))\n",
    "        ),\n",
    "        top_k => {top_k},\n",
    "        distance_type => 'COSINE'\n",
    "      )\n",
    "  \"\"\"\n",
    "\n",
    "  return client.query(search_terms_embeddings_query).to_dataframe()"
   ]
  },
  {
   "cell_type": "markdown",
   "metadata": {
    "id": "H7hMgttCoApZ"
   },
   "source": [
    "### Run retriever"
   ]
  },
  {
   "cell_type": "markdown",
   "metadata": {
    "id": "Ja4Op-athYy-"
   },
   "source": [
    "Let's test our retriever using the query \"broken glass\":"
   ]
  },
  {
   "cell_type": "code",
   "execution_count": null,
   "metadata": {
    "colab": {
     "base_uri": "https://localhost:8080/",
     "height": 788
    },
    "executionInfo": {
     "elapsed": 2900,
     "status": "ok",
     "timestamp": 1736958201060,
     "user": {
      "displayName": "",
      "userId": ""
     },
     "user_tz": 360
    },
    "id": "7c8xtt1QhbPV",
    "outputId": "d3860e13-d7a2-4177-9dcc-948db3c6b668"
   },
   "outputs": [],
   "source": [
    "query = \"broken glass\"\n",
    "top_k = 3\n",
    "retrieved_docs_df = run_semantic_search(query, top_k)\n",
    "\n",
    "retrieved_docs_df['image'] = retrieved_docs_df['url'].apply(preview_image)\n",
    "\n",
    "# Display the DataFrame with embedded images\n",
    "HTML(retrieved_docs_df.sort_values('rank')[['bus_stop_id', 'uri', 'rank', 'image', 'description']].to_html(escape=False))"
   ]
  },
  {
   "cell_type": "markdown",
   "metadata": {},
   "source": [
    "The retrieved images should all have broken glass, as shown in the output screenshot below. Note the underlying search is done against the actual image description embeddings, and does not take into account the image file name."
   ]
  },
  {
   "cell_type": "markdown",
   "metadata": {},
   "source": [
    "![search results to broken glass query](../docs/images/nb2-run-retriever.png)"
   ]
  },
  {
   "cell_type": "markdown",
   "metadata": {
    "id": "4YzIjJJAarf9"
   },
   "source": [
    "## Set up DeepEval to use Vertex AI"
   ]
  },
  {
   "cell_type": "markdown",
   "metadata": {
    "id": "LnSMxWUje9e7"
   },
   "source": [
    "### Define Gemini as multimodal evaluation model"
   ]
  },
  {
   "cell_type": "code",
   "execution_count": null,
   "metadata": {
    "executionInfo": {
     "elapsed": 3309,
     "status": "ok",
     "timestamp": 1736952717095,
     "user": {
      "displayName": "",
      "userId": ""
     },
     "user_tz": 360
    },
    "id": "Pl7SPDFnaTLs"
   },
   "outputs": [],
   "source": [
    "from vertexai.generative_models import GenerativeModel, GenerationConfig, Part, Image, HarmCategory, HarmBlockThreshold\n",
    "from deepeval.models.base_model import DeepEvalBaseMLLM\n",
    "from deepeval.test_case import MLLMImage\n",
    "from pydantic import BaseModel\n",
    "from typing import Optional, List, Dict, Tuple, Union\n",
    "\n",
    "class MultimodalGoogleVertexAI(DeepEvalBaseMLLM):\n",
    "    \"\"\"Class that implements Vertex AI for DeepEval\"\"\"\n",
    "    def __init__(self, model_name, *args, **kwargs):\n",
    "        super().__init__(model_name, *args, **kwargs)\n",
    "        self.model = self.load_model(*args, **kwargs)\n",
    "\n",
    "    def load_model(self, *args, **kwargs):\n",
    "        # Initialize safety filters for Vertex AI model\n",
    "        # This is important to ensure no evaluation responses are blocked\n",
    "        safety_settings = {\n",
    "            HarmCategory.HARM_CATEGORY_UNSPECIFIED: HarmBlockThreshold.BLOCK_NONE,\n",
    "            HarmCategory.HARM_CATEGORY_DANGEROUS_CONTENT: HarmBlockThreshold.BLOCK_NONE,\n",
    "            HarmCategory.HARM_CATEGORY_HATE_SPEECH: HarmBlockThreshold.BLOCK_NONE,\n",
    "            HarmCategory.HARM_CATEGORY_HARASSMENT: HarmBlockThreshold.BLOCK_NONE,\n",
    "            HarmCategory.HARM_CATEGORY_SEXUALLY_EXPLICIT: HarmBlockThreshold.BLOCK_NONE\n",
    "        }\n",
    "\n",
    "        vertexai.init(project=kwargs['project'], location=kwargs['location'])\n",
    "\n",
    "        return GenerativeModel(\n",
    "            model_name=self.model_name,\n",
    "            safety_settings=safety_settings)\n",
    "\n",
    "    def generate_prompt(\n",
    "        self, multimodal_input: List[Union[str, MLLMImage]] = []\n",
    "    ):\n",
    "        prompt = []\n",
    "        for ele in multimodal_input:\n",
    "            if isinstance(ele, str):\n",
    "                prompt.append(ele)\n",
    "            elif isinstance(ele, MLLMImage):\n",
    "                if ele.local == True:\n",
    "                    image = Part.from_image(Image.load_from_file(ele.url))\n",
    "                else:\n",
    "                    image = Part.from_uri(uri=ele.url, mime_type=\"image/jpeg\")\n",
    "\n",
    "                prompt.append(image)\n",
    "            else:\n",
    "                raise ValueError(f\"Invalid input type: {type(ele)}\")\n",
    "\n",
    "        return prompt\n",
    "\n",
    "    def generate(\n",
    "        self, multimodal_input: List[Union[str, MLLMImage]], schema: Optional[BaseModel] = None\n",
    "    ) -> Tuple[str, float]:\n",
    "\n",
    "        prompt = self.generate_prompt(multimodal_input)\n",
    "        if schema is not None:\n",
    "            response = self.model.generate_content(prompt, generation_config=GenerationConfig(\n",
    "                response_mime_type=\"application/json\", response_schema=schema\n",
    "            ))\n",
    "        else:\n",
    "            response = self.model.generate_content(prompt)\n",
    "        \n",
    "        return response.text\n",
    "\n",
    "    async def a_generate(\n",
    "        self, multimodal_input: List[Union[str, MLLMImage]], schema: Optional[BaseModel] = None\n",
    "    ) -> Tuple[str, float]:\n",
    "        prompt = self.generate_prompt(multimodal_input)\n",
    "        if schema is not None:\n",
    "            response = await self.model.generate_content_async(prompt, generation_config=GenerationConfig(\n",
    "                response_mime_type=\"application/json\", response_schema=schema\n",
    "            ))\n",
    "        else:\n",
    "            response = await self.model.generate_content_async(prompt)\n",
    "        \n",
    "        return response.text\n",
    "\n",
    "    def get_model_name(self) -> str:\n",
    "        return self.model_name\n"
   ]
  },
  {
   "cell_type": "markdown",
   "metadata": {
    "id": "SiNOCGRUdqsr"
   },
   "source": [
    "Let's instantiate the Vertex AI wrapper class to use Gemini 1.5 Pro for evaluating metrics criteria in subsequent section."
   ]
  },
  {
   "cell_type": "code",
   "execution_count": null,
   "metadata": {
    "executionInfo": {
     "elapsed": 123,
     "status": "ok",
     "timestamp": 1736952811709,
     "user": {
      "displayName": "",
      "userId": ""
     },
     "user_tz": 360
    },
    "id": "e8FcqtB_dzcy"
   },
   "outputs": [],
   "source": [
    "gemini_pro = MultimodalGoogleVertexAI(\n",
    "    model_name=\"gemini-1.5-pro-001\",\n",
    "    project=PROJECT_ID,\n",
    "    location=REGION\n",
    ")"
   ]
  },
  {
   "cell_type": "markdown",
   "metadata": {
    "id": "rmsT9IIEp4Yt"
   },
   "source": [
    "### Evaluate sample test case"
   ]
  },
  {
   "cell_type": "markdown",
   "metadata": {
    "id": "_asJpjvmqUS7"
   },
   "source": [
    "Let's go back to our image search results from \"broken glass\" query where we got 3 correctly identified broken glass images. Before we measure the recall and precision, let's add one false positive image `MA-01.jpg` for testing purposes:"
   ]
  },
  {
   "cell_type": "code",
   "execution_count": null,
   "metadata": {
    "colab": {
     "base_uri": "https://localhost:8080/"
    },
    "executionInfo": {
     "elapsed": 169,
     "status": "ok",
     "timestamp": 1736959030732,
     "user": {
      "displayName": "",
      "userId": ""
     },
     "user_tz": 360
    },
    "id": "KAl-umMh02El",
    "outputId": "54a52c67-d453-4e62-9143-68ee886eb2cc"
   },
   "outputs": [],
   "source": [
    "retrieved_docs = retrieved_docs_df.sort_values('rank')['uri'].values.tolist()\n",
    "retrieved_docs.append(f\"{IMAGE_PATH}/MA-01.jpg\")\n",
    "retrieved_docs"
   ]
  },
  {
   "cell_type": "markdown",
   "metadata": {},
   "source": [
    "The `retrieved_docs` list should contain 4 images including the last one we just manually appended:"
   ]
  },
  {
   "cell_type": "markdown",
   "metadata": {},
   "source": [
    "![list of image uris for our first test run](../docs/images/nb2-evaluate-sample-test-case1.png)"
   ]
  },
  {
   "cell_type": "markdown",
   "metadata": {
    "id": "g44ReJyr2Oyb"
   },
   "source": [
    " Given there are 4 images, with the first 3 being relevant and the last is non-relevant, we should see the following results:\n",
    " - contextual recall should be equal to 3/4 = 0.75\n",
    " - contextual precision should be equal to 1 since all relevant images rank higher"
   ]
  },
  {
   "cell_type": "code",
   "execution_count": null,
   "metadata": {
    "colab": {
     "base_uri": "https://localhost:8080/",
     "height": 312,
     "referenced_widgets": [
      "21a2c98d61be4bf6b74e791f6aadb99f",
      "e4b755f1722142e28b90c686f10ffb46",
      "e58e1b77c9f24102878b8acdb3830368",
      "d15d487ece40492095929233f1d2a1a3"
     ]
    },
    "executionInfo": {
     "elapsed": 10140,
     "status": "ok",
     "timestamp": 1736960367188,
     "user": {
      "displayName": "",
      "userId": ""
     },
     "user_tz": 360
    },
    "id": "9ubcKnbTz16O",
    "outputId": "dffb97d5-ef66-4088-ed23-a8940c35c9ef"
   },
   "outputs": [],
   "source": [
    "from deepeval.test_case import MLLMTestCase, MLLMImage\n",
    "from deepeval.metrics import MultimodalContextualRecallMetric, MultimodalContextualPrecisionMetric\n",
    "\n",
    "test_case = MLLMTestCase(\n",
    "    input=[\"broken glass\"],\n",
    "    actual_output = [],\n",
    "    expected_output=[f\"Node {i} image shows broken glass in or around the sidewalk\" for i in enumerate(retrieved_docs)],\n",
    "    retrieval_context=[MLLMImage(uri) for uri in retrieved_docs]\n",
    ")\n",
    "\n",
    "recall_metric = MultimodalContextualRecallMetric(model=gemini_pro)\n",
    "precision_metric = MultimodalContextualPrecisionMetric(model=gemini_pro)\n",
    "\n",
    "print(\"Evaluating Contextual Recall:\")\n",
    "recall_metric.measure(test_case)\n",
    "print(\"Score: \", recall_metric.score)\n",
    "print(\"Reason: \", recall_metric.reason)\n",
    "for verdict in recall_metric.verdicts: print(verdict)\n",
    "\n",
    "print(\"Evaluating Contextual Precision:\")\n",
    "precision_metric.measure(test_case)\n",
    "print(\"Score: \", precision_metric.score)\n",
    "print(\"Reason: \", precision_metric.reason)\n",
    "for verdict in precision_metric.verdicts: print(verdict)"
   ]
  },
  {
   "cell_type": "markdown",
   "metadata": {},
   "source": [
    "![evaluation metrics of sample test case](../docs/images/nb2-evaluate-sample-test-case2.png)"
   ]
  },
  {
   "cell_type": "markdown",
   "metadata": {
    "id": "lA7lWT3Xobfx"
   },
   "source": [
    "## Define Multiple Test Cases"
   ]
  },
  {
   "cell_type": "markdown",
   "metadata": {
    "id": "X4kakQh6gLFm"
   },
   "source": [
    "Let's create a helper function which we'll use to create several LLM test cases given different queries."
   ]
  },
  {
   "cell_type": "code",
   "execution_count": null,
   "metadata": {
    "executionInfo": {
     "elapsed": 220,
     "status": "ok",
     "timestamp": 1736954964292,
     "user": {
      "displayName": "",
      "userId": ""
     },
     "user_tz": 360
    },
    "id": "fTe9m28Fdrfh"
   },
   "outputs": [],
   "source": [
    "from deepeval.test_case import MLLMTestCase, MLLMImage\n",
    "\n",
    "def create_llm_test_case(query: str, top_k: int) -> MLLMTestCase:\n",
    "    \"\"\"\n",
    "    Creates MLLMTestCase given textual query and top_k arguments\n",
    "\n",
    "    Args:\n",
    "        query: textual query to execute.\n",
    "        top_k: The number of top results to consider.\n",
    "\n",
    "    Returns:\n",
    "        A MLLMTestCase object\n",
    "    \"\"\"\n",
    "    print(f\"Creating new test case: search {top_k} '{query}' images\")\n",
    "    # Run semantic search and retrieve documents\n",
    "    retrieved_docs_df = run_semantic_search(query, top_k)\n",
    "    retrieved_docs = retrieved_docs_df.sort_values('rank')['uri'].values.tolist()\n",
    "    print('\\n'.join(map(str, retrieved_docs)))\n",
    "\n",
    "    # Create test case comparing retrieved documents against expected documents attributes\n",
    "    test_case = MLLMTestCase(\n",
    "      input=[query],\n",
    "      actual_output = [],\n",
    "      # expected_output=[f\"The image shows noticeable amount of ${query}\"] * len(retrieved_docs),\n",
    "      expected_output=[f\"Node {i} image shows ${query} in or around the sidewalk\" for i in enumerate(retrieved_docs)],\n",
    "      retrieval_context=[MLLMImage(uri) for uri in retrieved_docs]\n",
    "    )\n",
    "\n",
    "    return test_case"
   ]
  },
  {
   "cell_type": "markdown",
   "metadata": {
    "id": "SkFq6Ms6mhMx"
   },
   "source": [
    "Now let's generate different test cases for the following sample searches:\n",
    "- broken glass\n",
    "- damaged bench\n",
    "- excessive litter\n",
    "- graffiti\n",
    "\n",
    "This will run the different searches and store the results for subsequent metrics calculation."
   ]
  },
  {
   "cell_type": "code",
   "execution_count": null,
   "metadata": {
    "colab": {
     "base_uri": "https://localhost:8080/"
    },
    "executionInfo": {
     "elapsed": 8007,
     "status": "ok",
     "timestamp": 1736955909324,
     "user": {
      "displayName": "",
      "userId": ""
     },
     "user_tz": 360
    },
    "id": "g_o6WJ-kmZKP",
    "outputId": "08addf75-c781-4e47-a565-56d0030561a6"
   },
   "outputs": [],
   "source": [
    "queries = [\"broken glass\", \"damaged bench\", \"excessive litter\", \"graffiti\"]\n",
    "top_k = 3\n",
    "test_cases = [create_llm_test_case(query, top_k) for query in queries]"
   ]
  },
  {
   "cell_type": "markdown",
   "metadata": {},
   "source": [
    "You should expect an output as follows, including the list of retrieved image uris for each test case."
   ]
  },
  {
   "cell_type": "markdown",
   "metadata": {},
   "source": [
    "![create and run test cases screenshot](../docs/images/nb2-define-test-cases.png)"
   ]
  },
  {
   "cell_type": "markdown",
   "metadata": {
    "id": "wZnHqNAVoXU7"
   },
   "source": [
    "## Calculate Metrics"
   ]
  },
  {
   "cell_type": "markdown",
   "metadata": {},
   "source": [
    "As mentioned above, measuring both contextual recall and precision allows us to comprehensively evaluate the accuracy of our semantic search."
   ]
  },
  {
   "cell_type": "markdown",
   "metadata": {
    "id": "igEvnDU9j35p"
   },
   "source": [
    "### Measure Contextual Recall"
   ]
  },
  {
   "cell_type": "code",
   "execution_count": null,
   "metadata": {
    "colab": {
     "base_uri": "https://localhost:8080/",
     "height": 535,
     "referenced_widgets": [
      "3881c6f34cc340129fbfb02513e77b7e",
      "000729b4a69348ccba9db1e784c5371e",
      "2e3718d8b5da4bd9a44ba0b79a0aef86",
      "d492c2ccb8be4ed6baadfe92fd08b38b",
      "faa965a9208840e0b07b188b078cf041",
      "5ac314f3d4c34804941abb6894333e31",
      "350b025d19cf45569a11ce6118ceed27",
      "a1d71b9c46e347f180656253a2d94d64"
     ]
    },
    "executionInfo": {
     "elapsed": 18033,
     "status": "ok",
     "timestamp": 1736959939579,
     "user": {
      "displayName": "",
      "userId": ""
     },
     "user_tz": 360
    },
    "id": "p4NZkKVnnPQu",
    "outputId": "3b450bf2-2c75-46ec-8a2a-bf9a6706b8dd"
   },
   "outputs": [],
   "source": [
    "from deepeval.metrics import MultimodalContextualRecallMetric\n",
    "\n",
    "recall_metric = MultimodalContextualRecallMetric(model=gemini_pro)\n",
    "avg_recall = 0\n",
    "\n",
    "# Measure metric for each test_case and display corresponding score and reason\n",
    "# Uncomment vertdicts line to include verdict for each retrieved document.\n",
    "for test_case in test_cases:\n",
    "  print(\"Query:\", test_case.input[0])\n",
    "  # print(\"Retrieved Images:\", test_case.retrieval_context)\n",
    "  recall_metric.measure(test_case)\n",
    "  print(\"Score: \", recall_metric.score)\n",
    "  print(\"Reason: \", recall_metric.reason)\n",
    "  avg_recall += recall_metric.score\n",
    "  # for verdict in recall_metric.verdicts: print(verdict)\n",
    "  print(\"\\n\")\n",
    "\n",
    "avg_recall = avg_recall / len(test_cases)\n",
    "print(f\"Average Contextual Recall: {avg_recall}\")"
   ]
  },
  {
   "cell_type": "markdown",
   "metadata": {},
   "source": [
    "Here are sample results. In this case, the search shows perfect contextual recall for all test cases. Due to probabilistic nature of LLM evaluations, you may sporadically get slightly different results."
   ]
  },
  {
   "cell_type": "markdown",
   "metadata": {},
   "source": [
    "![contextual recall sample results](../docs/images/nb2-measure-contextual-recall.png)"
   ]
  },
  {
   "cell_type": "markdown",
   "metadata": {
    "id": "dm6j0ZjilosP"
   },
   "source": [
    "### Measure Contextual Precision"
   ]
  },
  {
   "cell_type": "code",
   "execution_count": null,
   "metadata": {
    "colab": {
     "base_uri": "https://localhost:8080/",
     "height": 535,
     "referenced_widgets": [
      "25f75110bcc44de0ba6caaffd449021b",
      "3a5f45ea9c124dab8821be9eba8281b1",
      "303a2e615ed34919997b3ab77f0bdf1c",
      "2a05c43ab63c40dfb564c8c3dea4aec9",
      "4a78abb0713c4d54b569a576840ee415",
      "9952148acc474f2196d3cb2228f5dc31",
      "d273cfb0486149f0b2be53a85f0a4076",
      "25451aee122e4004908193d2c3326c73"
     ]
    },
    "executionInfo": {
     "elapsed": 16985,
     "status": "ok",
     "timestamp": 1736960141598,
     "user": {
      "displayName": "",
      "userId": ""
     },
     "user_tz": 360
    },
    "id": "9OmMkuMnlmeS",
    "outputId": "d040b0c5-c747-465b-e34c-b47394df99f9"
   },
   "outputs": [],
   "source": [
    "from deepeval.metrics import MultimodalContextualPrecisionMetric\n",
    "\n",
    "precision_metric = MultimodalContextualPrecisionMetric(model=gemini_pro)\n",
    "avg_precision = 0\n",
    "\n",
    "# Measure metric for each test_case and display corresponding score and reason\n",
    "# Uncomment vertdicts line to include verdict for each retrieved document.\n",
    "for test_case in test_cases:\n",
    "  print(\"Query:\", test_case.input[0])\n",
    "  # print(\"Retrieved Images:\", test_case.retrieval_context)\n",
    "  precision_metric.measure(test_case)\n",
    "  print(\"Score: \", precision_metric.score)\n",
    "  print(\"Reason: \", precision_metric.reason)\n",
    "  avg_precision += precision_metric.score\n",
    "  # for verdict in precision_metric.verdicts: print(verdict)\n",
    "  print(\"\\n\")\n",
    "\n",
    "avg_precision = avg_precision / len(test_cases)\n",
    "print(f\"Average Contextual Precision: {avg_precision}\")"
   ]
  },
  {
   "cell_type": "markdown",
   "metadata": {},
   "source": [
    "Below are sample results. Due to probabilistic nature of LLM evaluations, you may sporadically get slightly different results."
   ]
  },
  {
   "cell_type": "markdown",
   "metadata": {},
   "source": [
    "![contextual precision sample results](../docs/images/nb2-measure-contextual-precision.png)"
   ]
  },
  {
   "cell_type": "markdown",
   "metadata": {
    "id": "hnqRVV8e5LDn"
   },
   "source": [
    "## Summary"
   ]
  },
  {
   "cell_type": "markdown",
   "metadata": {
    "id": "3KxznYfe5R9U"
   },
   "source": [
    "In this notebook, we evaluated a multimodal image search system using DeepEval and Gemini 1.5 Pro as an LLM judge. Contextual recall and precision metrics demonstrated the effectiveness of Gemini vector embeddings and BigQuery vector search in retrieving relevant images based on textual queries. While the initial results showed high accuracy, further improvements could focus on expanding the dataset and test cases for more robust evaluation. More complex queries could be added and different embedding models and search parameters (e.g., top-k, distance type, filtering/reranking logic) including hybrid search could be explored to further improve retrieval quality. The [DeepEval framework](https://docs.confident-ai.com/) and [Vertex AI Gemini API](https://cloud.google.com/vertex-ai/generative-ai/docs/overview) provided crucial tools for this evaluation.\n",
    "\n",
    "While this notebook focused on retrieval quality of BigQuery vector search, future work could also include retrieval cost and performance (latency, throughput) analysis to provide a complete evaluation of the system's efficacy and scalability, leveraging BigQuery vector index and batch processing. Refer to this [guide](https://medium.com/google-cloud/bigquery-vector-search-a-practitioners-guide-0f85b0d988f0) for more details about scaling BigQuery vector search."
   ]
  },
  {
   "cell_type": "markdown",
   "metadata": {},
   "source": []
  }
 ],
 "metadata": {
  "colab": {
   "cell_execution_strategy": "setup",
   "provenance": [],
   "toc_visible": true
  },
  "kernelspec": {
   "display_name": "Python 3",
   "name": "python3"
  },
  "language_info": {
   "name": "python"
  },
  "widgets": {
   "application/vnd.jupyter.widget-state+json": {
    "000729b4a69348ccba9db1e784c5371e": {
     "model_module": "@jupyter-widgets/base",
     "model_module_version": "1.2.0",
     "model_name": "LayoutModel",
     "state": {
      "_model_module": "@jupyter-widgets/base",
      "_model_module_version": "1.2.0",
      "_model_name": "LayoutModel",
      "_view_count": null,
      "_view_module": "@jupyter-widgets/base",
      "_view_module_version": "1.2.0",
      "_view_name": "LayoutView",
      "align_content": null,
      "align_items": null,
      "align_self": null,
      "border": null,
      "bottom": null,
      "display": null,
      "flex": null,
      "flex_flow": null,
      "grid_area": null,
      "grid_auto_columns": null,
      "grid_auto_flow": null,
      "grid_auto_rows": null,
      "grid_column": null,
      "grid_gap": null,
      "grid_row": null,
      "grid_template_areas": null,
      "grid_template_columns": null,
      "grid_template_rows": null,
      "height": null,
      "justify_content": null,
      "justify_items": null,
      "left": null,
      "margin": null,
      "max_height": null,
      "max_width": null,
      "min_height": null,
      "min_width": null,
      "object_fit": null,
      "object_position": null,
      "order": null,
      "overflow": null,
      "overflow_x": null,
      "overflow_y": null,
      "padding": null,
      "right": null,
      "top": null,
      "visibility": null,
      "width": null
     }
    },
    "041e3c4929774726b8ca2c455124c488": {
     "model_module": "@jupyter-widgets/controls",
     "model_module_version": "1.5.0",
     "model_name": "HTMLModel",
     "state": {
      "_dom_classes": [],
      "_model_module": "@jupyter-widgets/controls",
      "_model_module_version": "1.5.0",
      "_model_name": "HTMLModel",
      "_view_count": null,
      "_view_module": "@jupyter-widgets/controls",
      "_view_module_version": "1.5.0",
      "_view_name": "HTMLView",
      "description": "",
      "description_tooltip": null,
      "layout": "IPY_MODEL_76823973ec0847df9f6afc8f2f703cc9",
      "placeholder": "​",
      "style": "IPY_MODEL_ba9a83af6a434d979421d9cb14c184f6",
      "value": "Downloading: 100%"
     }
    },
    "05718a065cb348778d80152514886c0f": {
     "model_module": "@jupyter-widgets/controls",
     "model_module_version": "1.5.0",
     "model_name": "DescriptionStyleModel",
     "state": {
      "_model_module": "@jupyter-widgets/controls",
      "_model_module_version": "1.5.0",
      "_model_name": "DescriptionStyleModel",
      "_view_count": null,
      "_view_module": "@jupyter-widgets/base",
      "_view_module_version": "1.2.0",
      "_view_name": "StyleView",
      "description_width": ""
     }
    },
    "0630623feb5948c98afccf14f2a588ea": {
     "model_module": "@jupyter-widgets/base",
     "model_module_version": "1.2.0",
     "model_name": "LayoutModel",
     "state": {
      "_model_module": "@jupyter-widgets/base",
      "_model_module_version": "1.2.0",
      "_model_name": "LayoutModel",
      "_view_count": null,
      "_view_module": "@jupyter-widgets/base",
      "_view_module_version": "1.2.0",
      "_view_name": "LayoutView",
      "align_content": null,
      "align_items": null,
      "align_self": null,
      "border": null,
      "bottom": null,
      "display": null,
      "flex": null,
      "flex_flow": null,
      "grid_area": null,
      "grid_auto_columns": null,
      "grid_auto_flow": null,
      "grid_auto_rows": null,
      "grid_column": null,
      "grid_gap": null,
      "grid_row": null,
      "grid_template_areas": null,
      "grid_template_columns": null,
      "grid_template_rows": null,
      "height": null,
      "justify_content": null,
      "justify_items": null,
      "left": null,
      "margin": null,
      "max_height": null,
      "max_width": null,
      "min_height": null,
      "min_width": null,
      "object_fit": null,
      "object_position": null,
      "order": null,
      "overflow": null,
      "overflow_x": null,
      "overflow_y": null,
      "padding": null,
      "right": null,
      "top": null,
      "visibility": null,
      "width": null
     }
    },
    "12892ef63c9b453bbd82e269a68f8d4f": {
     "model_module": "@jupyter-widgets/controls",
     "model_module_version": "1.5.0",
     "model_name": "HTMLModel",
     "state": {
      "_dom_classes": [],
      "_model_module": "@jupyter-widgets/controls",
      "_model_module_version": "1.5.0",
      "_model_name": "HTMLModel",
      "_view_count": null,
      "_view_module": "@jupyter-widgets/controls",
      "_view_module_version": "1.5.0",
      "_view_name": "HTMLView",
      "description": "",
      "description_tooltip": null,
      "layout": "IPY_MODEL_9b8eae1de5ac454d9f8cb78f6263b0e6",
      "placeholder": "​",
      "style": "IPY_MODEL_85529b4c65f94c0c9b1929543451feca",
      "value": "Job ID 76bb7900-3662-424e-a7cb-1bc7e61a1d94 successfully executed: 100%"
     }
    },
    "1a6efd69313a46fa9bedbe9e518292cc": {
     "model_module": "@jupyter-widgets/base",
     "model_module_version": "1.2.0",
     "model_name": "LayoutModel",
     "state": {
      "_model_module": "@jupyter-widgets/base",
      "_model_module_version": "1.2.0",
      "_model_name": "LayoutModel",
      "_view_count": null,
      "_view_module": "@jupyter-widgets/base",
      "_view_module_version": "1.2.0",
      "_view_name": "LayoutView",
      "align_content": null,
      "align_items": null,
      "align_self": null,
      "border": null,
      "bottom": null,
      "display": null,
      "flex": null,
      "flex_flow": null,
      "grid_area": null,
      "grid_auto_columns": null,
      "grid_auto_flow": null,
      "grid_auto_rows": null,
      "grid_column": null,
      "grid_gap": null,
      "grid_row": null,
      "grid_template_areas": null,
      "grid_template_columns": null,
      "grid_template_rows": null,
      "height": null,
      "justify_content": null,
      "justify_items": null,
      "left": null,
      "margin": null,
      "max_height": null,
      "max_width": null,
      "min_height": null,
      "min_width": null,
      "object_fit": null,
      "object_position": null,
      "order": null,
      "overflow": null,
      "overflow_x": null,
      "overflow_y": null,
      "padding": null,
      "right": null,
      "top": null,
      "visibility": null,
      "width": null
     }
    },
    "21a2c98d61be4bf6b74e791f6aadb99f": {
     "model_module": "@jupyter-widgets/output",
     "model_module_version": "1.0.0",
     "model_name": "OutputModel",
     "state": {
      "_dom_classes": [],
      "_model_module": "@jupyter-widgets/output",
      "_model_module_version": "1.0.0",
      "_model_name": "OutputModel",
      "_view_count": null,
      "_view_module": "@jupyter-widgets/output",
      "_view_module_version": "1.0.0",
      "_view_name": "OutputView",
      "layout": "IPY_MODEL_e4b755f1722142e28b90c686f10ffb46",
      "msg_id": "",
      "outputs": [
       {
        "data": {
         "text/html": "<pre style=\"white-space:pre;overflow-x:auto;line-height:normal;font-family:Menlo,'DejaVu Sans Mono',consolas,'Courier New',monospace\">✨ You're running DeepEval's latest <span style=\"color: #6a00ff; text-decoration-color: #6a00ff\">Multimodal Contextual Recall Metric</span>! <span style=\"color: #374151; text-decoration-color: #374151\">(using gemini-1.5-pro-001, strict=False, …</span>\n</pre>\n",
         "text/plain": "✨ You're running DeepEval's latest \u001b[38;2;106;0;255mMultimodal Contextual Recall Metric\u001b[0m! \u001b[38;2;55;65;81m(using gemini-1.5-pro-001, strict=False, …\u001b[0m\n"
        },
        "metadata": {},
        "output_type": "display_data"
       }
      ]
     }
    },
    "25451aee122e4004908193d2c3326c73": {
     "model_module": "@jupyter-widgets/base",
     "model_module_version": "1.2.0",
     "model_name": "LayoutModel",
     "state": {
      "_model_module": "@jupyter-widgets/base",
      "_model_module_version": "1.2.0",
      "_model_name": "LayoutModel",
      "_view_count": null,
      "_view_module": "@jupyter-widgets/base",
      "_view_module_version": "1.2.0",
      "_view_name": "LayoutView",
      "align_content": null,
      "align_items": null,
      "align_self": null,
      "border": null,
      "bottom": null,
      "display": null,
      "flex": null,
      "flex_flow": null,
      "grid_area": null,
      "grid_auto_columns": null,
      "grid_auto_flow": null,
      "grid_auto_rows": null,
      "grid_column": null,
      "grid_gap": null,
      "grid_row": null,
      "grid_template_areas": null,
      "grid_template_columns": null,
      "grid_template_rows": null,
      "height": null,
      "justify_content": null,
      "justify_items": null,
      "left": null,
      "margin": null,
      "max_height": null,
      "max_width": null,
      "min_height": null,
      "min_width": null,
      "object_fit": null,
      "object_position": null,
      "order": null,
      "overflow": null,
      "overflow_x": null,
      "overflow_y": null,
      "padding": null,
      "right": null,
      "top": null,
      "visibility": null,
      "width": null
     }
    },
    "25f75110bcc44de0ba6caaffd449021b": {
     "model_module": "@jupyter-widgets/output",
     "model_module_version": "1.0.0",
     "model_name": "OutputModel",
     "state": {
      "_dom_classes": [],
      "_model_module": "@jupyter-widgets/output",
      "_model_module_version": "1.0.0",
      "_model_name": "OutputModel",
      "_view_count": null,
      "_view_module": "@jupyter-widgets/output",
      "_view_module_version": "1.0.0",
      "_view_name": "OutputView",
      "layout": "IPY_MODEL_3a5f45ea9c124dab8821be9eba8281b1",
      "msg_id": "",
      "outputs": [
       {
        "data": {
         "text/html": "<pre style=\"white-space:pre;overflow-x:auto;line-height:normal;font-family:Menlo,'DejaVu Sans Mono',consolas,'Courier New',monospace\">✨ You're running DeepEval's latest <span style=\"color: #6a00ff; text-decoration-color: #6a00ff\">Multimodal Contextual Precision Metric</span>! <span style=\"color: #374151; text-decoration-color: #374151\">(using gemini-1.5-pro-001, strict=Fals…</span>\n</pre>\n",
         "text/plain": "✨ You're running DeepEval's latest \u001b[38;2;106;0;255mMultimodal Contextual Precision Metric\u001b[0m! \u001b[38;2;55;65;81m(using gemini-1.5-pro-001, strict=Fals…\u001b[0m\n"
        },
        "metadata": {},
        "output_type": "display_data"
       }
      ]
     }
    },
    "2a05c43ab63c40dfb564c8c3dea4aec9": {
     "model_module": "@jupyter-widgets/base",
     "model_module_version": "1.2.0",
     "model_name": "LayoutModel",
     "state": {
      "_model_module": "@jupyter-widgets/base",
      "_model_module_version": "1.2.0",
      "_model_name": "LayoutModel",
      "_view_count": null,
      "_view_module": "@jupyter-widgets/base",
      "_view_module_version": "1.2.0",
      "_view_name": "LayoutView",
      "align_content": null,
      "align_items": null,
      "align_self": null,
      "border": null,
      "bottom": null,
      "display": null,
      "flex": null,
      "flex_flow": null,
      "grid_area": null,
      "grid_auto_columns": null,
      "grid_auto_flow": null,
      "grid_auto_rows": null,
      "grid_column": null,
      "grid_gap": null,
      "grid_row": null,
      "grid_template_areas": null,
      "grid_template_columns": null,
      "grid_template_rows": null,
      "height": null,
      "justify_content": null,
      "justify_items": null,
      "left": null,
      "margin": null,
      "max_height": null,
      "max_width": null,
      "min_height": null,
      "min_width": null,
      "object_fit": null,
      "object_position": null,
      "order": null,
      "overflow": null,
      "overflow_x": null,
      "overflow_y": null,
      "padding": null,
      "right": null,
      "top": null,
      "visibility": null,
      "width": null
     }
    },
    "2e3718d8b5da4bd9a44ba0b79a0aef86": {
     "model_module": "@jupyter-widgets/output",
     "model_module_version": "1.0.0",
     "model_name": "OutputModel",
     "state": {
      "_dom_classes": [],
      "_model_module": "@jupyter-widgets/output",
      "_model_module_version": "1.0.0",
      "_model_name": "OutputModel",
      "_view_count": null,
      "_view_module": "@jupyter-widgets/output",
      "_view_module_version": "1.0.0",
      "_view_name": "OutputView",
      "layout": "IPY_MODEL_d492c2ccb8be4ed6baadfe92fd08b38b",
      "msg_id": "",
      "outputs": [
       {
        "data": {
         "text/html": "<pre style=\"white-space:pre;overflow-x:auto;line-height:normal;font-family:Menlo,'DejaVu Sans Mono',consolas,'Courier New',monospace\">✨ You're running DeepEval's latest <span style=\"color: #6a00ff; text-decoration-color: #6a00ff\">Multimodal Contextual Recall Metric</span>! <span style=\"color: #374151; text-decoration-color: #374151\">(using gemini-1.5-pro-001, strict=False, …</span>\n</pre>\n",
         "text/plain": "✨ You're running DeepEval's latest \u001b[38;2;106;0;255mMultimodal Contextual Recall Metric\u001b[0m! \u001b[38;2;55;65;81m(using gemini-1.5-pro-001, strict=False, …\u001b[0m\n"
        },
        "metadata": {},
        "output_type": "display_data"
       }
      ]
     }
    },
    "303a2e615ed34919997b3ab77f0bdf1c": {
     "model_module": "@jupyter-widgets/output",
     "model_module_version": "1.0.0",
     "model_name": "OutputModel",
     "state": {
      "_dom_classes": [],
      "_model_module": "@jupyter-widgets/output",
      "_model_module_version": "1.0.0",
      "_model_name": "OutputModel",
      "_view_count": null,
      "_view_module": "@jupyter-widgets/output",
      "_view_module_version": "1.0.0",
      "_view_name": "OutputView",
      "layout": "IPY_MODEL_2a05c43ab63c40dfb564c8c3dea4aec9",
      "msg_id": "",
      "outputs": [
       {
        "data": {
         "text/html": "<pre style=\"white-space:pre;overflow-x:auto;line-height:normal;font-family:Menlo,'DejaVu Sans Mono',consolas,'Courier New',monospace\">✨ You're running DeepEval's latest <span style=\"color: #6a00ff; text-decoration-color: #6a00ff\">Multimodal Contextual Precision Metric</span>! <span style=\"color: #374151; text-decoration-color: #374151\">(using gemini-1.5-pro-001, strict=Fals…</span>\n</pre>\n",
         "text/plain": "✨ You're running DeepEval's latest \u001b[38;2;106;0;255mMultimodal Contextual Precision Metric\u001b[0m! \u001b[38;2;55;65;81m(using gemini-1.5-pro-001, strict=Fals…\u001b[0m\n"
        },
        "metadata": {},
        "output_type": "display_data"
       }
      ]
     }
    },
    "345ac3a29a96452dbf517cd3b572add1": {
     "model_module": "@jupyter-widgets/controls",
     "model_module_version": "1.5.0",
     "model_name": "HTMLModel",
     "state": {
      "_dom_classes": [],
      "_model_module": "@jupyter-widgets/controls",
      "_model_module_version": "1.5.0",
      "_model_name": "HTMLModel",
      "_view_count": null,
      "_view_module": "@jupyter-widgets/controls",
      "_view_module_version": "1.5.0",
      "_view_name": "HTMLView",
      "description": "",
      "description_tooltip": null,
      "layout": "IPY_MODEL_b2a3307a53e3442386b89b0e1919190f",
      "placeholder": "​",
      "style": "IPY_MODEL_e1308a15b4b34e24be8bad56df974769",
      "value": ""
     }
    },
    "350b025d19cf45569a11ce6118ceed27": {
     "model_module": "@jupyter-widgets/output",
     "model_module_version": "1.0.0",
     "model_name": "OutputModel",
     "state": {
      "_dom_classes": [],
      "_model_module": "@jupyter-widgets/output",
      "_model_module_version": "1.0.0",
      "_model_name": "OutputModel",
      "_view_count": null,
      "_view_module": "@jupyter-widgets/output",
      "_view_module_version": "1.0.0",
      "_view_name": "OutputView",
      "layout": "IPY_MODEL_a1d71b9c46e347f180656253a2d94d64",
      "msg_id": "",
      "outputs": [
       {
        "data": {
         "text/html": "<pre style=\"white-space:pre;overflow-x:auto;line-height:normal;font-family:Menlo,'DejaVu Sans Mono',consolas,'Courier New',monospace\">✨ You're running DeepEval's latest <span style=\"color: #6a00ff; text-decoration-color: #6a00ff\">Multimodal Contextual Recall Metric</span>! <span style=\"color: #374151; text-decoration-color: #374151\">(using gemini-1.5-pro-001, strict=False, …</span>\n</pre>\n",
         "text/plain": "✨ You're running DeepEval's latest \u001b[38;2;106;0;255mMultimodal Contextual Recall Metric\u001b[0m! \u001b[38;2;55;65;81m(using gemini-1.5-pro-001, strict=False, …\u001b[0m\n"
        },
        "metadata": {},
        "output_type": "display_data"
       }
      ]
     }
    },
    "3881c6f34cc340129fbfb02513e77b7e": {
     "model_module": "@jupyter-widgets/output",
     "model_module_version": "1.0.0",
     "model_name": "OutputModel",
     "state": {
      "_dom_classes": [],
      "_model_module": "@jupyter-widgets/output",
      "_model_module_version": "1.0.0",
      "_model_name": "OutputModel",
      "_view_count": null,
      "_view_module": "@jupyter-widgets/output",
      "_view_module_version": "1.0.0",
      "_view_name": "OutputView",
      "layout": "IPY_MODEL_000729b4a69348ccba9db1e784c5371e",
      "msg_id": "",
      "outputs": [
       {
        "data": {
         "text/html": "<pre style=\"white-space:pre;overflow-x:auto;line-height:normal;font-family:Menlo,'DejaVu Sans Mono',consolas,'Courier New',monospace\">✨ You're running DeepEval's latest <span style=\"color: #6a00ff; text-decoration-color: #6a00ff\">Multimodal Contextual Recall Metric</span>! <span style=\"color: #374151; text-decoration-color: #374151\">(using gemini-1.5-pro-001, strict=False, …</span>\n</pre>\n",
         "text/plain": "✨ You're running DeepEval's latest \u001b[38;2;106;0;255mMultimodal Contextual Recall Metric\u001b[0m! \u001b[38;2;55;65;81m(using gemini-1.5-pro-001, strict=False, …\u001b[0m\n"
        },
        "metadata": {},
        "output_type": "display_data"
       }
      ]
     }
    },
    "3a5f45ea9c124dab8821be9eba8281b1": {
     "model_module": "@jupyter-widgets/base",
     "model_module_version": "1.2.0",
     "model_name": "LayoutModel",
     "state": {
      "_model_module": "@jupyter-widgets/base",
      "_model_module_version": "1.2.0",
      "_model_name": "LayoutModel",
      "_view_count": null,
      "_view_module": "@jupyter-widgets/base",
      "_view_module_version": "1.2.0",
      "_view_name": "LayoutView",
      "align_content": null,
      "align_items": null,
      "align_self": null,
      "border": null,
      "bottom": null,
      "display": null,
      "flex": null,
      "flex_flow": null,
      "grid_area": null,
      "grid_auto_columns": null,
      "grid_auto_flow": null,
      "grid_auto_rows": null,
      "grid_column": null,
      "grid_gap": null,
      "grid_row": null,
      "grid_template_areas": null,
      "grid_template_columns": null,
      "grid_template_rows": null,
      "height": null,
      "justify_content": null,
      "justify_items": null,
      "left": null,
      "margin": null,
      "max_height": null,
      "max_width": null,
      "min_height": null,
      "min_width": null,
      "object_fit": null,
      "object_position": null,
      "order": null,
      "overflow": null,
      "overflow_x": null,
      "overflow_y": null,
      "padding": null,
      "right": null,
      "top": null,
      "visibility": null,
      "width": null
     }
    },
    "4226ca5c70cb4abc8eab863481c49a27": {
     "model_module": "@jupyter-widgets/controls",
     "model_module_version": "1.5.0",
     "model_name": "HTMLModel",
     "state": {
      "_dom_classes": [],
      "_model_module": "@jupyter-widgets/controls",
      "_model_module_version": "1.5.0",
      "_model_name": "HTMLModel",
      "_view_count": null,
      "_view_module": "@jupyter-widgets/controls",
      "_view_module_version": "1.5.0",
      "_view_name": "HTMLView",
      "description": "",
      "description_tooltip": null,
      "layout": "IPY_MODEL_87c1083d0467444fa2b0f135317333af",
      "placeholder": "​",
      "style": "IPY_MODEL_05718a065cb348778d80152514886c0f",
      "value": "Downloading: 100%"
     }
    },
    "4a78abb0713c4d54b569a576840ee415": {
     "model_module": "@jupyter-widgets/output",
     "model_module_version": "1.0.0",
     "model_name": "OutputModel",
     "state": {
      "_dom_classes": [],
      "_model_module": "@jupyter-widgets/output",
      "_model_module_version": "1.0.0",
      "_model_name": "OutputModel",
      "_view_count": null,
      "_view_module": "@jupyter-widgets/output",
      "_view_module_version": "1.0.0",
      "_view_name": "OutputView",
      "layout": "IPY_MODEL_9952148acc474f2196d3cb2228f5dc31",
      "msg_id": "",
      "outputs": [
       {
        "data": {
         "text/html": "<pre style=\"white-space:pre;overflow-x:auto;line-height:normal;font-family:Menlo,'DejaVu Sans Mono',consolas,'Courier New',monospace\">✨ You're running DeepEval's latest <span style=\"color: #6a00ff; text-decoration-color: #6a00ff\">Multimodal Contextual Precision Metric</span>! <span style=\"color: #374151; text-decoration-color: #374151\">(using gemini-1.5-pro-001, strict=Fals…</span>\n</pre>\n",
         "text/plain": "✨ You're running DeepEval's latest \u001b[38;2;106;0;255mMultimodal Contextual Precision Metric\u001b[0m! \u001b[38;2;55;65;81m(using gemini-1.5-pro-001, strict=Fals…\u001b[0m\n"
        },
        "metadata": {},
        "output_type": "display_data"
       }
      ]
     }
    },
    "4d31b1a2cb3d4f778b37ec3deed3847d": {
     "model_module": "@jupyter-widgets/controls",
     "model_module_version": "1.5.0",
     "model_name": "FloatProgressModel",
     "state": {
      "_dom_classes": [],
      "_model_module": "@jupyter-widgets/controls",
      "_model_module_version": "1.5.0",
      "_model_name": "FloatProgressModel",
      "_view_count": null,
      "_view_module": "@jupyter-widgets/controls",
      "_view_module_version": "1.5.0",
      "_view_name": "ProgressView",
      "bar_style": "success",
      "description": "",
      "description_tooltip": null,
      "layout": "IPY_MODEL_b8fa438f0c5649bba714c050dcf5db0f",
      "max": 1,
      "min": 0,
      "orientation": "horizontal",
      "style": "IPY_MODEL_7b27e975b2be4a6ca0d446cd2a4bb527",
      "value": 1
     }
    },
    "53103ba87f9a48bfb73ffff42f10e9ca": {
     "model_module": "@jupyter-widgets/controls",
     "model_module_version": "1.5.0",
     "model_name": "DescriptionStyleModel",
     "state": {
      "_model_module": "@jupyter-widgets/controls",
      "_model_module_version": "1.5.0",
      "_model_name": "DescriptionStyleModel",
      "_view_count": null,
      "_view_module": "@jupyter-widgets/base",
      "_view_module_version": "1.2.0",
      "_view_name": "StyleView",
      "description_width": ""
     }
    },
    "540e3804424b409cb1d35d85b820a9e3": {
     "model_module": "@jupyter-widgets/controls",
     "model_module_version": "1.5.0",
     "model_name": "DescriptionStyleModel",
     "state": {
      "_model_module": "@jupyter-widgets/controls",
      "_model_module_version": "1.5.0",
      "_model_name": "DescriptionStyleModel",
      "_view_count": null,
      "_view_module": "@jupyter-widgets/base",
      "_view_module_version": "1.2.0",
      "_view_name": "StyleView",
      "description_width": ""
     }
    },
    "5ac314f3d4c34804941abb6894333e31": {
     "model_module": "@jupyter-widgets/base",
     "model_module_version": "1.2.0",
     "model_name": "LayoutModel",
     "state": {
      "_model_module": "@jupyter-widgets/base",
      "_model_module_version": "1.2.0",
      "_model_name": "LayoutModel",
      "_view_count": null,
      "_view_module": "@jupyter-widgets/base",
      "_view_module_version": "1.2.0",
      "_view_name": "LayoutView",
      "align_content": null,
      "align_items": null,
      "align_self": null,
      "border": null,
      "bottom": null,
      "display": null,
      "flex": null,
      "flex_flow": null,
      "grid_area": null,
      "grid_auto_columns": null,
      "grid_auto_flow": null,
      "grid_auto_rows": null,
      "grid_column": null,
      "grid_gap": null,
      "grid_row": null,
      "grid_template_areas": null,
      "grid_template_columns": null,
      "grid_template_rows": null,
      "height": null,
      "justify_content": null,
      "justify_items": null,
      "left": null,
      "margin": null,
      "max_height": null,
      "max_width": null,
      "min_height": null,
      "min_width": null,
      "object_fit": null,
      "object_position": null,
      "order": null,
      "overflow": null,
      "overflow_x": null,
      "overflow_y": null,
      "padding": null,
      "right": null,
      "top": null,
      "visibility": null,
      "width": null
     }
    },
    "5c12d9a18d564179b0ca292c5dede7c5": {
     "model_module": "@jupyter-widgets/controls",
     "model_module_version": "1.5.0",
     "model_name": "HTMLModel",
     "state": {
      "_dom_classes": [],
      "_model_module": "@jupyter-widgets/controls",
      "_model_module_version": "1.5.0",
      "_model_name": "HTMLModel",
      "_view_count": null,
      "_view_module": "@jupyter-widgets/controls",
      "_view_module_version": "1.5.0",
      "_view_name": "HTMLView",
      "description": "",
      "description_tooltip": null,
      "layout": "IPY_MODEL_7c9d4fb1ed1b4420a527e768facbb4af",
      "placeholder": "​",
      "style": "IPY_MODEL_62f44dc3002c4dd69536818b2bbab4c2",
      "value": ""
     }
    },
    "62f44dc3002c4dd69536818b2bbab4c2": {
     "model_module": "@jupyter-widgets/controls",
     "model_module_version": "1.5.0",
     "model_name": "DescriptionStyleModel",
     "state": {
      "_model_module": "@jupyter-widgets/controls",
      "_model_module_version": "1.5.0",
      "_model_name": "DescriptionStyleModel",
      "_view_count": null,
      "_view_module": "@jupyter-widgets/base",
      "_view_module_version": "1.2.0",
      "_view_name": "StyleView",
      "description_width": ""
     }
    },
    "6c9a06f0e39044b3819879ead50b8b72": {
     "model_module": "@jupyter-widgets/controls",
     "model_module_version": "1.5.0",
     "model_name": "FloatProgressModel",
     "state": {
      "_dom_classes": [],
      "_model_module": "@jupyter-widgets/controls",
      "_model_module_version": "1.5.0",
      "_model_name": "FloatProgressModel",
      "_view_count": null,
      "_view_module": "@jupyter-widgets/controls",
      "_view_module_version": "1.5.0",
      "_view_name": "ProgressView",
      "bar_style": "success",
      "description": "",
      "description_tooltip": null,
      "layout": "IPY_MODEL_b6fe89935d2b4208b096370d9be62296",
      "max": 74,
      "min": 0,
      "orientation": "horizontal",
      "style": "IPY_MODEL_b2932c06ab024487abecd498862b0b44",
      "value": 74
     }
    },
    "6ca5fa558a8843d2af8729e5a46d91ad": {
     "model_module": "@jupyter-widgets/controls",
     "model_module_version": "1.5.0",
     "model_name": "HTMLModel",
     "state": {
      "_dom_classes": [],
      "_model_module": "@jupyter-widgets/controls",
      "_model_module_version": "1.5.0",
      "_model_name": "HTMLModel",
      "_view_count": null,
      "_view_module": "@jupyter-widgets/controls",
      "_view_module_version": "1.5.0",
      "_view_name": "HTMLView",
      "description": "",
      "description_tooltip": null,
      "layout": "IPY_MODEL_db090b09249d4e83bf385ef979631935",
      "placeholder": "​",
      "style": "IPY_MODEL_c52b873345e04e15bbd68b68a58972db",
      "value": ""
     }
    },
    "6d32ea25c7d44510b5394672da4d2f69": {
     "model_module": "@jupyter-widgets/controls",
     "model_module_version": "1.5.0",
     "model_name": "HBoxModel",
     "state": {
      "_dom_classes": [],
      "_model_module": "@jupyter-widgets/controls",
      "_model_module_version": "1.5.0",
      "_model_name": "HBoxModel",
      "_view_count": null,
      "_view_module": "@jupyter-widgets/controls",
      "_view_module_version": "1.5.0",
      "_view_name": "HBoxView",
      "box_style": "",
      "children": [
       "IPY_MODEL_041e3c4929774726b8ca2c455124c488",
       "IPY_MODEL_8fbf81965e8c4b21a3c2582a093af404",
       "IPY_MODEL_6ca5fa558a8843d2af8729e5a46d91ad"
      ],
      "layout": "IPY_MODEL_c70717705e024fe5bb190cef04381675"
     }
    },
    "73f7667a9a164d33a6c183e9ba9c397e": {
     "model_module": "@jupyter-widgets/base",
     "model_module_version": "1.2.0",
     "model_name": "LayoutModel",
     "state": {
      "_model_module": "@jupyter-widgets/base",
      "_model_module_version": "1.2.0",
      "_model_name": "LayoutModel",
      "_view_count": null,
      "_view_module": "@jupyter-widgets/base",
      "_view_module_version": "1.2.0",
      "_view_name": "LayoutView",
      "align_content": null,
      "align_items": null,
      "align_self": null,
      "border": null,
      "bottom": null,
      "display": null,
      "flex": null,
      "flex_flow": null,
      "grid_area": null,
      "grid_auto_columns": null,
      "grid_auto_flow": null,
      "grid_auto_rows": null,
      "grid_column": null,
      "grid_gap": null,
      "grid_row": null,
      "grid_template_areas": null,
      "grid_template_columns": null,
      "grid_template_rows": null,
      "height": null,
      "justify_content": null,
      "justify_items": null,
      "left": null,
      "margin": null,
      "max_height": null,
      "max_width": null,
      "min_height": null,
      "min_width": null,
      "object_fit": null,
      "object_position": null,
      "order": null,
      "overflow": null,
      "overflow_x": null,
      "overflow_y": null,
      "padding": null,
      "right": null,
      "top": null,
      "visibility": null,
      "width": null
     }
    },
    "76823973ec0847df9f6afc8f2f703cc9": {
     "model_module": "@jupyter-widgets/base",
     "model_module_version": "1.2.0",
     "model_name": "LayoutModel",
     "state": {
      "_model_module": "@jupyter-widgets/base",
      "_model_module_version": "1.2.0",
      "_model_name": "LayoutModel",
      "_view_count": null,
      "_view_module": "@jupyter-widgets/base",
      "_view_module_version": "1.2.0",
      "_view_name": "LayoutView",
      "align_content": null,
      "align_items": null,
      "align_self": null,
      "border": null,
      "bottom": null,
      "display": null,
      "flex": null,
      "flex_flow": null,
      "grid_area": null,
      "grid_auto_columns": null,
      "grid_auto_flow": null,
      "grid_auto_rows": null,
      "grid_column": null,
      "grid_gap": null,
      "grid_row": null,
      "grid_template_areas": null,
      "grid_template_columns": null,
      "grid_template_rows": null,
      "height": null,
      "justify_content": null,
      "justify_items": null,
      "left": null,
      "margin": null,
      "max_height": null,
      "max_width": null,
      "min_height": null,
      "min_width": null,
      "object_fit": null,
      "object_position": null,
      "order": null,
      "overflow": null,
      "overflow_x": null,
      "overflow_y": null,
      "padding": null,
      "right": null,
      "top": null,
      "visibility": null,
      "width": null
     }
    },
    "7958bba55ba944e79817876ebbd5a014": {
     "model_module": "@jupyter-widgets/base",
     "model_module_version": "1.2.0",
     "model_name": "LayoutModel",
     "state": {
      "_model_module": "@jupyter-widgets/base",
      "_model_module_version": "1.2.0",
      "_model_name": "LayoutModel",
      "_view_count": null,
      "_view_module": "@jupyter-widgets/base",
      "_view_module_version": "1.2.0",
      "_view_name": "LayoutView",
      "align_content": null,
      "align_items": null,
      "align_self": null,
      "border": null,
      "bottom": null,
      "display": null,
      "flex": null,
      "flex_flow": null,
      "grid_area": null,
      "grid_auto_columns": null,
      "grid_auto_flow": null,
      "grid_auto_rows": null,
      "grid_column": null,
      "grid_gap": null,
      "grid_row": null,
      "grid_template_areas": null,
      "grid_template_columns": null,
      "grid_template_rows": null,
      "height": null,
      "justify_content": null,
      "justify_items": null,
      "left": null,
      "margin": null,
      "max_height": null,
      "max_width": null,
      "min_height": null,
      "min_width": null,
      "object_fit": null,
      "object_position": null,
      "order": null,
      "overflow": null,
      "overflow_x": null,
      "overflow_y": null,
      "padding": null,
      "right": null,
      "top": null,
      "visibility": null,
      "width": null
     }
    },
    "7b27e975b2be4a6ca0d446cd2a4bb527": {
     "model_module": "@jupyter-widgets/controls",
     "model_module_version": "1.5.0",
     "model_name": "ProgressStyleModel",
     "state": {
      "_model_module": "@jupyter-widgets/controls",
      "_model_module_version": "1.5.0",
      "_model_name": "ProgressStyleModel",
      "_view_count": null,
      "_view_module": "@jupyter-widgets/base",
      "_view_module_version": "1.2.0",
      "_view_name": "StyleView",
      "bar_color": null,
      "description_width": ""
     }
    },
    "7c9d4fb1ed1b4420a527e768facbb4af": {
     "model_module": "@jupyter-widgets/base",
     "model_module_version": "1.2.0",
     "model_name": "LayoutModel",
     "state": {
      "_model_module": "@jupyter-widgets/base",
      "_model_module_version": "1.2.0",
      "_model_name": "LayoutModel",
      "_view_count": null,
      "_view_module": "@jupyter-widgets/base",
      "_view_module_version": "1.2.0",
      "_view_name": "LayoutView",
      "align_content": null,
      "align_items": null,
      "align_self": null,
      "border": null,
      "bottom": null,
      "display": null,
      "flex": null,
      "flex_flow": null,
      "grid_area": null,
      "grid_auto_columns": null,
      "grid_auto_flow": null,
      "grid_auto_rows": null,
      "grid_column": null,
      "grid_gap": null,
      "grid_row": null,
      "grid_template_areas": null,
      "grid_template_columns": null,
      "grid_template_rows": null,
      "height": null,
      "justify_content": null,
      "justify_items": null,
      "left": null,
      "margin": null,
      "max_height": null,
      "max_width": null,
      "min_height": null,
      "min_width": null,
      "object_fit": null,
      "object_position": null,
      "order": null,
      "overflow": null,
      "overflow_x": null,
      "overflow_y": null,
      "padding": null,
      "right": null,
      "top": null,
      "visibility": null,
      "width": null
     }
    },
    "7d5fc9b577d245b9af91e7dd7460c5cf": {
     "model_module": "@jupyter-widgets/base",
     "model_module_version": "1.2.0",
     "model_name": "LayoutModel",
     "state": {
      "_model_module": "@jupyter-widgets/base",
      "_model_module_version": "1.2.0",
      "_model_name": "LayoutModel",
      "_view_count": null,
      "_view_module": "@jupyter-widgets/base",
      "_view_module_version": "1.2.0",
      "_view_name": "LayoutView",
      "align_content": null,
      "align_items": null,
      "align_self": null,
      "border": null,
      "bottom": null,
      "display": null,
      "flex": null,
      "flex_flow": null,
      "grid_area": null,
      "grid_auto_columns": null,
      "grid_auto_flow": null,
      "grid_auto_rows": null,
      "grid_column": null,
      "grid_gap": null,
      "grid_row": null,
      "grid_template_areas": null,
      "grid_template_columns": null,
      "grid_template_rows": null,
      "height": null,
      "justify_content": null,
      "justify_items": null,
      "left": null,
      "margin": null,
      "max_height": null,
      "max_width": null,
      "min_height": null,
      "min_width": null,
      "object_fit": null,
      "object_position": null,
      "order": null,
      "overflow": null,
      "overflow_x": null,
      "overflow_y": null,
      "padding": null,
      "right": null,
      "top": null,
      "visibility": null,
      "width": null
     }
    },
    "7dc724b1ace54445b74f4acd1b59ca37": {
     "model_module": "@jupyter-widgets/controls",
     "model_module_version": "1.5.0",
     "model_name": "HTMLModel",
     "state": {
      "_dom_classes": [],
      "_model_module": "@jupyter-widgets/controls",
      "_model_module_version": "1.5.0",
      "_model_name": "HTMLModel",
      "_view_count": null,
      "_view_module": "@jupyter-widgets/controls",
      "_view_module_version": "1.5.0",
      "_view_name": "HTMLView",
      "description": "",
      "description_tooltip": null,
      "layout": "IPY_MODEL_83c44ba28cc84b68a54cb0c477f43f28",
      "placeholder": "​",
      "style": "IPY_MODEL_540e3804424b409cb1d35d85b820a9e3",
      "value": ""
     }
    },
    "83c44ba28cc84b68a54cb0c477f43f28": {
     "model_module": "@jupyter-widgets/base",
     "model_module_version": "1.2.0",
     "model_name": "LayoutModel",
     "state": {
      "_model_module": "@jupyter-widgets/base",
      "_model_module_version": "1.2.0",
      "_model_name": "LayoutModel",
      "_view_count": null,
      "_view_module": "@jupyter-widgets/base",
      "_view_module_version": "1.2.0",
      "_view_name": "LayoutView",
      "align_content": null,
      "align_items": null,
      "align_self": null,
      "border": null,
      "bottom": null,
      "display": null,
      "flex": null,
      "flex_flow": null,
      "grid_area": null,
      "grid_auto_columns": null,
      "grid_auto_flow": null,
      "grid_auto_rows": null,
      "grid_column": null,
      "grid_gap": null,
      "grid_row": null,
      "grid_template_areas": null,
      "grid_template_columns": null,
      "grid_template_rows": null,
      "height": null,
      "justify_content": null,
      "justify_items": null,
      "left": null,
      "margin": null,
      "max_height": null,
      "max_width": null,
      "min_height": null,
      "min_width": null,
      "object_fit": null,
      "object_position": null,
      "order": null,
      "overflow": null,
      "overflow_x": null,
      "overflow_y": null,
      "padding": null,
      "right": null,
      "top": null,
      "visibility": null,
      "width": null
     }
    },
    "85529b4c65f94c0c9b1929543451feca": {
     "model_module": "@jupyter-widgets/controls",
     "model_module_version": "1.5.0",
     "model_name": "DescriptionStyleModel",
     "state": {
      "_model_module": "@jupyter-widgets/controls",
      "_model_module_version": "1.5.0",
      "_model_name": "DescriptionStyleModel",
      "_view_count": null,
      "_view_module": "@jupyter-widgets/base",
      "_view_module_version": "1.2.0",
      "_view_name": "StyleView",
      "description_width": ""
     }
    },
    "87c1083d0467444fa2b0f135317333af": {
     "model_module": "@jupyter-widgets/base",
     "model_module_version": "1.2.0",
     "model_name": "LayoutModel",
     "state": {
      "_model_module": "@jupyter-widgets/base",
      "_model_module_version": "1.2.0",
      "_model_name": "LayoutModel",
      "_view_count": null,
      "_view_module": "@jupyter-widgets/base",
      "_view_module_version": "1.2.0",
      "_view_name": "LayoutView",
      "align_content": null,
      "align_items": null,
      "align_self": null,
      "border": null,
      "bottom": null,
      "display": null,
      "flex": null,
      "flex_flow": null,
      "grid_area": null,
      "grid_auto_columns": null,
      "grid_auto_flow": null,
      "grid_auto_rows": null,
      "grid_column": null,
      "grid_gap": null,
      "grid_row": null,
      "grid_template_areas": null,
      "grid_template_columns": null,
      "grid_template_rows": null,
      "height": null,
      "justify_content": null,
      "justify_items": null,
      "left": null,
      "margin": null,
      "max_height": null,
      "max_width": null,
      "min_height": null,
      "min_width": null,
      "object_fit": null,
      "object_position": null,
      "order": null,
      "overflow": null,
      "overflow_x": null,
      "overflow_y": null,
      "padding": null,
      "right": null,
      "top": null,
      "visibility": null,
      "width": null
     }
    },
    "8baf4ab8fe3b434e8dca31aad4302922": {
     "model_module": "@jupyter-widgets/controls",
     "model_module_version": "1.5.0",
     "model_name": "HBoxModel",
     "state": {
      "_dom_classes": [],
      "_model_module": "@jupyter-widgets/controls",
      "_model_module_version": "1.5.0",
      "_model_name": "HBoxModel",
      "_view_count": null,
      "_view_module": "@jupyter-widgets/controls",
      "_view_module_version": "1.5.0",
      "_view_name": "HBoxView",
      "box_style": "",
      "children": [
       "IPY_MODEL_4226ca5c70cb4abc8eab863481c49a27",
       "IPY_MODEL_6c9a06f0e39044b3819879ead50b8b72",
       "IPY_MODEL_5c12d9a18d564179b0ca292c5dede7c5"
      ],
      "layout": "IPY_MODEL_7958bba55ba944e79817876ebbd5a014"
     }
    },
    "8c05b86e985a403ab6d35800379ff4ef": {
     "model_module": "@jupyter-widgets/controls",
     "model_module_version": "1.5.0",
     "model_name": "HBoxModel",
     "state": {
      "_dom_classes": [],
      "_model_module": "@jupyter-widgets/controls",
      "_model_module_version": "1.5.0",
      "_model_name": "HBoxModel",
      "_view_count": null,
      "_view_module": "@jupyter-widgets/controls",
      "_view_module_version": "1.5.0",
      "_view_name": "HBoxView",
      "box_style": "",
      "children": [
       "IPY_MODEL_12892ef63c9b453bbd82e269a68f8d4f",
       "IPY_MODEL_d8c9aeee8cbd48a2ad083200f7f51bd9",
       "IPY_MODEL_7dc724b1ace54445b74f4acd1b59ca37"
      ],
      "layout": "IPY_MODEL_0630623feb5948c98afccf14f2a588ea"
     }
    },
    "8fbf81965e8c4b21a3c2582a093af404": {
     "model_module": "@jupyter-widgets/controls",
     "model_module_version": "1.5.0",
     "model_name": "FloatProgressModel",
     "state": {
      "_dom_classes": [],
      "_model_module": "@jupyter-widgets/controls",
      "_model_module_version": "1.5.0",
      "_model_name": "FloatProgressModel",
      "_view_count": null,
      "_view_module": "@jupyter-widgets/controls",
      "_view_module_version": "1.5.0",
      "_view_name": "ProgressView",
      "bar_style": "success",
      "description": "",
      "description_tooltip": null,
      "layout": "IPY_MODEL_1a6efd69313a46fa9bedbe9e518292cc",
      "max": 74,
      "min": 0,
      "orientation": "horizontal",
      "style": "IPY_MODEL_ac4a1e1c032c4a669e5a942412f23d5f",
      "value": 74
     }
    },
    "9952148acc474f2196d3cb2228f5dc31": {
     "model_module": "@jupyter-widgets/base",
     "model_module_version": "1.2.0",
     "model_name": "LayoutModel",
     "state": {
      "_model_module": "@jupyter-widgets/base",
      "_model_module_version": "1.2.0",
      "_model_name": "LayoutModel",
      "_view_count": null,
      "_view_module": "@jupyter-widgets/base",
      "_view_module_version": "1.2.0",
      "_view_name": "LayoutView",
      "align_content": null,
      "align_items": null,
      "align_self": null,
      "border": null,
      "bottom": null,
      "display": null,
      "flex": null,
      "flex_flow": null,
      "grid_area": null,
      "grid_auto_columns": null,
      "grid_auto_flow": null,
      "grid_auto_rows": null,
      "grid_column": null,
      "grid_gap": null,
      "grid_row": null,
      "grid_template_areas": null,
      "grid_template_columns": null,
      "grid_template_rows": null,
      "height": null,
      "justify_content": null,
      "justify_items": null,
      "left": null,
      "margin": null,
      "max_height": null,
      "max_width": null,
      "min_height": null,
      "min_width": null,
      "object_fit": null,
      "object_position": null,
      "order": null,
      "overflow": null,
      "overflow_x": null,
      "overflow_y": null,
      "padding": null,
      "right": null,
      "top": null,
      "visibility": null,
      "width": null
     }
    },
    "9b8eae1de5ac454d9f8cb78f6263b0e6": {
     "model_module": "@jupyter-widgets/base",
     "model_module_version": "1.2.0",
     "model_name": "LayoutModel",
     "state": {
      "_model_module": "@jupyter-widgets/base",
      "_model_module_version": "1.2.0",
      "_model_name": "LayoutModel",
      "_view_count": null,
      "_view_module": "@jupyter-widgets/base",
      "_view_module_version": "1.2.0",
      "_view_name": "LayoutView",
      "align_content": null,
      "align_items": null,
      "align_self": null,
      "border": null,
      "bottom": null,
      "display": null,
      "flex": null,
      "flex_flow": null,
      "grid_area": null,
      "grid_auto_columns": null,
      "grid_auto_flow": null,
      "grid_auto_rows": null,
      "grid_column": null,
      "grid_gap": null,
      "grid_row": null,
      "grid_template_areas": null,
      "grid_template_columns": null,
      "grid_template_rows": null,
      "height": null,
      "justify_content": null,
      "justify_items": null,
      "left": null,
      "margin": null,
      "max_height": null,
      "max_width": null,
      "min_height": null,
      "min_width": null,
      "object_fit": null,
      "object_position": null,
      "order": null,
      "overflow": null,
      "overflow_x": null,
      "overflow_y": null,
      "padding": null,
      "right": null,
      "top": null,
      "visibility": null,
      "width": null
     }
    },
    "a1d71b9c46e347f180656253a2d94d64": {
     "model_module": "@jupyter-widgets/base",
     "model_module_version": "1.2.0",
     "model_name": "LayoutModel",
     "state": {
      "_model_module": "@jupyter-widgets/base",
      "_model_module_version": "1.2.0",
      "_model_name": "LayoutModel",
      "_view_count": null,
      "_view_module": "@jupyter-widgets/base",
      "_view_module_version": "1.2.0",
      "_view_name": "LayoutView",
      "align_content": null,
      "align_items": null,
      "align_self": null,
      "border": null,
      "bottom": null,
      "display": null,
      "flex": null,
      "flex_flow": null,
      "grid_area": null,
      "grid_auto_columns": null,
      "grid_auto_flow": null,
      "grid_auto_rows": null,
      "grid_column": null,
      "grid_gap": null,
      "grid_row": null,
      "grid_template_areas": null,
      "grid_template_columns": null,
      "grid_template_rows": null,
      "height": null,
      "justify_content": null,
      "justify_items": null,
      "left": null,
      "margin": null,
      "max_height": null,
      "max_width": null,
      "min_height": null,
      "min_width": null,
      "object_fit": null,
      "object_position": null,
      "order": null,
      "overflow": null,
      "overflow_x": null,
      "overflow_y": null,
      "padding": null,
      "right": null,
      "top": null,
      "visibility": null,
      "width": null
     }
    },
    "ac4a1e1c032c4a669e5a942412f23d5f": {
     "model_module": "@jupyter-widgets/controls",
     "model_module_version": "1.5.0",
     "model_name": "ProgressStyleModel",
     "state": {
      "_model_module": "@jupyter-widgets/controls",
      "_model_module_version": "1.5.0",
      "_model_name": "ProgressStyleModel",
      "_view_count": null,
      "_view_module": "@jupyter-widgets/base",
      "_view_module_version": "1.2.0",
      "_view_name": "StyleView",
      "bar_color": null,
      "description_width": ""
     }
    },
    "addb5bbdde8445beb7cc78508cd82dad": {
     "model_module": "@jupyter-widgets/controls",
     "model_module_version": "1.5.0",
     "model_name": "HBoxModel",
     "state": {
      "_dom_classes": [],
      "_model_module": "@jupyter-widgets/controls",
      "_model_module_version": "1.5.0",
      "_model_name": "HBoxModel",
      "_view_count": null,
      "_view_module": "@jupyter-widgets/controls",
      "_view_module_version": "1.5.0",
      "_view_name": "HBoxView",
      "box_style": "",
      "children": [
       "IPY_MODEL_e1225a3136cb4e948bb68289cdb359a8",
       "IPY_MODEL_4d31b1a2cb3d4f778b37ec3deed3847d",
       "IPY_MODEL_345ac3a29a96452dbf517cd3b572add1"
      ],
      "layout": "IPY_MODEL_73f7667a9a164d33a6c183e9ba9c397e"
     }
    },
    "b2932c06ab024487abecd498862b0b44": {
     "model_module": "@jupyter-widgets/controls",
     "model_module_version": "1.5.0",
     "model_name": "ProgressStyleModel",
     "state": {
      "_model_module": "@jupyter-widgets/controls",
      "_model_module_version": "1.5.0",
      "_model_name": "ProgressStyleModel",
      "_view_count": null,
      "_view_module": "@jupyter-widgets/base",
      "_view_module_version": "1.2.0",
      "_view_name": "StyleView",
      "bar_color": null,
      "description_width": ""
     }
    },
    "b2a3307a53e3442386b89b0e1919190f": {
     "model_module": "@jupyter-widgets/base",
     "model_module_version": "1.2.0",
     "model_name": "LayoutModel",
     "state": {
      "_model_module": "@jupyter-widgets/base",
      "_model_module_version": "1.2.0",
      "_model_name": "LayoutModel",
      "_view_count": null,
      "_view_module": "@jupyter-widgets/base",
      "_view_module_version": "1.2.0",
      "_view_name": "LayoutView",
      "align_content": null,
      "align_items": null,
      "align_self": null,
      "border": null,
      "bottom": null,
      "display": null,
      "flex": null,
      "flex_flow": null,
      "grid_area": null,
      "grid_auto_columns": null,
      "grid_auto_flow": null,
      "grid_auto_rows": null,
      "grid_column": null,
      "grid_gap": null,
      "grid_row": null,
      "grid_template_areas": null,
      "grid_template_columns": null,
      "grid_template_rows": null,
      "height": null,
      "justify_content": null,
      "justify_items": null,
      "left": null,
      "margin": null,
      "max_height": null,
      "max_width": null,
      "min_height": null,
      "min_width": null,
      "object_fit": null,
      "object_position": null,
      "order": null,
      "overflow": null,
      "overflow_x": null,
      "overflow_y": null,
      "padding": null,
      "right": null,
      "top": null,
      "visibility": null,
      "width": null
     }
    },
    "b6fe89935d2b4208b096370d9be62296": {
     "model_module": "@jupyter-widgets/base",
     "model_module_version": "1.2.0",
     "model_name": "LayoutModel",
     "state": {
      "_model_module": "@jupyter-widgets/base",
      "_model_module_version": "1.2.0",
      "_model_name": "LayoutModel",
      "_view_count": null,
      "_view_module": "@jupyter-widgets/base",
      "_view_module_version": "1.2.0",
      "_view_name": "LayoutView",
      "align_content": null,
      "align_items": null,
      "align_self": null,
      "border": null,
      "bottom": null,
      "display": null,
      "flex": null,
      "flex_flow": null,
      "grid_area": null,
      "grid_auto_columns": null,
      "grid_auto_flow": null,
      "grid_auto_rows": null,
      "grid_column": null,
      "grid_gap": null,
      "grid_row": null,
      "grid_template_areas": null,
      "grid_template_columns": null,
      "grid_template_rows": null,
      "height": null,
      "justify_content": null,
      "justify_items": null,
      "left": null,
      "margin": null,
      "max_height": null,
      "max_width": null,
      "min_height": null,
      "min_width": null,
      "object_fit": null,
      "object_position": null,
      "order": null,
      "overflow": null,
      "overflow_x": null,
      "overflow_y": null,
      "padding": null,
      "right": null,
      "top": null,
      "visibility": null,
      "width": null
     }
    },
    "b8fa438f0c5649bba714c050dcf5db0f": {
     "model_module": "@jupyter-widgets/base",
     "model_module_version": "1.2.0",
     "model_name": "LayoutModel",
     "state": {
      "_model_module": "@jupyter-widgets/base",
      "_model_module_version": "1.2.0",
      "_model_name": "LayoutModel",
      "_view_count": null,
      "_view_module": "@jupyter-widgets/base",
      "_view_module_version": "1.2.0",
      "_view_name": "LayoutView",
      "align_content": null,
      "align_items": null,
      "align_self": null,
      "border": null,
      "bottom": null,
      "display": null,
      "flex": null,
      "flex_flow": null,
      "grid_area": null,
      "grid_auto_columns": null,
      "grid_auto_flow": null,
      "grid_auto_rows": null,
      "grid_column": null,
      "grid_gap": null,
      "grid_row": null,
      "grid_template_areas": null,
      "grid_template_columns": null,
      "grid_template_rows": null,
      "height": null,
      "justify_content": null,
      "justify_items": null,
      "left": null,
      "margin": null,
      "max_height": null,
      "max_width": null,
      "min_height": null,
      "min_width": null,
      "object_fit": null,
      "object_position": null,
      "order": null,
      "overflow": null,
      "overflow_x": null,
      "overflow_y": null,
      "padding": null,
      "right": null,
      "top": null,
      "visibility": null,
      "width": null
     }
    },
    "b990c07479fa4069a73fa174eab454b9": {
     "model_module": "@jupyter-widgets/base",
     "model_module_version": "1.2.0",
     "model_name": "LayoutModel",
     "state": {
      "_model_module": "@jupyter-widgets/base",
      "_model_module_version": "1.2.0",
      "_model_name": "LayoutModel",
      "_view_count": null,
      "_view_module": "@jupyter-widgets/base",
      "_view_module_version": "1.2.0",
      "_view_name": "LayoutView",
      "align_content": null,
      "align_items": null,
      "align_self": null,
      "border": null,
      "bottom": null,
      "display": null,
      "flex": null,
      "flex_flow": null,
      "grid_area": null,
      "grid_auto_columns": null,
      "grid_auto_flow": null,
      "grid_auto_rows": null,
      "grid_column": null,
      "grid_gap": null,
      "grid_row": null,
      "grid_template_areas": null,
      "grid_template_columns": null,
      "grid_template_rows": null,
      "height": null,
      "justify_content": null,
      "justify_items": null,
      "left": null,
      "margin": null,
      "max_height": null,
      "max_width": null,
      "min_height": null,
      "min_width": null,
      "object_fit": null,
      "object_position": null,
      "order": null,
      "overflow": null,
      "overflow_x": null,
      "overflow_y": null,
      "padding": null,
      "right": null,
      "top": null,
      "visibility": null,
      "width": null
     }
    },
    "ba9a83af6a434d979421d9cb14c184f6": {
     "model_module": "@jupyter-widgets/controls",
     "model_module_version": "1.5.0",
     "model_name": "DescriptionStyleModel",
     "state": {
      "_model_module": "@jupyter-widgets/controls",
      "_model_module_version": "1.5.0",
      "_model_name": "DescriptionStyleModel",
      "_view_count": null,
      "_view_module": "@jupyter-widgets/base",
      "_view_module_version": "1.2.0",
      "_view_name": "StyleView",
      "description_width": ""
     }
    },
    "c52b873345e04e15bbd68b68a58972db": {
     "model_module": "@jupyter-widgets/controls",
     "model_module_version": "1.5.0",
     "model_name": "DescriptionStyleModel",
     "state": {
      "_model_module": "@jupyter-widgets/controls",
      "_model_module_version": "1.5.0",
      "_model_name": "DescriptionStyleModel",
      "_view_count": null,
      "_view_module": "@jupyter-widgets/base",
      "_view_module_version": "1.2.0",
      "_view_name": "StyleView",
      "description_width": ""
     }
    },
    "c70717705e024fe5bb190cef04381675": {
     "model_module": "@jupyter-widgets/base",
     "model_module_version": "1.2.0",
     "model_name": "LayoutModel",
     "state": {
      "_model_module": "@jupyter-widgets/base",
      "_model_module_version": "1.2.0",
      "_model_name": "LayoutModel",
      "_view_count": null,
      "_view_module": "@jupyter-widgets/base",
      "_view_module_version": "1.2.0",
      "_view_name": "LayoutView",
      "align_content": null,
      "align_items": null,
      "align_self": null,
      "border": null,
      "bottom": null,
      "display": null,
      "flex": null,
      "flex_flow": null,
      "grid_area": null,
      "grid_auto_columns": null,
      "grid_auto_flow": null,
      "grid_auto_rows": null,
      "grid_column": null,
      "grid_gap": null,
      "grid_row": null,
      "grid_template_areas": null,
      "grid_template_columns": null,
      "grid_template_rows": null,
      "height": null,
      "justify_content": null,
      "justify_items": null,
      "left": null,
      "margin": null,
      "max_height": null,
      "max_width": null,
      "min_height": null,
      "min_width": null,
      "object_fit": null,
      "object_position": null,
      "order": null,
      "overflow": null,
      "overflow_x": null,
      "overflow_y": null,
      "padding": null,
      "right": null,
      "top": null,
      "visibility": null,
      "width": null
     }
    },
    "d15d487ece40492095929233f1d2a1a3": {
     "model_module": "@jupyter-widgets/base",
     "model_module_version": "1.2.0",
     "model_name": "LayoutModel",
     "state": {
      "_model_module": "@jupyter-widgets/base",
      "_model_module_version": "1.2.0",
      "_model_name": "LayoutModel",
      "_view_count": null,
      "_view_module": "@jupyter-widgets/base",
      "_view_module_version": "1.2.0",
      "_view_name": "LayoutView",
      "align_content": null,
      "align_items": null,
      "align_self": null,
      "border": null,
      "bottom": null,
      "display": null,
      "flex": null,
      "flex_flow": null,
      "grid_area": null,
      "grid_auto_columns": null,
      "grid_auto_flow": null,
      "grid_auto_rows": null,
      "grid_column": null,
      "grid_gap": null,
      "grid_row": null,
      "grid_template_areas": null,
      "grid_template_columns": null,
      "grid_template_rows": null,
      "height": null,
      "justify_content": null,
      "justify_items": null,
      "left": null,
      "margin": null,
      "max_height": null,
      "max_width": null,
      "min_height": null,
      "min_width": null,
      "object_fit": null,
      "object_position": null,
      "order": null,
      "overflow": null,
      "overflow_x": null,
      "overflow_y": null,
      "padding": null,
      "right": null,
      "top": null,
      "visibility": null,
      "width": null
     }
    },
    "d273cfb0486149f0b2be53a85f0a4076": {
     "model_module": "@jupyter-widgets/output",
     "model_module_version": "1.0.0",
     "model_name": "OutputModel",
     "state": {
      "_dom_classes": [],
      "_model_module": "@jupyter-widgets/output",
      "_model_module_version": "1.0.0",
      "_model_name": "OutputModel",
      "_view_count": null,
      "_view_module": "@jupyter-widgets/output",
      "_view_module_version": "1.0.0",
      "_view_name": "OutputView",
      "layout": "IPY_MODEL_25451aee122e4004908193d2c3326c73",
      "msg_id": "",
      "outputs": [
       {
        "data": {
         "text/html": "<pre style=\"white-space:pre;overflow-x:auto;line-height:normal;font-family:Menlo,'DejaVu Sans Mono',consolas,'Courier New',monospace\">✨ You're running DeepEval's latest <span style=\"color: #6a00ff; text-decoration-color: #6a00ff\">Multimodal Contextual Precision Metric</span>! <span style=\"color: #374151; text-decoration-color: #374151\">(using gemini-1.5-pro-001, strict=Fals…</span>\n</pre>\n",
         "text/plain": "✨ You're running DeepEval's latest \u001b[38;2;106;0;255mMultimodal Contextual Precision Metric\u001b[0m! \u001b[38;2;55;65;81m(using gemini-1.5-pro-001, strict=Fals…\u001b[0m\n"
        },
        "metadata": {},
        "output_type": "display_data"
       }
      ]
     }
    },
    "d492c2ccb8be4ed6baadfe92fd08b38b": {
     "model_module": "@jupyter-widgets/base",
     "model_module_version": "1.2.0",
     "model_name": "LayoutModel",
     "state": {
      "_model_module": "@jupyter-widgets/base",
      "_model_module_version": "1.2.0",
      "_model_name": "LayoutModel",
      "_view_count": null,
      "_view_module": "@jupyter-widgets/base",
      "_view_module_version": "1.2.0",
      "_view_name": "LayoutView",
      "align_content": null,
      "align_items": null,
      "align_self": null,
      "border": null,
      "bottom": null,
      "display": null,
      "flex": null,
      "flex_flow": null,
      "grid_area": null,
      "grid_auto_columns": null,
      "grid_auto_flow": null,
      "grid_auto_rows": null,
      "grid_column": null,
      "grid_gap": null,
      "grid_row": null,
      "grid_template_areas": null,
      "grid_template_columns": null,
      "grid_template_rows": null,
      "height": null,
      "justify_content": null,
      "justify_items": null,
      "left": null,
      "margin": null,
      "max_height": null,
      "max_width": null,
      "min_height": null,
      "min_width": null,
      "object_fit": null,
      "object_position": null,
      "order": null,
      "overflow": null,
      "overflow_x": null,
      "overflow_y": null,
      "padding": null,
      "right": null,
      "top": null,
      "visibility": null,
      "width": null
     }
    },
    "d8c9aeee8cbd48a2ad083200f7f51bd9": {
     "model_module": "@jupyter-widgets/controls",
     "model_module_version": "1.5.0",
     "model_name": "FloatProgressModel",
     "state": {
      "_dom_classes": [],
      "_model_module": "@jupyter-widgets/controls",
      "_model_module_version": "1.5.0",
      "_model_name": "FloatProgressModel",
      "_view_count": null,
      "_view_module": "@jupyter-widgets/controls",
      "_view_module_version": "1.5.0",
      "_view_name": "ProgressView",
      "bar_style": "success",
      "description": "",
      "description_tooltip": null,
      "layout": "IPY_MODEL_b990c07479fa4069a73fa174eab454b9",
      "max": 1,
      "min": 0,
      "orientation": "horizontal",
      "style": "IPY_MODEL_e47cd158fa034ba6940e7a43cf512b20",
      "value": 1
     }
    },
    "db090b09249d4e83bf385ef979631935": {
     "model_module": "@jupyter-widgets/base",
     "model_module_version": "1.2.0",
     "model_name": "LayoutModel",
     "state": {
      "_model_module": "@jupyter-widgets/base",
      "_model_module_version": "1.2.0",
      "_model_name": "LayoutModel",
      "_view_count": null,
      "_view_module": "@jupyter-widgets/base",
      "_view_module_version": "1.2.0",
      "_view_name": "LayoutView",
      "align_content": null,
      "align_items": null,
      "align_self": null,
      "border": null,
      "bottom": null,
      "display": null,
      "flex": null,
      "flex_flow": null,
      "grid_area": null,
      "grid_auto_columns": null,
      "grid_auto_flow": null,
      "grid_auto_rows": null,
      "grid_column": null,
      "grid_gap": null,
      "grid_row": null,
      "grid_template_areas": null,
      "grid_template_columns": null,
      "grid_template_rows": null,
      "height": null,
      "justify_content": null,
      "justify_items": null,
      "left": null,
      "margin": null,
      "max_height": null,
      "max_width": null,
      "min_height": null,
      "min_width": null,
      "object_fit": null,
      "object_position": null,
      "order": null,
      "overflow": null,
      "overflow_x": null,
      "overflow_y": null,
      "padding": null,
      "right": null,
      "top": null,
      "visibility": null,
      "width": null
     }
    },
    "e1225a3136cb4e948bb68289cdb359a8": {
     "model_module": "@jupyter-widgets/controls",
     "model_module_version": "1.5.0",
     "model_name": "HTMLModel",
     "state": {
      "_dom_classes": [],
      "_model_module": "@jupyter-widgets/controls",
      "_model_module_version": "1.5.0",
      "_model_name": "HTMLModel",
      "_view_count": null,
      "_view_module": "@jupyter-widgets/controls",
      "_view_module_version": "1.5.0",
      "_view_name": "HTMLView",
      "description": "",
      "description_tooltip": null,
      "layout": "IPY_MODEL_7d5fc9b577d245b9af91e7dd7460c5cf",
      "placeholder": "​",
      "style": "IPY_MODEL_53103ba87f9a48bfb73ffff42f10e9ca",
      "value": "Job ID d375c960-1f80-4ed6-92ca-267abbf42fdb successfully executed: 100%"
     }
    },
    "e1308a15b4b34e24be8bad56df974769": {
     "model_module": "@jupyter-widgets/controls",
     "model_module_version": "1.5.0",
     "model_name": "DescriptionStyleModel",
     "state": {
      "_model_module": "@jupyter-widgets/controls",
      "_model_module_version": "1.5.0",
      "_model_name": "DescriptionStyleModel",
      "_view_count": null,
      "_view_module": "@jupyter-widgets/base",
      "_view_module_version": "1.2.0",
      "_view_name": "StyleView",
      "description_width": ""
     }
    },
    "e47cd158fa034ba6940e7a43cf512b20": {
     "model_module": "@jupyter-widgets/controls",
     "model_module_version": "1.5.0",
     "model_name": "ProgressStyleModel",
     "state": {
      "_model_module": "@jupyter-widgets/controls",
      "_model_module_version": "1.5.0",
      "_model_name": "ProgressStyleModel",
      "_view_count": null,
      "_view_module": "@jupyter-widgets/base",
      "_view_module_version": "1.2.0",
      "_view_name": "StyleView",
      "bar_color": null,
      "description_width": ""
     }
    },
    "e4b755f1722142e28b90c686f10ffb46": {
     "model_module": "@jupyter-widgets/base",
     "model_module_version": "1.2.0",
     "model_name": "LayoutModel",
     "state": {
      "_model_module": "@jupyter-widgets/base",
      "_model_module_version": "1.2.0",
      "_model_name": "LayoutModel",
      "_view_count": null,
      "_view_module": "@jupyter-widgets/base",
      "_view_module_version": "1.2.0",
      "_view_name": "LayoutView",
      "align_content": null,
      "align_items": null,
      "align_self": null,
      "border": null,
      "bottom": null,
      "display": null,
      "flex": null,
      "flex_flow": null,
      "grid_area": null,
      "grid_auto_columns": null,
      "grid_auto_flow": null,
      "grid_auto_rows": null,
      "grid_column": null,
      "grid_gap": null,
      "grid_row": null,
      "grid_template_areas": null,
      "grid_template_columns": null,
      "grid_template_rows": null,
      "height": null,
      "justify_content": null,
      "justify_items": null,
      "left": null,
      "margin": null,
      "max_height": null,
      "max_width": null,
      "min_height": null,
      "min_width": null,
      "object_fit": null,
      "object_position": null,
      "order": null,
      "overflow": null,
      "overflow_x": null,
      "overflow_y": null,
      "padding": null,
      "right": null,
      "top": null,
      "visibility": null,
      "width": null
     }
    },
    "e58e1b77c9f24102878b8acdb3830368": {
     "model_module": "@jupyter-widgets/output",
     "model_module_version": "1.0.0",
     "model_name": "OutputModel",
     "state": {
      "_dom_classes": [],
      "_model_module": "@jupyter-widgets/output",
      "_model_module_version": "1.0.0",
      "_model_name": "OutputModel",
      "_view_count": null,
      "_view_module": "@jupyter-widgets/output",
      "_view_module_version": "1.0.0",
      "_view_name": "OutputView",
      "layout": "IPY_MODEL_d15d487ece40492095929233f1d2a1a3",
      "msg_id": "",
      "outputs": [
       {
        "data": {
         "text/html": "<pre style=\"white-space:pre;overflow-x:auto;line-height:normal;font-family:Menlo,'DejaVu Sans Mono',consolas,'Courier New',monospace\">✨ You're running DeepEval's latest <span style=\"color: #6a00ff; text-decoration-color: #6a00ff\">Multimodal Contextual Precision Metric</span>! <span style=\"color: #374151; text-decoration-color: #374151\">(using gemini-1.5-pro-001, strict=Fals…</span>\n</pre>\n",
         "text/plain": "✨ You're running DeepEval's latest \u001b[38;2;106;0;255mMultimodal Contextual Precision Metric\u001b[0m! \u001b[38;2;55;65;81m(using gemini-1.5-pro-001, strict=Fals…\u001b[0m\n"
        },
        "metadata": {},
        "output_type": "display_data"
       }
      ]
     }
    },
    "faa965a9208840e0b07b188b078cf041": {
     "model_module": "@jupyter-widgets/output",
     "model_module_version": "1.0.0",
     "model_name": "OutputModel",
     "state": {
      "_dom_classes": [],
      "_model_module": "@jupyter-widgets/output",
      "_model_module_version": "1.0.0",
      "_model_name": "OutputModel",
      "_view_count": null,
      "_view_module": "@jupyter-widgets/output",
      "_view_module_version": "1.0.0",
      "_view_name": "OutputView",
      "layout": "IPY_MODEL_5ac314f3d4c34804941abb6894333e31",
      "msg_id": "",
      "outputs": [
       {
        "data": {
         "text/html": "<pre style=\"white-space:pre;overflow-x:auto;line-height:normal;font-family:Menlo,'DejaVu Sans Mono',consolas,'Courier New',monospace\">✨ You're running DeepEval's latest <span style=\"color: #6a00ff; text-decoration-color: #6a00ff\">Multimodal Contextual Recall Metric</span>! <span style=\"color: #374151; text-decoration-color: #374151\">(using gemini-1.5-pro-001, strict=False, …</span>\n</pre>\n",
         "text/plain": "✨ You're running DeepEval's latest \u001b[38;2;106;0;255mMultimodal Contextual Recall Metric\u001b[0m! \u001b[38;2;55;65;81m(using gemini-1.5-pro-001, strict=False, …\u001b[0m\n"
        },
        "metadata": {},
        "output_type": "display_data"
       }
      ]
     }
    }
   }
  }
 },
 "nbformat": 4,
 "nbformat_minor": 0
}
